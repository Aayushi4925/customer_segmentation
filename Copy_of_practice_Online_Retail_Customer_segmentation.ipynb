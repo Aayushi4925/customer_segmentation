{
  "nbformat": 4,
  "nbformat_minor": 0,
  "metadata": {
    "colab": {
      "provenance": [],
      "include_colab_link": true
    },
    "kernelspec": {
      "name": "python3",
      "display_name": "Python 3"
    },
    "language_info": {
      "name": "python"
    }
  },
  "cells": [
    {
      "cell_type": "markdown",
      "metadata": {
        "id": "view-in-github",
        "colab_type": "text"
      },
      "source": [
        "<a href=\"https://colab.research.google.com/github/Aayushi4925/customer_segmentation/blob/main/Copy_of_practice_Online_Retail_Customer_segmentation.ipynb\" target=\"_parent\"><img src=\"https://colab.research.google.com/assets/colab-badge.svg\" alt=\"Open In Colab\"/></a>"
      ]
    },
    {
      "cell_type": "markdown",
      "source": [
        "# Project Name - Online Retail Customer Segmentation\n",
        "Project Type - Unsupervised ML\n",
        "\n"
      ],
      "metadata": {
        "id": "tex0FGfglK50"
      }
    },
    {
      "cell_type": "markdown",
      "source": [
        "# Project Summary-"
      ],
      "metadata": {
        "id": "-nQL6fIxlVPi"
      }
    },
    {
      "cell_type": "markdown",
      "source": [
        "# GitHub Link-"
      ],
      "metadata": {
        "id": "Vat--rvkldKP"
      }
    },
    {
      "cell_type": "markdown",
      "source": [
        "\n",
        "# Project Title : Extraction/identification of major topics & themes discussed in news articles.\n",
        "\n",
        "# Problem Description\n",
        "\n",
        "In this project, your task is to identify major customer segments on a transnational data set which contains all the transactions occurring between 01/12/2010 and 09/12/2011 for a UK-based and registered non-store online retail.The company mainly sells unique all-occasion gifts. Many customers of the company are wholesalers."
      ],
      "metadata": {
        "id": "6HU4lYzhljnS"
      }
    },
    {
      "cell_type": "markdown",
      "source": [
        "\n",
        "# Data Description\n",
        "\n",
        "## Attribute Information:\n",
        "\n",
        "InvoiceNo: Invoice number. Nominal, a 6-digit integral number uniquely assigned to each transaction. If this code starts with letter 'c', it indicates a cancellation.\n",
        "\n",
        "StockCode: Product (item) code. Nominal, a 5-digit integral number uniquely assigned to each distinct product.\n",
        "\n",
        "Description: Product (item) name. Nominal.\n",
        "\n",
        "Quantity: The quantities of each product (item) per transaction. Numeric.\n",
        "\n",
        "InvoiceDate: Invice Date and time. Numeric, the day and time when each transaction was generated.\n",
        "\n",
        "UnitPrice: Unit price. Numeric, Product price per unit in sterling.\n",
        "\n",
        "CustomerID: Customer number. Nominal, a 5-digit integral number uniquely assigned to each customer.\n",
        "\n",
        "Country: Country name. Nominal, the name of the country where each customer resides."
      ],
      "metadata": {
        "id": "JOLeyoV2l2iJ"
      }
    },
    {
      "cell_type": "markdown",
      "source": [
        "\n",
        "# General Guidelines : -\n",
        "Well-structured, formatted, and commented code is required.\n",
        "\n",
        "Exception Handling, Production Grade Code & Deployment Ready Code will be a plus. Those students will be awarded some additional credits.\n",
        "\n",
        "The additional credits will have advantages over other students during Star Student selection.\n",
        "\n",
        "[ Note: - Deployment Ready Code is defined as, the whole .ipynb notebook should be executable in one go without a single error logged. ] Each and every logic should have proper comments.\n",
        "\n",
        "You may add as many number of charts you want. Make Sure for each and every chart the following format should be answered.\n",
        "\n",
        "Chart visualization code Why did you pick the specific chart? What is/are the insight(s) found from the chart? Will the gained insights help creating a positive business impact? Are there any insights that lead to negative growth? Justify with specific reason. You have to create at least 15 logical & meaningful charts having important insights. [ Hints : - Do the Vizualization in a structured way while following \"UBM\" Rule.\n",
        "\n",
        "U - Univariate Analysis,\n",
        "\n",
        "B - Bivariate Analysis (Numerical - Categorical, Numerical - Numerical, Categorical - Categorical)\n",
        "\n",
        "M - Multivariate Analysis ]\n",
        "\n",
        "You may add more ml algorithms for model creation. Make sure for each and every algorithm, the following format should be answered. Explain the ML Model used and it's performance using Evaluation metric Score Chart. Cross- Validation & Hyperparameter Tuning\n",
        "\n",
        "Have you seen any improvement? Note down the improvement with updates Evaluation metric Score Chart.\n",
        "\n",
        "Explain each evaluation metric's indication towards business and the business impact pf the ML model used."
      ],
      "metadata": {
        "id": "Haa4NbN0mIJ2"
      }
    },
    {
      "cell_type": "markdown",
      "source": [
        "# Let's Begin !"
      ],
      "metadata": {
        "id": "jG1hjtZlma2i"
      }
    },
    {
      "cell_type": "markdown",
      "source": [
        "# Importing Libraries"
      ],
      "metadata": {
        "id": "HYeL2p55me_o"
      }
    },
    {
      "cell_type": "code",
      "source": [
        "# Importing common libraries\n",
        "import numpy as np #for handling arrays\n",
        "import pandas as pd #for data manipulation, read_excel\n",
        "from numpy import math\n",
        "\n",
        "%matplotlib inline\n",
        "import matplotlib.pyplot as plt # for plotting graphs\n",
        "import seaborn as sns; sns.set()\n",
        "import seaborn as sns #for better visualizations\n",
        "\n",
        "from datetime import datetime\n",
        "from pylab import rcParams\n",
        "\n",
        "import warnings\n",
        "warnings.filterwarnings('ignore')"
      ],
      "metadata": {
        "id": "Z5XsIXc2lRBH"
      },
      "execution_count": 1,
      "outputs": []
    },
    {
      "cell_type": "code",
      "source": [
        "from google.colab import drive\n",
        "drive.mount('/content/drive')"
      ],
      "metadata": {
        "colab": {
          "base_uri": "https://localhost:8080/"
        },
        "id": "UTlT0eEgnN8d",
        "outputId": "fff46d62-0b23-4e8b-c95c-efafeb474977"
      },
      "execution_count": 2,
      "outputs": [
        {
          "output_type": "stream",
          "name": "stdout",
          "text": [
            "Mounted at /content/drive\n"
          ]
        }
      ]
    },
    {
      "cell_type": "code",
      "source": [
        "#Load the dataset\n",
        "df=pd.read_excel('/content/drive/MyDrive/Classroom/Online Retail.xlsx')"
      ],
      "metadata": {
        "id": "0doYdMpJnr4S"
      },
      "execution_count": 3,
      "outputs": []
    },
    {
      "cell_type": "markdown",
      "source": [
        "shape of our dataset is (541909, 8) that means we have 541909 number of rows and 8 columns"
      ],
      "metadata": {
        "id": "-uRprdUAoIVC"
      }
    },
    {
      "cell_type": "markdown",
      "source": [
        "# Data Inspection"
      ],
      "metadata": {
        "id": "Jdp5oWeOoPHY"
      }
    },
    {
      "cell_type": "code",
      "source": [
        "# checking the data \n",
        "df.head()"
      ],
      "metadata": {
        "colab": {
          "base_uri": "https://localhost:8080/",
          "height": 206
        },
        "id": "Gd7HDOjxnrjj",
        "outputId": "e108e61d-16ee-46b6-c47c-3c4589143c4a"
      },
      "execution_count": null,
      "outputs": [
        {
          "output_type": "execute_result",
          "data": {
            "text/plain": [
              "  InvoiceNo StockCode                          Description  Quantity  \\\n",
              "0    536365    85123A   WHITE HANGING HEART T-LIGHT HOLDER         6   \n",
              "1    536365     71053                  WHITE METAL LANTERN         6   \n",
              "2    536365    84406B       CREAM CUPID HEARTS COAT HANGER         8   \n",
              "3    536365    84029G  KNITTED UNION FLAG HOT WATER BOTTLE         6   \n",
              "4    536365    84029E       RED WOOLLY HOTTIE WHITE HEART.         6   \n",
              "\n",
              "          InvoiceDate  UnitPrice  CustomerID         Country  \n",
              "0 2010-12-01 08:26:00       2.55     17850.0  United Kingdom  \n",
              "1 2010-12-01 08:26:00       3.39     17850.0  United Kingdom  \n",
              "2 2010-12-01 08:26:00       2.75     17850.0  United Kingdom  \n",
              "3 2010-12-01 08:26:00       3.39     17850.0  United Kingdom  \n",
              "4 2010-12-01 08:26:00       3.39     17850.0  United Kingdom  "
            ],
            "text/html": [
              "\n",
              "  <div id=\"df-07794f96-f79a-49f7-ba70-7a60de0e423a\">\n",
              "    <div class=\"colab-df-container\">\n",
              "      <div>\n",
              "<style scoped>\n",
              "    .dataframe tbody tr th:only-of-type {\n",
              "        vertical-align: middle;\n",
              "    }\n",
              "\n",
              "    .dataframe tbody tr th {\n",
              "        vertical-align: top;\n",
              "    }\n",
              "\n",
              "    .dataframe thead th {\n",
              "        text-align: right;\n",
              "    }\n",
              "</style>\n",
              "<table border=\"1\" class=\"dataframe\">\n",
              "  <thead>\n",
              "    <tr style=\"text-align: right;\">\n",
              "      <th></th>\n",
              "      <th>InvoiceNo</th>\n",
              "      <th>StockCode</th>\n",
              "      <th>Description</th>\n",
              "      <th>Quantity</th>\n",
              "      <th>InvoiceDate</th>\n",
              "      <th>UnitPrice</th>\n",
              "      <th>CustomerID</th>\n",
              "      <th>Country</th>\n",
              "    </tr>\n",
              "  </thead>\n",
              "  <tbody>\n",
              "    <tr>\n",
              "      <th>0</th>\n",
              "      <td>536365</td>\n",
              "      <td>85123A</td>\n",
              "      <td>WHITE HANGING HEART T-LIGHT HOLDER</td>\n",
              "      <td>6</td>\n",
              "      <td>2010-12-01 08:26:00</td>\n",
              "      <td>2.55</td>\n",
              "      <td>17850.0</td>\n",
              "      <td>United Kingdom</td>\n",
              "    </tr>\n",
              "    <tr>\n",
              "      <th>1</th>\n",
              "      <td>536365</td>\n",
              "      <td>71053</td>\n",
              "      <td>WHITE METAL LANTERN</td>\n",
              "      <td>6</td>\n",
              "      <td>2010-12-01 08:26:00</td>\n",
              "      <td>3.39</td>\n",
              "      <td>17850.0</td>\n",
              "      <td>United Kingdom</td>\n",
              "    </tr>\n",
              "    <tr>\n",
              "      <th>2</th>\n",
              "      <td>536365</td>\n",
              "      <td>84406B</td>\n",
              "      <td>CREAM CUPID HEARTS COAT HANGER</td>\n",
              "      <td>8</td>\n",
              "      <td>2010-12-01 08:26:00</td>\n",
              "      <td>2.75</td>\n",
              "      <td>17850.0</td>\n",
              "      <td>United Kingdom</td>\n",
              "    </tr>\n",
              "    <tr>\n",
              "      <th>3</th>\n",
              "      <td>536365</td>\n",
              "      <td>84029G</td>\n",
              "      <td>KNITTED UNION FLAG HOT WATER BOTTLE</td>\n",
              "      <td>6</td>\n",
              "      <td>2010-12-01 08:26:00</td>\n",
              "      <td>3.39</td>\n",
              "      <td>17850.0</td>\n",
              "      <td>United Kingdom</td>\n",
              "    </tr>\n",
              "    <tr>\n",
              "      <th>4</th>\n",
              "      <td>536365</td>\n",
              "      <td>84029E</td>\n",
              "      <td>RED WOOLLY HOTTIE WHITE HEART.</td>\n",
              "      <td>6</td>\n",
              "      <td>2010-12-01 08:26:00</td>\n",
              "      <td>3.39</td>\n",
              "      <td>17850.0</td>\n",
              "      <td>United Kingdom</td>\n",
              "    </tr>\n",
              "  </tbody>\n",
              "</table>\n",
              "</div>\n",
              "      <button class=\"colab-df-convert\" onclick=\"convertToInteractive('df-07794f96-f79a-49f7-ba70-7a60de0e423a')\"\n",
              "              title=\"Convert this dataframe to an interactive table.\"\n",
              "              style=\"display:none;\">\n",
              "        \n",
              "  <svg xmlns=\"http://www.w3.org/2000/svg\" height=\"24px\"viewBox=\"0 0 24 24\"\n",
              "       width=\"24px\">\n",
              "    <path d=\"M0 0h24v24H0V0z\" fill=\"none\"/>\n",
              "    <path d=\"M18.56 5.44l.94 2.06.94-2.06 2.06-.94-2.06-.94-.94-2.06-.94 2.06-2.06.94zm-11 1L8.5 8.5l.94-2.06 2.06-.94-2.06-.94L8.5 2.5l-.94 2.06-2.06.94zm10 10l.94 2.06.94-2.06 2.06-.94-2.06-.94-.94-2.06-.94 2.06-2.06.94z\"/><path d=\"M17.41 7.96l-1.37-1.37c-.4-.4-.92-.59-1.43-.59-.52 0-1.04.2-1.43.59L10.3 9.45l-7.72 7.72c-.78.78-.78 2.05 0 2.83L4 21.41c.39.39.9.59 1.41.59.51 0 1.02-.2 1.41-.59l7.78-7.78 2.81-2.81c.8-.78.8-2.07 0-2.86zM5.41 20L4 18.59l7.72-7.72 1.47 1.35L5.41 20z\"/>\n",
              "  </svg>\n",
              "      </button>\n",
              "      \n",
              "  <style>\n",
              "    .colab-df-container {\n",
              "      display:flex;\n",
              "      flex-wrap:wrap;\n",
              "      gap: 12px;\n",
              "    }\n",
              "\n",
              "    .colab-df-convert {\n",
              "      background-color: #E8F0FE;\n",
              "      border: none;\n",
              "      border-radius: 50%;\n",
              "      cursor: pointer;\n",
              "      display: none;\n",
              "      fill: #1967D2;\n",
              "      height: 32px;\n",
              "      padding: 0 0 0 0;\n",
              "      width: 32px;\n",
              "    }\n",
              "\n",
              "    .colab-df-convert:hover {\n",
              "      background-color: #E2EBFA;\n",
              "      box-shadow: 0px 1px 2px rgba(60, 64, 67, 0.3), 0px 1px 3px 1px rgba(60, 64, 67, 0.15);\n",
              "      fill: #174EA6;\n",
              "    }\n",
              "\n",
              "    [theme=dark] .colab-df-convert {\n",
              "      background-color: #3B4455;\n",
              "      fill: #D2E3FC;\n",
              "    }\n",
              "\n",
              "    [theme=dark] .colab-df-convert:hover {\n",
              "      background-color: #434B5C;\n",
              "      box-shadow: 0px 1px 3px 1px rgba(0, 0, 0, 0.15);\n",
              "      filter: drop-shadow(0px 1px 2px rgba(0, 0, 0, 0.3));\n",
              "      fill: #FFFFFF;\n",
              "    }\n",
              "  </style>\n",
              "\n",
              "      <script>\n",
              "        const buttonEl =\n",
              "          document.querySelector('#df-07794f96-f79a-49f7-ba70-7a60de0e423a button.colab-df-convert');\n",
              "        buttonEl.style.display =\n",
              "          google.colab.kernel.accessAllowed ? 'block' : 'none';\n",
              "\n",
              "        async function convertToInteractive(key) {\n",
              "          const element = document.querySelector('#df-07794f96-f79a-49f7-ba70-7a60de0e423a');\n",
              "          const dataTable =\n",
              "            await google.colab.kernel.invokeFunction('convertToInteractive',\n",
              "                                                     [key], {});\n",
              "          if (!dataTable) return;\n",
              "\n",
              "          const docLinkHtml = 'Like what you see? Visit the ' +\n",
              "            '<a target=\"_blank\" href=https://colab.research.google.com/notebooks/data_table.ipynb>data table notebook</a>'\n",
              "            + ' to learn more about interactive tables.';\n",
              "          element.innerHTML = '';\n",
              "          dataTable['output_type'] = 'display_data';\n",
              "          await google.colab.output.renderOutput(dataTable, element);\n",
              "          const docLink = document.createElement('div');\n",
              "          docLink.innerHTML = docLinkHtml;\n",
              "          element.appendChild(docLink);\n",
              "        }\n",
              "      </script>\n",
              "    </div>\n",
              "  </div>\n",
              "  "
            ]
          },
          "metadata": {},
          "execution_count": 16
        }
      ]
    },
    {
      "cell_type": "code",
      "source": [
        "df.tail()"
      ],
      "metadata": {
        "colab": {
          "base_uri": "https://localhost:8080/",
          "height": 206
        },
        "id": "klwDVQmKola4",
        "outputId": "ae4845c3-60a0-4d64-9d8f-293495e67ade"
      },
      "execution_count": null,
      "outputs": [
        {
          "output_type": "execute_result",
          "data": {
            "text/plain": [
              "       InvoiceNo StockCode                      Description  Quantity  \\\n",
              "541904    581587     22613      PACK OF 20 SPACEBOY NAPKINS        12   \n",
              "541905    581587     22899     CHILDREN'S APRON DOLLY GIRL          6   \n",
              "541906    581587     23254    CHILDRENS CUTLERY DOLLY GIRL          4   \n",
              "541907    581587     23255  CHILDRENS CUTLERY CIRCUS PARADE         4   \n",
              "541908    581587     22138    BAKING SET 9 PIECE RETROSPOT          3   \n",
              "\n",
              "               InvoiceDate  UnitPrice  CustomerID Country  \n",
              "541904 2011-12-09 12:50:00       0.85     12680.0  France  \n",
              "541905 2011-12-09 12:50:00       2.10     12680.0  France  \n",
              "541906 2011-12-09 12:50:00       4.15     12680.0  France  \n",
              "541907 2011-12-09 12:50:00       4.15     12680.0  France  \n",
              "541908 2011-12-09 12:50:00       4.95     12680.0  France  "
            ],
            "text/html": [
              "\n",
              "  <div id=\"df-08363efb-508e-4f08-91e9-c8a7570b1732\">\n",
              "    <div class=\"colab-df-container\">\n",
              "      <div>\n",
              "<style scoped>\n",
              "    .dataframe tbody tr th:only-of-type {\n",
              "        vertical-align: middle;\n",
              "    }\n",
              "\n",
              "    .dataframe tbody tr th {\n",
              "        vertical-align: top;\n",
              "    }\n",
              "\n",
              "    .dataframe thead th {\n",
              "        text-align: right;\n",
              "    }\n",
              "</style>\n",
              "<table border=\"1\" class=\"dataframe\">\n",
              "  <thead>\n",
              "    <tr style=\"text-align: right;\">\n",
              "      <th></th>\n",
              "      <th>InvoiceNo</th>\n",
              "      <th>StockCode</th>\n",
              "      <th>Description</th>\n",
              "      <th>Quantity</th>\n",
              "      <th>InvoiceDate</th>\n",
              "      <th>UnitPrice</th>\n",
              "      <th>CustomerID</th>\n",
              "      <th>Country</th>\n",
              "    </tr>\n",
              "  </thead>\n",
              "  <tbody>\n",
              "    <tr>\n",
              "      <th>541904</th>\n",
              "      <td>581587</td>\n",
              "      <td>22613</td>\n",
              "      <td>PACK OF 20 SPACEBOY NAPKINS</td>\n",
              "      <td>12</td>\n",
              "      <td>2011-12-09 12:50:00</td>\n",
              "      <td>0.85</td>\n",
              "      <td>12680.0</td>\n",
              "      <td>France</td>\n",
              "    </tr>\n",
              "    <tr>\n",
              "      <th>541905</th>\n",
              "      <td>581587</td>\n",
              "      <td>22899</td>\n",
              "      <td>CHILDREN'S APRON DOLLY GIRL</td>\n",
              "      <td>6</td>\n",
              "      <td>2011-12-09 12:50:00</td>\n",
              "      <td>2.10</td>\n",
              "      <td>12680.0</td>\n",
              "      <td>France</td>\n",
              "    </tr>\n",
              "    <tr>\n",
              "      <th>541906</th>\n",
              "      <td>581587</td>\n",
              "      <td>23254</td>\n",
              "      <td>CHILDRENS CUTLERY DOLLY GIRL</td>\n",
              "      <td>4</td>\n",
              "      <td>2011-12-09 12:50:00</td>\n",
              "      <td>4.15</td>\n",
              "      <td>12680.0</td>\n",
              "      <td>France</td>\n",
              "    </tr>\n",
              "    <tr>\n",
              "      <th>541907</th>\n",
              "      <td>581587</td>\n",
              "      <td>23255</td>\n",
              "      <td>CHILDRENS CUTLERY CIRCUS PARADE</td>\n",
              "      <td>4</td>\n",
              "      <td>2011-12-09 12:50:00</td>\n",
              "      <td>4.15</td>\n",
              "      <td>12680.0</td>\n",
              "      <td>France</td>\n",
              "    </tr>\n",
              "    <tr>\n",
              "      <th>541908</th>\n",
              "      <td>581587</td>\n",
              "      <td>22138</td>\n",
              "      <td>BAKING SET 9 PIECE RETROSPOT</td>\n",
              "      <td>3</td>\n",
              "      <td>2011-12-09 12:50:00</td>\n",
              "      <td>4.95</td>\n",
              "      <td>12680.0</td>\n",
              "      <td>France</td>\n",
              "    </tr>\n",
              "  </tbody>\n",
              "</table>\n",
              "</div>\n",
              "      <button class=\"colab-df-convert\" onclick=\"convertToInteractive('df-08363efb-508e-4f08-91e9-c8a7570b1732')\"\n",
              "              title=\"Convert this dataframe to an interactive table.\"\n",
              "              style=\"display:none;\">\n",
              "        \n",
              "  <svg xmlns=\"http://www.w3.org/2000/svg\" height=\"24px\"viewBox=\"0 0 24 24\"\n",
              "       width=\"24px\">\n",
              "    <path d=\"M0 0h24v24H0V0z\" fill=\"none\"/>\n",
              "    <path d=\"M18.56 5.44l.94 2.06.94-2.06 2.06-.94-2.06-.94-.94-2.06-.94 2.06-2.06.94zm-11 1L8.5 8.5l.94-2.06 2.06-.94-2.06-.94L8.5 2.5l-.94 2.06-2.06.94zm10 10l.94 2.06.94-2.06 2.06-.94-2.06-.94-.94-2.06-.94 2.06-2.06.94z\"/><path d=\"M17.41 7.96l-1.37-1.37c-.4-.4-.92-.59-1.43-.59-.52 0-1.04.2-1.43.59L10.3 9.45l-7.72 7.72c-.78.78-.78 2.05 0 2.83L4 21.41c.39.39.9.59 1.41.59.51 0 1.02-.2 1.41-.59l7.78-7.78 2.81-2.81c.8-.78.8-2.07 0-2.86zM5.41 20L4 18.59l7.72-7.72 1.47 1.35L5.41 20z\"/>\n",
              "  </svg>\n",
              "      </button>\n",
              "      \n",
              "  <style>\n",
              "    .colab-df-container {\n",
              "      display:flex;\n",
              "      flex-wrap:wrap;\n",
              "      gap: 12px;\n",
              "    }\n",
              "\n",
              "    .colab-df-convert {\n",
              "      background-color: #E8F0FE;\n",
              "      border: none;\n",
              "      border-radius: 50%;\n",
              "      cursor: pointer;\n",
              "      display: none;\n",
              "      fill: #1967D2;\n",
              "      height: 32px;\n",
              "      padding: 0 0 0 0;\n",
              "      width: 32px;\n",
              "    }\n",
              "\n",
              "    .colab-df-convert:hover {\n",
              "      background-color: #E2EBFA;\n",
              "      box-shadow: 0px 1px 2px rgba(60, 64, 67, 0.3), 0px 1px 3px 1px rgba(60, 64, 67, 0.15);\n",
              "      fill: #174EA6;\n",
              "    }\n",
              "\n",
              "    [theme=dark] .colab-df-convert {\n",
              "      background-color: #3B4455;\n",
              "      fill: #D2E3FC;\n",
              "    }\n",
              "\n",
              "    [theme=dark] .colab-df-convert:hover {\n",
              "      background-color: #434B5C;\n",
              "      box-shadow: 0px 1px 3px 1px rgba(0, 0, 0, 0.15);\n",
              "      filter: drop-shadow(0px 1px 2px rgba(0, 0, 0, 0.3));\n",
              "      fill: #FFFFFF;\n",
              "    }\n",
              "  </style>\n",
              "\n",
              "      <script>\n",
              "        const buttonEl =\n",
              "          document.querySelector('#df-08363efb-508e-4f08-91e9-c8a7570b1732 button.colab-df-convert');\n",
              "        buttonEl.style.display =\n",
              "          google.colab.kernel.accessAllowed ? 'block' : 'none';\n",
              "\n",
              "        async function convertToInteractive(key) {\n",
              "          const element = document.querySelector('#df-08363efb-508e-4f08-91e9-c8a7570b1732');\n",
              "          const dataTable =\n",
              "            await google.colab.kernel.invokeFunction('convertToInteractive',\n",
              "                                                     [key], {});\n",
              "          if (!dataTable) return;\n",
              "\n",
              "          const docLinkHtml = 'Like what you see? Visit the ' +\n",
              "            '<a target=\"_blank\" href=https://colab.research.google.com/notebooks/data_table.ipynb>data table notebook</a>'\n",
              "            + ' to learn more about interactive tables.';\n",
              "          element.innerHTML = '';\n",
              "          dataTable['output_type'] = 'display_data';\n",
              "          await google.colab.output.renderOutput(dataTable, element);\n",
              "          const docLink = document.createElement('div');\n",
              "          docLink.innerHTML = docLinkHtml;\n",
              "          element.appendChild(docLink);\n",
              "        }\n",
              "      </script>\n",
              "    </div>\n",
              "  </div>\n",
              "  "
            ]
          },
          "metadata": {},
          "execution_count": 17
        }
      ]
    },
    {
      "cell_type": "code",
      "source": [
        "# checking for null values and datatype\n",
        "df.info()"
      ],
      "metadata": {
        "colab": {
          "base_uri": "https://localhost:8080/"
        },
        "id": "Pjmuv-a8opew",
        "outputId": "374e2cf7-a57c-4516-d3a2-bb18cb92164d"
      },
      "execution_count": null,
      "outputs": [
        {
          "output_type": "stream",
          "name": "stdout",
          "text": [
            "<class 'pandas.core.frame.DataFrame'>\n",
            "RangeIndex: 541909 entries, 0 to 541908\n",
            "Data columns (total 8 columns):\n",
            " #   Column       Non-Null Count   Dtype         \n",
            "---  ------       --------------   -----         \n",
            " 0   InvoiceNo    541909 non-null  object        \n",
            " 1   StockCode    541909 non-null  object        \n",
            " 2   Description  540455 non-null  object        \n",
            " 3   Quantity     541909 non-null  int64         \n",
            " 4   InvoiceDate  541909 non-null  datetime64[ns]\n",
            " 5   UnitPrice    541909 non-null  float64       \n",
            " 6   CustomerID   406829 non-null  float64       \n",
            " 7   Country      541909 non-null  object        \n",
            "dtypes: datetime64[ns](1), float64(2), int64(1), object(4)\n",
            "memory usage: 33.1+ MB\n"
          ]
        }
      ]
    },
    {
      "cell_type": "code",
      "source": [
        "# checking Null value by plotting Heatmap\n",
        "sns.heatmap(df.isnull(), cbar=False)"
      ],
      "metadata": {
        "colab": {
          "base_uri": "https://localhost:8080/",
          "height": 347
        },
        "id": "xBo7uZPYo-Wz",
        "outputId": "f7460fbf-43f2-47fc-d454-c79a88efb6d6"
      },
      "execution_count": null,
      "outputs": [
        {
          "output_type": "execute_result",
          "data": {
            "text/plain": [
              "<matplotlib.axes._subplots.AxesSubplot at 0x7f360381fbe0>"
            ]
          },
          "metadata": {},
          "execution_count": 19
        },
        {
          "output_type": "display_data",
          "data": {
            "text/plain": [
              "<Figure size 432x288 with 1 Axes>"
            ],
            "image/png": "[encoded data removed]"
          },
          "metadata": {}
        }
      ]
    },
    {
      "cell_type": "code",
      "source": [
        "# Total null values of CustomerID\n",
        "df['CustomerID'].isnull().sum()"
      ],
      "metadata": {
        "colab": {
          "base_uri": "https://localhost:8080/"
        },
        "id": "U7kXFy6_pSOL",
        "outputId": "f995704c-d58b-4cb4-9a0f-41adf1671e98"
      },
      "execution_count": null,
      "outputs": [
        {
          "output_type": "execute_result",
          "data": {
            "text/plain": [
              "135080"
            ]
          },
          "metadata": {},
          "execution_count": 20
        }
      ]
    },
    {
      "cell_type": "code",
      "source": [
        "# Total null values of Description column\n",
        "df['Description'].isnull().sum()"
      ],
      "metadata": {
        "colab": {
          "base_uri": "https://localhost:8080/"
        },
        "id": "zWlWQLqGpYkF",
        "outputId": "065a1529-5d89-44de-d83e-e7d0a74ed702"
      },
      "execution_count": null,
      "outputs": [
        {
          "output_type": "execute_result",
          "data": {
            "text/plain": [
              "1454"
            ]
          },
          "metadata": {},
          "execution_count": 21
        }
      ]
    },
    {
      "cell_type": "markdown",
      "source": [
        "There is some null value present in our dataset like in CustomerID and Description"
      ],
      "metadata": {
        "id": "JyCL1Sqypdbt"
      }
    },
    {
      "cell_type": "markdown",
      "source": [
        "# dataset Information"
      ],
      "metadata": {
        "id": "1Shn-q6kphEd"
      }
    },
    {
      "cell_type": "code",
      "source": [
        "# df['InvoiceDate_year'] = df['InvoiceDate'].dt.year\n",
        "# df['InvoiceDate_month'] = df['InvoiceDate'].dt.month\n",
        "# df['InvoiceDate_day'] = df['InvoiceDate'].dt.day\n",
        "# df['InvoiceDate_hour'] = df['InvoiceDate'].dt.hour\n",
        "# df['InvoiceDate_minute'] = df['InvoiceDate'].dt.minute\n",
        "# df['InvoiceDate_second'] = df['InvoiceDate'].dt.second"
      ],
      "metadata": {
        "id": "BlN8PkHlpgWl"
      },
      "execution_count": null,
      "outputs": []
    },
    {
      "cell_type": "code",
      "source": [
        "# Columns and data types\n",
        "print(\"Columns and data types\")\n",
        "pd.DataFrame(df.dtypes).rename(columns = {0:'dtype'})"
      ],
      "metadata": {
        "colab": {
          "base_uri": "https://localhost:8080/",
          "height": 318
        },
        "id": "EtJVZidOpqEy",
        "outputId": "8d80ca41-c0f5-4f4f-90c7-3d5a096cbbe9"
      },
      "execution_count": null,
      "outputs": [
        {
          "output_type": "stream",
          "name": "stdout",
          "text": [
            "Columns and data types\n"
          ]
        },
        {
          "output_type": "execute_result",
          "data": {
            "text/plain": [
              "                      dtype\n",
              "InvoiceNo            object\n",
              "StockCode            object\n",
              "Description          object\n",
              "Quantity              int64\n",
              "InvoiceDate  datetime64[ns]\n",
              "UnitPrice           float64\n",
              "CustomerID          float64\n",
              "Country              object"
            ],
            "text/html": [
              "\n",
              "  <div id=\"df-221ec211-ef8c-47fa-aa98-b22b0a891a2f\">\n",
              "    <div class=\"colab-df-container\">\n",
              "      <div>\n",
              "<style scoped>\n",
              "    .dataframe tbody tr th:only-of-type {\n",
              "        vertical-align: middle;\n",
              "    }\n",
              "\n",
              "    .dataframe tbody tr th {\n",
              "        vertical-align: top;\n",
              "    }\n",
              "\n",
              "    .dataframe thead th {\n",
              "        text-align: right;\n",
              "    }\n",
              "</style>\n",
              "<table border=\"1\" class=\"dataframe\">\n",
              "  <thead>\n",
              "    <tr style=\"text-align: right;\">\n",
              "      <th></th>\n",
              "      <th>dtype</th>\n",
              "    </tr>\n",
              "  </thead>\n",
              "  <tbody>\n",
              "    <tr>\n",
              "      <th>InvoiceNo</th>\n",
              "      <td>object</td>\n",
              "    </tr>\n",
              "    <tr>\n",
              "      <th>StockCode</th>\n",
              "      <td>object</td>\n",
              "    </tr>\n",
              "    <tr>\n",
              "      <th>Description</th>\n",
              "      <td>object</td>\n",
              "    </tr>\n",
              "    <tr>\n",
              "      <th>Quantity</th>\n",
              "      <td>int64</td>\n",
              "    </tr>\n",
              "    <tr>\n",
              "      <th>InvoiceDate</th>\n",
              "      <td>datetime64[ns]</td>\n",
              "    </tr>\n",
              "    <tr>\n",
              "      <th>UnitPrice</th>\n",
              "      <td>float64</td>\n",
              "    </tr>\n",
              "    <tr>\n",
              "      <th>CustomerID</th>\n",
              "      <td>float64</td>\n",
              "    </tr>\n",
              "    <tr>\n",
              "      <th>Country</th>\n",
              "      <td>object</td>\n",
              "    </tr>\n",
              "  </tbody>\n",
              "</table>\n",
              "</div>\n",
              "      <button class=\"colab-df-convert\" onclick=\"convertToInteractive('df-221ec211-ef8c-47fa-aa98-b22b0a891a2f')\"\n",
              "              title=\"Convert this dataframe to an interactive table.\"\n",
              "              style=\"display:none;\">\n",
              "        \n",
              "  <svg xmlns=\"http://www.w3.org/2000/svg\" height=\"24px\"viewBox=\"0 0 24 24\"\n",
              "       width=\"24px\">\n",
              "    <path d=\"M0 0h24v24H0V0z\" fill=\"none\"/>\n",
              "    <path d=\"M18.56 5.44l.94 2.06.94-2.06 2.06-.94-2.06-.94-.94-2.06-.94 2.06-2.06.94zm-11 1L8.5 8.5l.94-2.06 2.06-.94-2.06-.94L8.5 2.5l-.94 2.06-2.06.94zm10 10l.94 2.06.94-2.06 2.06-.94-2.06-.94-.94-2.06-.94 2.06-2.06.94z\"/><path d=\"M17.41 7.96l-1.37-1.37c-.4-.4-.92-.59-1.43-.59-.52 0-1.04.2-1.43.59L10.3 9.45l-7.72 7.72c-.78.78-.78 2.05 0 2.83L4 21.41c.39.39.9.59 1.41.59.51 0 1.02-.2 1.41-.59l7.78-7.78 2.81-2.81c.8-.78.8-2.07 0-2.86zM5.41 20L4 18.59l7.72-7.72 1.47 1.35L5.41 20z\"/>\n",
              "  </svg>\n",
              "      </button>\n",
              "      \n",
              "  <style>\n",
              "    .colab-df-container {\n",
              "      display:flex;\n",
              "      flex-wrap:wrap;\n",
              "      gap: 12px;\n",
              "    }\n",
              "\n",
              "    .colab-df-convert {\n",
              "      background-color: #E8F0FE;\n",
              "      border: none;\n",
              "      border-radius: 50%;\n",
              "      cursor: pointer;\n",
              "      display: none;\n",
              "      fill: #1967D2;\n",
              "      height: 32px;\n",
              "      padding: 0 0 0 0;\n",
              "      width: 32px;\n",
              "    }\n",
              "\n",
              "    .colab-df-convert:hover {\n",
              "      background-color: #E2EBFA;\n",
              "      box-shadow: 0px 1px 2px rgba(60, 64, 67, 0.3), 0px 1px 3px 1px rgba(60, 64, 67, 0.15);\n",
              "      fill: #174EA6;\n",
              "    }\n",
              "\n",
              "    [theme=dark] .colab-df-convert {\n",
              "      background-color: #3B4455;\n",
              "      fill: #D2E3FC;\n",
              "    }\n",
              "\n",
              "    [theme=dark] .colab-df-convert:hover {\n",
              "      background-color: #434B5C;\n",
              "      box-shadow: 0px 1px 3px 1px rgba(0, 0, 0, 0.15);\n",
              "      filter: drop-shadow(0px 1px 2px rgba(0, 0, 0, 0.3));\n",
              "      fill: #FFFFFF;\n",
              "    }\n",
              "  </style>\n",
              "\n",
              "      <script>\n",
              "        const buttonEl =\n",
              "          document.querySelector('#df-221ec211-ef8c-47fa-aa98-b22b0a891a2f button.colab-df-convert');\n",
              "        buttonEl.style.display =\n",
              "          google.colab.kernel.accessAllowed ? 'block' : 'none';\n",
              "\n",
              "        async function convertToInteractive(key) {\n",
              "          const element = document.querySelector('#df-221ec211-ef8c-47fa-aa98-b22b0a891a2f');\n",
              "          const dataTable =\n",
              "            await google.colab.kernel.invokeFunction('convertToInteractive',\n",
              "                                                     [key], {});\n",
              "          if (!dataTable) return;\n",
              "\n",
              "          const docLinkHtml = 'Like what you see? Visit the ' +\n",
              "            '<a target=\"_blank\" href=https://colab.research.google.com/notebooks/data_table.ipynb>data table notebook</a>'\n",
              "            + ' to learn more about interactive tables.';\n",
              "          element.innerHTML = '';\n",
              "          dataTable['output_type'] = 'display_data';\n",
              "          await google.colab.output.renderOutput(dataTable, element);\n",
              "          const docLink = document.createElement('div');\n",
              "          docLink.innerHTML = docLinkHtml;\n",
              "          element.appendChild(docLink);\n",
              "        }\n",
              "      </script>\n",
              "    </div>\n",
              "  </div>\n",
              "  "
            ]
          },
          "metadata": {},
          "execution_count": 23
        }
      ]
    },
    {
      "cell_type": "markdown",
      "source": [
        "We have 4 object type, 1 int, 2 float, 1 datetime feature."
      ],
      "metadata": {
        "id": "tpAgSVEcpuQs"
      }
    },
    {
      "cell_type": "code",
      "source": [
        "#column names\n",
        "df.columns"
      ],
      "metadata": {
        "colab": {
          "base_uri": "https://localhost:8080/"
        },
        "id": "531-d4uEp2HH",
        "outputId": "2eeab18f-8d57-4b3e-ccd5-b983b3e92232"
      },
      "execution_count": null,
      "outputs": [
        {
          "output_type": "execute_result",
          "data": {
            "text/plain": [
              "Index(['InvoiceNo', 'StockCode', 'Description', 'Quantity', 'InvoiceDate',\n",
              "       'UnitPrice', 'CustomerID', 'Country'],\n",
              "      dtype='object')"
            ]
          },
          "metadata": {},
          "execution_count": 24
        }
      ]
    },
    {
      "cell_type": "code",
      "source": [
        "# figuring data types\n",
        "numerical_columns=list(df.select_dtypes(['int64','float64']).columns)\n",
        "numerical_features=pd.Index(numerical_columns)\n",
        "numerical_features"
      ],
      "metadata": {
        "colab": {
          "base_uri": "https://localhost:8080/"
        },
        "id": "ZEkfmLLsqFbt",
        "outputId": "e86f6c2d-cc8f-41e9-e89e-54544cf7c15e"
      },
      "execution_count": 4,
      "outputs": [
        {
          "output_type": "execute_result",
          "data": {
            "text/plain": [
              "Index(['Quantity', 'UnitPrice', 'CustomerID'], dtype='object')"
            ]
          },
          "metadata": {},
          "execution_count": 4
        }
      ]
    },
    {
      "cell_type": "code",
      "source": [
        "# categorical columns\n",
        "categorical_columns=list(df.select_dtypes(['object']).columns)\n",
        "categorical_features=pd.Index(categorical_columns)\n",
        "categorical_features"
      ],
      "metadata": {
        "colab": {
          "base_uri": "https://localhost:8080/"
        },
        "id": "v2ZsocbNqJOP",
        "outputId": "371d950b-2ac7-4f03-ca17-c41bdbf179af"
      },
      "execution_count": 5,
      "outputs": [
        {
          "output_type": "execute_result",
          "data": {
            "text/plain": [
              "Index(['InvoiceNo', 'StockCode', 'Description', 'Country'], dtype='object')"
            ]
          },
          "metadata": {},
          "execution_count": 5
        }
      ]
    },
    {
      "cell_type": "code",
      "source": [
        "# find unique values of categorical column\n",
        "def unique_name_no(col):\n",
        "  print(df[col].unique())\n",
        "  print(df[col].nunique())\n",
        "\n",
        "\n",
        "for i in categorical_columns:\n",
        "  print(i.upper())\n",
        "  unique_name_no(i)"
      ],
      "metadata": {
        "colab": {
          "base_uri": "https://localhost:8080/"
        },
        "id": "-Appm2NnqNRz",
        "outputId": "ec3143cf-555b-4044-a0be-40f5bb9530fd"
      },
      "execution_count": null,
      "outputs": [
        {
          "output_type": "stream",
          "name": "stdout",
          "text": [
            "INVOICENO\n",
            "[536365 536366 536367 ... 581585 581586 581587]\n",
            "25900\n",
            "STOCKCODE\n",
            "['85123A' 71053 '84406B' ... '90214U' '47591b' 23843]\n",
            "4070\n",
            "DESCRIPTION\n",
            "['WHITE HANGING HEART T-LIGHT HOLDER' 'WHITE METAL LANTERN'\n",
            " 'CREAM CUPID HEARTS COAT HANGER' ... 'lost'\n",
            " 'CREAM HANGING HEART T-LIGHT HOLDER' 'PAPER CRAFT , LITTLE BIRDIE']\n",
            "4223\n",
            "COUNTRY\n",
            "['United Kingdom' 'France' 'Australia' 'Netherlands' 'Germany' 'Norway'\n",
            " 'EIRE' 'Switzerland' 'Spain' 'Poland' 'Portugal' 'Italy' 'Belgium'\n",
            " 'Lithuania' 'Japan' 'Iceland' 'Channel Islands' 'Denmark' 'Cyprus'\n",
            " 'Sweden' 'Austria' 'Israel' 'Finland' 'Bahrain' 'Greece' 'Hong Kong'\n",
            " 'Singapore' 'Lebanon' 'United Arab Emirates' 'Saudi Arabia'\n",
            " 'Czech Republic' 'Canada' 'Unspecified' 'Brazil' 'USA'\n",
            " 'European Community' 'Malta' 'RSA']\n",
            "38\n"
          ]
        }
      ]
    },
    {
      "cell_type": "code",
      "source": [
        "# duplicate\n",
        "len(df[df.duplicated()])"
      ],
      "metadata": {
        "colab": {
          "base_uri": "https://localhost:8080/"
        },
        "id": "EUnFY_NwqXl2",
        "outputId": "ecf2af31-3cf2-4515-ee41-d5e85b738e35"
      },
      "execution_count": null,
      "outputs": [
        {
          "output_type": "execute_result",
          "data": {
            "text/plain": [
              "5268"
            ]
          },
          "metadata": {},
          "execution_count": 29
        }
      ]
    },
    {
      "cell_type": "code",
      "source": [
        "#duplicate records\n",
        "df[df.duplicated()]"
      ],
      "metadata": {
        "colab": {
          "base_uri": "https://localhost:8080/",
          "height": 423
        },
        "id": "0xbAgCuZqanQ",
        "outputId": "f9cb0867-195c-47ba-fe67-ce1f48012d50"
      },
      "execution_count": null,
      "outputs": [
        {
          "output_type": "execute_result",
          "data": {
            "text/plain": [
              "       InvoiceNo StockCode                        Description  Quantity  \\\n",
              "517       536409     21866        UNION JACK FLAG LUGGAGE TAG         1   \n",
              "527       536409     22866      HAND WARMER SCOTTY DOG DESIGN         1   \n",
              "537       536409     22900    SET 2 TEA TOWELS I LOVE LONDON          1   \n",
              "539       536409     22111       SCOTTIE DOG HOT WATER BOTTLE         1   \n",
              "555       536412     22327  ROUND SNACK BOXES SET OF 4 SKULLS         1   \n",
              "...          ...       ...                                ...       ...   \n",
              "541675    581538     22068        BLACK PIRATE TREASURE CHEST         1   \n",
              "541689    581538     23318     BOX OF 6 MINI VINTAGE CRACKERS         1   \n",
              "541692    581538     22992             REVOLVER WOODEN RULER          1   \n",
              "541699    581538     22694                       WICKER STAR          1   \n",
              "541701    581538     23343       JUMBO BAG VINTAGE CHRISTMAS          1   \n",
              "\n",
              "               InvoiceDate  UnitPrice  CustomerID         Country  \n",
              "517    2010-12-01 11:45:00       1.25     17908.0  United Kingdom  \n",
              "527    2010-12-01 11:45:00       2.10     17908.0  United Kingdom  \n",
              "537    2010-12-01 11:45:00       2.95     17908.0  United Kingdom  \n",
              "539    2010-12-01 11:45:00       4.95     17908.0  United Kingdom  \n",
              "555    2010-12-01 11:49:00       2.95     17920.0  United Kingdom  \n",
              "...                    ...        ...         ...             ...  \n",
              "541675 2011-12-09 11:34:00       0.39     14446.0  United Kingdom  \n",
              "541689 2011-12-09 11:34:00       2.49     14446.0  United Kingdom  \n",
              "541692 2011-12-09 11:34:00       1.95     14446.0  United Kingdom  \n",
              "541699 2011-12-09 11:34:00       2.10     14446.0  United Kingdom  \n",
              "541701 2011-12-09 11:34:00       2.08     14446.0  United Kingdom  \n",
              "\n",
              "[5268 rows x 8 columns]"
            ],
            "text/html": [
              "\n",
              "  <div id=\"df-49ec7068-1ae0-44ad-b7b2-1ee35856561d\">\n",
              "    <div class=\"colab-df-container\">\n",
              "      <div>\n",
              "<style scoped>\n",
              "    .dataframe tbody tr th:only-of-type {\n",
              "        vertical-align: middle;\n",
              "    }\n",
              "\n",
              "    .dataframe tbody tr th {\n",
              "        vertical-align: top;\n",
              "    }\n",
              "\n",
              "    .dataframe thead th {\n",
              "        text-align: right;\n",
              "    }\n",
              "</style>\n",
              "<table border=\"1\" class=\"dataframe\">\n",
              "  <thead>\n",
              "    <tr style=\"text-align: right;\">\n",
              "      <th></th>\n",
              "      <th>InvoiceNo</th>\n",
              "      <th>StockCode</th>\n",
              "      <th>Description</th>\n",
              "      <th>Quantity</th>\n",
              "      <th>InvoiceDate</th>\n",
              "      <th>UnitPrice</th>\n",
              "      <th>CustomerID</th>\n",
              "      <th>Country</th>\n",
              "    </tr>\n",
              "  </thead>\n",
              "  <tbody>\n",
              "    <tr>\n",
              "      <th>517</th>\n",
              "      <td>536409</td>\n",
              "      <td>21866</td>\n",
              "      <td>UNION JACK FLAG LUGGAGE TAG</td>\n",
              "      <td>1</td>\n",
              "      <td>2010-12-01 11:45:00</td>\n",
              "      <td>1.25</td>\n",
              "      <td>17908.0</td>\n",
              "      <td>United Kingdom</td>\n",
              "    </tr>\n",
              "    <tr>\n",
              "      <th>527</th>\n",
              "      <td>536409</td>\n",
              "      <td>22866</td>\n",
              "      <td>HAND WARMER SCOTTY DOG DESIGN</td>\n",
              "      <td>1</td>\n",
              "      <td>2010-12-01 11:45:00</td>\n",
              "      <td>2.10</td>\n",
              "      <td>17908.0</td>\n",
              "      <td>United Kingdom</td>\n",
              "    </tr>\n",
              "    <tr>\n",
              "      <th>537</th>\n",
              "      <td>536409</td>\n",
              "      <td>22900</td>\n",
              "      <td>SET 2 TEA TOWELS I LOVE LONDON</td>\n",
              "      <td>1</td>\n",
              "      <td>2010-12-01 11:45:00</td>\n",
              "      <td>2.95</td>\n",
              "      <td>17908.0</td>\n",
              "      <td>United Kingdom</td>\n",
              "    </tr>\n",
              "    <tr>\n",
              "      <th>539</th>\n",
              "      <td>536409</td>\n",
              "      <td>22111</td>\n",
              "      <td>SCOTTIE DOG HOT WATER BOTTLE</td>\n",
              "      <td>1</td>\n",
              "      <td>2010-12-01 11:45:00</td>\n",
              "      <td>4.95</td>\n",
              "      <td>17908.0</td>\n",
              "      <td>United Kingdom</td>\n",
              "    </tr>\n",
              "    <tr>\n",
              "      <th>555</th>\n",
              "      <td>536412</td>\n",
              "      <td>22327</td>\n",
              "      <td>ROUND SNACK BOXES SET OF 4 SKULLS</td>\n",
              "      <td>1</td>\n",
              "      <td>2010-12-01 11:49:00</td>\n",
              "      <td>2.95</td>\n",
              "      <td>17920.0</td>\n",
              "      <td>United Kingdom</td>\n",
              "    </tr>\n",
              "    <tr>\n",
              "      <th>...</th>\n",
              "      <td>...</td>\n",
              "      <td>...</td>\n",
              "      <td>...</td>\n",
              "      <td>...</td>\n",
              "      <td>...</td>\n",
              "      <td>...</td>\n",
              "      <td>...</td>\n",
              "      <td>...</td>\n",
              "    </tr>\n",
              "    <tr>\n",
              "      <th>541675</th>\n",
              "      <td>581538</td>\n",
              "      <td>22068</td>\n",
              "      <td>BLACK PIRATE TREASURE CHEST</td>\n",
              "      <td>1</td>\n",
              "      <td>2011-12-09 11:34:00</td>\n",
              "      <td>0.39</td>\n",
              "      <td>14446.0</td>\n",
              "      <td>United Kingdom</td>\n",
              "    </tr>\n",
              "    <tr>\n",
              "      <th>541689</th>\n",
              "      <td>581538</td>\n",
              "      <td>23318</td>\n",
              "      <td>BOX OF 6 MINI VINTAGE CRACKERS</td>\n",
              "      <td>1</td>\n",
              "      <td>2011-12-09 11:34:00</td>\n",
              "      <td>2.49</td>\n",
              "      <td>14446.0</td>\n",
              "      <td>United Kingdom</td>\n",
              "    </tr>\n",
              "    <tr>\n",
              "      <th>541692</th>\n",
              "      <td>581538</td>\n",
              "      <td>22992</td>\n",
              "      <td>REVOLVER WOODEN RULER</td>\n",
              "      <td>1</td>\n",
              "      <td>2011-12-09 11:34:00</td>\n",
              "      <td>1.95</td>\n",
              "      <td>14446.0</td>\n",
              "      <td>United Kingdom</td>\n",
              "    </tr>\n",
              "    <tr>\n",
              "      <th>541699</th>\n",
              "      <td>581538</td>\n",
              "      <td>22694</td>\n",
              "      <td>WICKER STAR</td>\n",
              "      <td>1</td>\n",
              "      <td>2011-12-09 11:34:00</td>\n",
              "      <td>2.10</td>\n",
              "      <td>14446.0</td>\n",
              "      <td>United Kingdom</td>\n",
              "    </tr>\n",
              "    <tr>\n",
              "      <th>541701</th>\n",
              "      <td>581538</td>\n",
              "      <td>23343</td>\n",
              "      <td>JUMBO BAG VINTAGE CHRISTMAS</td>\n",
              "      <td>1</td>\n",
              "      <td>2011-12-09 11:34:00</td>\n",
              "      <td>2.08</td>\n",
              "      <td>14446.0</td>\n",
              "      <td>United Kingdom</td>\n",
              "    </tr>\n",
              "  </tbody>\n",
              "</table>\n",
              "<p>5268 rows × 8 columns</p>\n",
              "</div>\n",
              "      <button class=\"colab-df-convert\" onclick=\"convertToInteractive('df-49ec7068-1ae0-44ad-b7b2-1ee35856561d')\"\n",
              "              title=\"Convert this dataframe to an interactive table.\"\n",
              "              style=\"display:none;\">\n",
              "        \n",
              "  <svg xmlns=\"http://www.w3.org/2000/svg\" height=\"24px\"viewBox=\"0 0 24 24\"\n",
              "       width=\"24px\">\n",
              "    <path d=\"M0 0h24v24H0V0z\" fill=\"none\"/>\n",
              "    <path d=\"M18.56 5.44l.94 2.06.94-2.06 2.06-.94-2.06-.94-.94-2.06-.94 2.06-2.06.94zm-11 1L8.5 8.5l.94-2.06 2.06-.94-2.06-.94L8.5 2.5l-.94 2.06-2.06.94zm10 10l.94 2.06.94-2.06 2.06-.94-2.06-.94-.94-2.06-.94 2.06-2.06.94z\"/><path d=\"M17.41 7.96l-1.37-1.37c-.4-.4-.92-.59-1.43-.59-.52 0-1.04.2-1.43.59L10.3 9.45l-7.72 7.72c-.78.78-.78 2.05 0 2.83L4 21.41c.39.39.9.59 1.41.59.51 0 1.02-.2 1.41-.59l7.78-7.78 2.81-2.81c.8-.78.8-2.07 0-2.86zM5.41 20L4 18.59l7.72-7.72 1.47 1.35L5.41 20z\"/>\n",
              "  </svg>\n",
              "      </button>\n",
              "      \n",
              "  <style>\n",
              "    .colab-df-container {\n",
              "      display:flex;\n",
              "      flex-wrap:wrap;\n",
              "      gap: 12px;\n",
              "    }\n",
              "\n",
              "    .colab-df-convert {\n",
              "      background-color: #E8F0FE;\n",
              "      border: none;\n",
              "      border-radius: 50%;\n",
              "      cursor: pointer;\n",
              "      display: none;\n",
              "      fill: #1967D2;\n",
              "      height: 32px;\n",
              "      padding: 0 0 0 0;\n",
              "      width: 32px;\n",
              "    }\n",
              "\n",
              "    .colab-df-convert:hover {\n",
              "      background-color: #E2EBFA;\n",
              "      box-shadow: 0px 1px 2px rgba(60, 64, 67, 0.3), 0px 1px 3px 1px rgba(60, 64, 67, 0.15);\n",
              "      fill: #174EA6;\n",
              "    }\n",
              "\n",
              "    [theme=dark] .colab-df-convert {\n",
              "      background-color: #3B4455;\n",
              "      fill: #D2E3FC;\n",
              "    }\n",
              "\n",
              "    [theme=dark] .colab-df-convert:hover {\n",
              "      background-color: #434B5C;\n",
              "      box-shadow: 0px 1px 3px 1px rgba(0, 0, 0, 0.15);\n",
              "      filter: drop-shadow(0px 1px 2px rgba(0, 0, 0, 0.3));\n",
              "      fill: #FFFFFF;\n",
              "    }\n",
              "  </style>\n",
              "\n",
              "      <script>\n",
              "        const buttonEl =\n",
              "          document.querySelector('#df-49ec7068-1ae0-44ad-b7b2-1ee35856561d button.colab-df-convert');\n",
              "        buttonEl.style.display =\n",
              "          google.colab.kernel.accessAllowed ? 'block' : 'none';\n",
              "\n",
              "        async function convertToInteractive(key) {\n",
              "          const element = document.querySelector('#df-49ec7068-1ae0-44ad-b7b2-1ee35856561d');\n",
              "          const dataTable =\n",
              "            await google.colab.kernel.invokeFunction('convertToInteractive',\n",
              "                                                     [key], {});\n",
              "          if (!dataTable) return;\n",
              "\n",
              "          const docLinkHtml = 'Like what you see? Visit the ' +\n",
              "            '<a target=\"_blank\" href=https://colab.research.google.com/notebooks/data_table.ipynb>data table notebook</a>'\n",
              "            + ' to learn more about interactive tables.';\n",
              "          element.innerHTML = '';\n",
              "          dataTable['output_type'] = 'display_data';\n",
              "          await google.colab.output.renderOutput(dataTable, element);\n",
              "          const docLink = document.createElement('div');\n",
              "          docLink.innerHTML = docLinkHtml;\n",
              "          element.appendChild(docLink);\n",
              "        }\n",
              "      </script>\n",
              "    </div>\n",
              "  </div>\n",
              "  "
            ]
          },
          "metadata": {},
          "execution_count": 30
        }
      ]
    },
    {
      "cell_type": "markdown",
      "source": [
        "Dataset after removing duplicate values."
      ],
      "metadata": {
        "id": "woToN_vnrQD-"
      }
    },
    {
      "cell_type": "code",
      "source": [
        "#checking null values\n",
        "df.isnull().sum()"
      ],
      "metadata": {
        "colab": {
          "base_uri": "https://localhost:8080/"
        },
        "id": "nGMoF14XrPBZ",
        "outputId": "20745626-b626-45de-e324-62006ab6f6df"
      },
      "execution_count": null,
      "outputs": [
        {
          "output_type": "execute_result",
          "data": {
            "text/plain": [
              "InvoiceNo           0\n",
              "StockCode           0\n",
              "Description      1454\n",
              "Quantity            0\n",
              "InvoiceDate         0\n",
              "UnitPrice           0\n",
              "CustomerID     135037\n",
              "Country             0\n",
              "dtype: int64"
            ]
          },
          "metadata": {},
          "execution_count": 32
        }
      ]
    },
    {
      "cell_type": "markdown",
      "source": [
        "There are 541909 rows and 8 columns in above dataset.\n",
        "\n",
        "Above dataset has missing value on Description & CustomerID.\n",
        "\n",
        "There are 5268 duplicate values."
      ],
      "metadata": {
        "id": "VHRYvzZ0rg71"
      }
    },
    {
      "cell_type": "markdown",
      "source": [
        "# Missing Value Imputation"
      ],
      "metadata": {
        "id": "g79nyb0Crols"
      }
    },
    {
      "cell_type": "code",
      "source": [
        "#dropping missing values\n",
        "df.dropna(inplace=True)"
      ],
      "metadata": {
        "id": "qVsQhB4Nr45r"
      },
      "execution_count": 6,
      "outputs": []
    },
    {
      "cell_type": "code",
      "source": [
        "#checking null values again\n",
        "df.isnull().sum()"
      ],
      "metadata": {
        "colab": {
          "base_uri": "https://localhost:8080/"
        },
        "id": "pfz0Dy16r42m",
        "outputId": "09e94167-ea5c-4d06-fb9c-c12776ac9620"
      },
      "execution_count": null,
      "outputs": [
        {
          "output_type": "execute_result",
          "data": {
            "text/plain": [
              "InvoiceNo      0\n",
              "StockCode      0\n",
              "Description    0\n",
              "Quantity       0\n",
              "InvoiceDate    0\n",
              "UnitPrice      0\n",
              "CustomerID     0\n",
              "Country        0\n",
              "dtype: int64"
            ]
          },
          "metadata": {},
          "execution_count": 34
        }
      ]
    },
    {
      "cell_type": "markdown",
      "source": [
        "Now we cleaned null values."
      ],
      "metadata": {
        "id": "8JJW9_DcsBj6"
      }
    },
    {
      "cell_type": "code",
      "source": [
        "#records remaining after removing null values\n",
        "df.shape"
      ],
      "metadata": {
        "colab": {
          "base_uri": "https://localhost:8080/"
        },
        "id": "fjuDD_5yr4zX",
        "outputId": "de3410a2-00e5-45d0-afa6-a89c9f378de0"
      },
      "execution_count": null,
      "outputs": [
        {
          "output_type": "execute_result",
          "data": {
            "text/plain": [
              "(401604, 8)"
            ]
          },
          "metadata": {},
          "execution_count": 35
        }
      ]
    },
    {
      "cell_type": "code",
      "source": [
        "# Checking Null Value by plotting Heatmap\n",
        "sns.heatmap(df.isnull(), cbar=False)"
      ],
      "metadata": {
        "colab": {
          "base_uri": "https://localhost:8080/",
          "height": 347
        },
        "id": "LUhtV0jfr4wj",
        "outputId": "15a7efa9-3cb5-4051-871c-e5a23ac3c86a"
      },
      "execution_count": null,
      "outputs": [
        {
          "output_type": "execute_result",
          "data": {
            "text/plain": [
              "<matplotlib.axes._subplots.AxesSubplot at 0x7f35fc1d3f70>"
            ]
          },
          "metadata": {},
          "execution_count": 36
        },
        {
          "output_type": "display_data",
          "data": {
            "text/plain": [
              "<Figure size 432x288 with 1 Axes>"
            ],
            "image/png": "[encoded data removed]"
          },
          "metadata": {}
        }
      ]
    },
    {
      "cell_type": "code",
      "source": [
        "#checking for null values\n",
        "df.info()"
      ],
      "metadata": {
        "colab": {
          "base_uri": "https://localhost:8080/"
        },
        "id": "nlcu46SJr4tm",
        "outputId": "a22fb262-44a4-4746-e698-3fd8f8745633"
      },
      "execution_count": null,
      "outputs": [
        {
          "output_type": "stream",
          "name": "stdout",
          "text": [
            "<class 'pandas.core.frame.DataFrame'>\n",
            "Int64Index: 401604 entries, 0 to 541908\n",
            "Data columns (total 8 columns):\n",
            " #   Column       Non-Null Count   Dtype         \n",
            "---  ------       --------------   -----         \n",
            " 0   InvoiceNo    401604 non-null  object        \n",
            " 1   StockCode    401604 non-null  object        \n",
            " 2   Description  401604 non-null  object        \n",
            " 3   Quantity     401604 non-null  int64         \n",
            " 4   InvoiceDate  401604 non-null  datetime64[ns]\n",
            " 5   UnitPrice    401604 non-null  float64       \n",
            " 6   CustomerID   401604 non-null  float64       \n",
            " 7   Country      401604 non-null  object        \n",
            "dtypes: datetime64[ns](1), float64(2), int64(1), object(4)\n",
            "memory usage: 27.6+ MB\n"
          ]
        }
      ]
    },
    {
      "cell_type": "markdown",
      "source": [
        "After removing null and duplicate values in our dataset. It reduces to (401604, 8)"
      ],
      "metadata": {
        "id": "fjADquRksXW9"
      }
    },
    {
      "cell_type": "code",
      "source": [
        "#treatment of InvoiceNo\n",
        "df['InvoiceNo'] = df['InvoiceNo'].astype('str')"
      ],
      "metadata": {
        "id": "d2xLSUjpr4qr"
      },
      "execution_count": 8,
      "outputs": []
    },
    {
      "cell_type": "code",
      "source": [
        "# removing InvoiceNo which contains C\n",
        "df=df[~df['InvoiceNo'].str.contains('C')]"
      ],
      "metadata": {
        "id": "xSp-pXB0r4nf"
      },
      "execution_count": 9,
      "outputs": []
    },
    {
      "cell_type": "markdown",
      "source": [
        "\n",
        "# we have to drop some InvoiceNo which are starts with 'C' because 'C', it indicates a cancellation"
      ],
      "metadata": {
        "id": "u8AfXBclsq2N"
      }
    },
    {
      "cell_type": "code",
      "source": [
        "#rows and columns\n",
        "df.shape"
      ],
      "metadata": {
        "colab": {
          "base_uri": "https://localhost:8080/"
        },
        "id": "h_bRf42_r4kA",
        "outputId": "fb58d42f-04bf-4d79-f590-30805c68236a"
      },
      "execution_count": null,
      "outputs": [
        {
          "output_type": "execute_result",
          "data": {
            "text/plain": [
              "(392732, 8)"
            ]
          },
          "metadata": {},
          "execution_count": 40
        }
      ]
    },
    {
      "cell_type": "markdown",
      "source": [
        "Now after treatment of Dataset, We have 392732 rows and 8 columns."
      ],
      "metadata": {
        "id": "FJBlqLIyszY4"
      }
    },
    {
      "cell_type": "code",
      "source": [
        "#checking distribution\n",
        "df.describe()"
      ],
      "metadata": {
        "colab": {
          "base_uri": "https://localhost:8080/",
          "height": 300
        },
        "id": "At5eDhqas3Oy",
        "outputId": "aa45a017-cfc7-4cd2-ba58-718d4ae3c0a5"
      },
      "execution_count": 10,
      "outputs": [
        {
          "output_type": "execute_result",
          "data": {
            "text/plain": [
              "            Quantity      UnitPrice     CustomerID\n",
              "count  397924.000000  397924.000000  397924.000000\n",
              "mean       13.021823       3.116174   15294.315171\n",
              "std       180.420210      22.096788    1713.169877\n",
              "min         1.000000       0.000000   12346.000000\n",
              "25%         2.000000       1.250000   13969.000000\n",
              "50%         6.000000       1.950000   15159.000000\n",
              "75%        12.000000       3.750000   16795.000000\n",
              "max     80995.000000    8142.750000   18287.000000"
            ],
            "text/html": [
              "\n",
              "  <div id=\"df-30a4b805-1d9b-4098-b91c-5cadfca6792a\">\n",
              "    <div class=\"colab-df-container\">\n",
              "      <div>\n",
              "<style scoped>\n",
              "    .dataframe tbody tr th:only-of-type {\n",
              "        vertical-align: middle;\n",
              "    }\n",
              "\n",
              "    .dataframe tbody tr th {\n",
              "        vertical-align: top;\n",
              "    }\n",
              "\n",
              "    .dataframe thead th {\n",
              "        text-align: right;\n",
              "    }\n",
              "</style>\n",
              "<table border=\"1\" class=\"dataframe\">\n",
              "  <thead>\n",
              "    <tr style=\"text-align: right;\">\n",
              "      <th></th>\n",
              "      <th>Quantity</th>\n",
              "      <th>UnitPrice</th>\n",
              "      <th>CustomerID</th>\n",
              "    </tr>\n",
              "  </thead>\n",
              "  <tbody>\n",
              "    <tr>\n",
              "      <th>count</th>\n",
              "      <td>397924.000000</td>\n",
              "      <td>397924.000000</td>\n",
              "      <td>397924.000000</td>\n",
              "    </tr>\n",
              "    <tr>\n",
              "      <th>mean</th>\n",
              "      <td>13.021823</td>\n",
              "      <td>3.116174</td>\n",
              "      <td>15294.315171</td>\n",
              "    </tr>\n",
              "    <tr>\n",
              "      <th>std</th>\n",
              "      <td>180.420210</td>\n",
              "      <td>22.096788</td>\n",
              "      <td>1713.169877</td>\n",
              "    </tr>\n",
              "    <tr>\n",
              "      <th>min</th>\n",
              "      <td>1.000000</td>\n",
              "      <td>0.000000</td>\n",
              "      <td>12346.000000</td>\n",
              "    </tr>\n",
              "    <tr>\n",
              "      <th>25%</th>\n",
              "      <td>2.000000</td>\n",
              "      <td>1.250000</td>\n",
              "      <td>13969.000000</td>\n",
              "    </tr>\n",
              "    <tr>\n",
              "      <th>50%</th>\n",
              "      <td>6.000000</td>\n",
              "      <td>1.950000</td>\n",
              "      <td>15159.000000</td>\n",
              "    </tr>\n",
              "    <tr>\n",
              "      <th>75%</th>\n",
              "      <td>12.000000</td>\n",
              "      <td>3.750000</td>\n",
              "      <td>16795.000000</td>\n",
              "    </tr>\n",
              "    <tr>\n",
              "      <th>max</th>\n",
              "      <td>80995.000000</td>\n",
              "      <td>8142.750000</td>\n",
              "      <td>18287.000000</td>\n",
              "    </tr>\n",
              "  </tbody>\n",
              "</table>\n",
              "</div>\n",
              "      <button class=\"colab-df-convert\" onclick=\"convertToInteractive('df-30a4b805-1d9b-4098-b91c-5cadfca6792a')\"\n",
              "              title=\"Convert this dataframe to an interactive table.\"\n",
              "              style=\"display:none;\">\n",
              "        \n",
              "  <svg xmlns=\"http://www.w3.org/2000/svg\" height=\"24px\"viewBox=\"0 0 24 24\"\n",
              "       width=\"24px\">\n",
              "    <path d=\"M0 0h24v24H0V0z\" fill=\"none\"/>\n",
              "    <path d=\"M18.56 5.44l.94 2.06.94-2.06 2.06-.94-2.06-.94-.94-2.06-.94 2.06-2.06.94zm-11 1L8.5 8.5l.94-2.06 2.06-.94-2.06-.94L8.5 2.5l-.94 2.06-2.06.94zm10 10l.94 2.06.94-2.06 2.06-.94-2.06-.94-.94-2.06-.94 2.06-2.06.94z\"/><path d=\"M17.41 7.96l-1.37-1.37c-.4-.4-.92-.59-1.43-.59-.52 0-1.04.2-1.43.59L10.3 9.45l-7.72 7.72c-.78.78-.78 2.05 0 2.83L4 21.41c.39.39.9.59 1.41.59.51 0 1.02-.2 1.41-.59l7.78-7.78 2.81-2.81c.8-.78.8-2.07 0-2.86zM5.41 20L4 18.59l7.72-7.72 1.47 1.35L5.41 20z\"/>\n",
              "  </svg>\n",
              "      </button>\n",
              "      \n",
              "  <style>\n",
              "    .colab-df-container {\n",
              "      display:flex;\n",
              "      flex-wrap:wrap;\n",
              "      gap: 12px;\n",
              "    }\n",
              "\n",
              "    .colab-df-convert {\n",
              "      background-color: #E8F0FE;\n",
              "      border: none;\n",
              "      border-radius: 50%;\n",
              "      cursor: pointer;\n",
              "      display: none;\n",
              "      fill: #1967D2;\n",
              "      height: 32px;\n",
              "      padding: 0 0 0 0;\n",
              "      width: 32px;\n",
              "    }\n",
              "\n",
              "    .colab-df-convert:hover {\n",
              "      background-color: #E2EBFA;\n",
              "      box-shadow: 0px 1px 2px rgba(60, 64, 67, 0.3), 0px 1px 3px 1px rgba(60, 64, 67, 0.15);\n",
              "      fill: #174EA6;\n",
              "    }\n",
              "\n",
              "    [theme=dark] .colab-df-convert {\n",
              "      background-color: #3B4455;\n",
              "      fill: #D2E3FC;\n",
              "    }\n",
              "\n",
              "    [theme=dark] .colab-df-convert:hover {\n",
              "      background-color: #434B5C;\n",
              "      box-shadow: 0px 1px 3px 1px rgba(0, 0, 0, 0.15);\n",
              "      filter: drop-shadow(0px 1px 2px rgba(0, 0, 0, 0.3));\n",
              "      fill: #FFFFFF;\n",
              "    }\n",
              "  </style>\n",
              "\n",
              "      <script>\n",
              "        const buttonEl =\n",
              "          document.querySelector('#df-30a4b805-1d9b-4098-b91c-5cadfca6792a button.colab-df-convert');\n",
              "        buttonEl.style.display =\n",
              "          google.colab.kernel.accessAllowed ? 'block' : 'none';\n",
              "\n",
              "        async function convertToInteractive(key) {\n",
              "          const element = document.querySelector('#df-30a4b805-1d9b-4098-b91c-5cadfca6792a');\n",
              "          const dataTable =\n",
              "            await google.colab.kernel.invokeFunction('convertToInteractive',\n",
              "                                                     [key], {});\n",
              "          if (!dataTable) return;\n",
              "\n",
              "          const docLinkHtml = 'Like what you see? Visit the ' +\n",
              "            '<a target=\"_blank\" href=https://colab.research.google.com/notebooks/data_table.ipynb>data table notebook</a>'\n",
              "            + ' to learn more about interactive tables.';\n",
              "          element.innerHTML = '';\n",
              "          dataTable['output_type'] = 'display_data';\n",
              "          await google.colab.output.renderOutput(dataTable, element);\n",
              "          const docLink = document.createElement('div');\n",
              "          docLink.innerHTML = docLinkHtml;\n",
              "          element.appendChild(docLink);\n",
              "        }\n",
              "      </script>\n",
              "    </div>\n",
              "  </div>\n",
              "  "
            ]
          },
          "metadata": {},
          "execution_count": 10
        }
      ]
    },
    {
      "cell_type": "markdown",
      "source": [
        "There can be outliers in Quantity"
      ],
      "metadata": {
        "id": "yOgfER6stFOp"
      }
    },
    {
      "cell_type": "markdown",
      "source": [
        "# Dataset is ready for EDA.`"
      ],
      "metadata": {
        "id": "vnJH3WrdtLr1"
      }
    },
    {
      "cell_type": "markdown",
      "source": [
        "# Exploratory data analysis"
      ],
      "metadata": {
        "id": "f39a3zr4tQa5"
      }
    },
    {
      "cell_type": "code",
      "source": [
        "#Counting unique value of features\n",
        "unique_df=pd.DataFrame()\n",
        "unique_df['Features']=df.columns\n",
        "unique=[]\n",
        "for i in df.columns:\n",
        "  unique.append(df[i].nunique())\n",
        "unique_df['Uniques']=unique\n",
        "\n",
        "f, ax = plt.subplots(1,1, figsize=(15,7))\n",
        "\n",
        "splot = sns.barplot(x=unique_df['Features'], y=unique_df['Uniques'], alpha=0.8)\n",
        "for p in splot.patches:\n",
        "    splot.annotate(format(p.get_height(), '.0f'), (p.get_x() + p.get_width() / 2., p.get_height()), ha = 'center',\n",
        "                   va = 'center', xytext = (0, 9), textcoords = 'offset points')\n",
        "plt.title('Bar plot for number of unique values in each column',weight='bold', size=15)\n",
        "plt.ylabel('#Unique values', size=12, weight='bold')\n",
        "plt.xlabel('Features', size=12, weight='bold')\n",
        "plt.xticks(rotation=90)\n",
        "plt.show()"
      ],
      "metadata": {
        "colab": {
          "base_uri": "https://localhost:8080/",
          "height": 522
        },
        "id": "HTcG3jfttHu2",
        "outputId": "1b474015-f7cd-4fd3-ed2b-3ae52621aeab"
      },
      "execution_count": null,
      "outputs": [
        {
          "output_type": "display_data",
          "data": {
            "text/plain": [
              "<Figure size 1080x504 with 1 Axes>"
            ],
            "image/png": "[encoded data removed]"
          },
          "metadata": {}
        }
      ]
    },
    {
      "cell_type": "markdown",
      "source": [
        "Higher no. of Invoice No is justificable here as it represents no. of customers."
      ],
      "metadata": {
        "id": "smz2PXeetjbG"
      }
    },
    {
      "cell_type": "code",
      "source": [
        "# Counting unique value of Description name as higher count comes first\n",
        "Description_df=df['Description'].value_counts().reset_index()\n",
        "Description_df.rename(columns={'index': 'Description_Name'}, inplace=True)\n",
        "Description_df.rename(columns={'Description': 'Count'}, inplace=True)\n",
        "Description_df.head()"
      ],
      "metadata": {
        "colab": {
          "base_uri": "https://localhost:8080/",
          "height": 206
        },
        "id": "OfCbSHWAtHrO",
        "outputId": "65d52826-14b6-4d41-b987-ff3cf079a8e1"
      },
      "execution_count": 11,
      "outputs": [
        {
          "output_type": "execute_result",
          "data": {
            "text/plain": [
              "                     Description_Name  Count\n",
              "0  WHITE HANGING HEART T-LIGHT HOLDER   2028\n",
              "1            REGENCY CAKESTAND 3 TIER   1724\n",
              "2             JUMBO BAG RED RETROSPOT   1618\n",
              "3       ASSORTED COLOUR BIRD ORNAMENT   1408\n",
              "4                       PARTY BUNTING   1397"
            ],
            "text/html": [
              "\n",
              "  <div id=\"df-ff6d4d6b-841c-4bb1-a6dd-0bc467b3846f\">\n",
              "    <div class=\"colab-df-container\">\n",
              "      <div>\n",
              "<style scoped>\n",
              "    .dataframe tbody tr th:only-of-type {\n",
              "        vertical-align: middle;\n",
              "    }\n",
              "\n",
              "    .dataframe tbody tr th {\n",
              "        vertical-align: top;\n",
              "    }\n",
              "\n",
              "    .dataframe thead th {\n",
              "        text-align: right;\n",
              "    }\n",
              "</style>\n",
              "<table border=\"1\" class=\"dataframe\">\n",
              "  <thead>\n",
              "    <tr style=\"text-align: right;\">\n",
              "      <th></th>\n",
              "      <th>Description_Name</th>\n",
              "      <th>Count</th>\n",
              "    </tr>\n",
              "  </thead>\n",
              "  <tbody>\n",
              "    <tr>\n",
              "      <th>0</th>\n",
              "      <td>WHITE HANGING HEART T-LIGHT HOLDER</td>\n",
              "      <td>2028</td>\n",
              "    </tr>\n",
              "    <tr>\n",
              "      <th>1</th>\n",
              "      <td>REGENCY CAKESTAND 3 TIER</td>\n",
              "      <td>1724</td>\n",
              "    </tr>\n",
              "    <tr>\n",
              "      <th>2</th>\n",
              "      <td>JUMBO BAG RED RETROSPOT</td>\n",
              "      <td>1618</td>\n",
              "    </tr>\n",
              "    <tr>\n",
              "      <th>3</th>\n",
              "      <td>ASSORTED COLOUR BIRD ORNAMENT</td>\n",
              "      <td>1408</td>\n",
              "    </tr>\n",
              "    <tr>\n",
              "      <th>4</th>\n",
              "      <td>PARTY BUNTING</td>\n",
              "      <td>1397</td>\n",
              "    </tr>\n",
              "  </tbody>\n",
              "</table>\n",
              "</div>\n",
              "      <button class=\"colab-df-convert\" onclick=\"convertToInteractive('df-ff6d4d6b-841c-4bb1-a6dd-0bc467b3846f')\"\n",
              "              title=\"Convert this dataframe to an interactive table.\"\n",
              "              style=\"display:none;\">\n",
              "        \n",
              "  <svg xmlns=\"http://www.w3.org/2000/svg\" height=\"24px\"viewBox=\"0 0 24 24\"\n",
              "       width=\"24px\">\n",
              "    <path d=\"M0 0h24v24H0V0z\" fill=\"none\"/>\n",
              "    <path d=\"M18.56 5.44l.94 2.06.94-2.06 2.06-.94-2.06-.94-.94-2.06-.94 2.06-2.06.94zm-11 1L8.5 8.5l.94-2.06 2.06-.94-2.06-.94L8.5 2.5l-.94 2.06-2.06.94zm10 10l.94 2.06.94-2.06 2.06-.94-2.06-.94-.94-2.06-.94 2.06-2.06.94z\"/><path d=\"M17.41 7.96l-1.37-1.37c-.4-.4-.92-.59-1.43-.59-.52 0-1.04.2-1.43.59L10.3 9.45l-7.72 7.72c-.78.78-.78 2.05 0 2.83L4 21.41c.39.39.9.59 1.41.59.51 0 1.02-.2 1.41-.59l7.78-7.78 2.81-2.81c.8-.78.8-2.07 0-2.86zM5.41 20L4 18.59l7.72-7.72 1.47 1.35L5.41 20z\"/>\n",
              "  </svg>\n",
              "      </button>\n",
              "      \n",
              "  <style>\n",
              "    .colab-df-container {\n",
              "      display:flex;\n",
              "      flex-wrap:wrap;\n",
              "      gap: 12px;\n",
              "    }\n",
              "\n",
              "    .colab-df-convert {\n",
              "      background-color: #E8F0FE;\n",
              "      border: none;\n",
              "      border-radius: 50%;\n",
              "      cursor: pointer;\n",
              "      display: none;\n",
              "      fill: #1967D2;\n",
              "      height: 32px;\n",
              "      padding: 0 0 0 0;\n",
              "      width: 32px;\n",
              "    }\n",
              "\n",
              "    .colab-df-convert:hover {\n",
              "      background-color: #E2EBFA;\n",
              "      box-shadow: 0px 1px 2px rgba(60, 64, 67, 0.3), 0px 1px 3px 1px rgba(60, 64, 67, 0.15);\n",
              "      fill: #174EA6;\n",
              "    }\n",
              "\n",
              "    [theme=dark] .colab-df-convert {\n",
              "      background-color: #3B4455;\n",
              "      fill: #D2E3FC;\n",
              "    }\n",
              "\n",
              "    [theme=dark] .colab-df-convert:hover {\n",
              "      background-color: #434B5C;\n",
              "      box-shadow: 0px 1px 3px 1px rgba(0, 0, 0, 0.15);\n",
              "      filter: drop-shadow(0px 1px 2px rgba(0, 0, 0, 0.3));\n",
              "      fill: #FFFFFF;\n",
              "    }\n",
              "  </style>\n",
              "\n",
              "      <script>\n",
              "        const buttonEl =\n",
              "          document.querySelector('#df-ff6d4d6b-841c-4bb1-a6dd-0bc467b3846f button.colab-df-convert');\n",
              "        buttonEl.style.display =\n",
              "          google.colab.kernel.accessAllowed ? 'block' : 'none';\n",
              "\n",
              "        async function convertToInteractive(key) {\n",
              "          const element = document.querySelector('#df-ff6d4d6b-841c-4bb1-a6dd-0bc467b3846f');\n",
              "          const dataTable =\n",
              "            await google.colab.kernel.invokeFunction('convertToInteractive',\n",
              "                                                     [key], {});\n",
              "          if (!dataTable) return;\n",
              "\n",
              "          const docLinkHtml = 'Like what you see? Visit the ' +\n",
              "            '<a target=\"_blank\" href=https://colab.research.google.com/notebooks/data_table.ipynb>data table notebook</a>'\n",
              "            + ' to learn more about interactive tables.';\n",
              "          element.innerHTML = '';\n",
              "          dataTable['output_type'] = 'display_data';\n",
              "          await google.colab.output.renderOutput(dataTable, element);\n",
              "          const docLink = document.createElement('div');\n",
              "          docLink.innerHTML = docLinkHtml;\n",
              "          element.appendChild(docLink);\n",
              "        }\n",
              "      </script>\n",
              "    </div>\n",
              "  </div>\n",
              "  "
            ]
          },
          "metadata": {},
          "execution_count": 11
        }
      ]
    },
    {
      "cell_type": "code",
      "source": [
        "#least count of description name\n",
        "Description_df.tail()"
      ],
      "metadata": {
        "colab": {
          "base_uri": "https://localhost:8080/",
          "height": 206
        },
        "id": "DAURWaTutHoZ",
        "outputId": "e1fe0c74-7ac6-49c1-fc79-82c73734d9f8"
      },
      "execution_count": null,
      "outputs": [
        {
          "output_type": "execute_result",
          "data": {
            "text/plain": [
              "                       Description_Name  Count\n",
              "3872         GREEN WITH METAL BAG CHARM      1\n",
              "3873         WHITE WITH METAL BAG CHARM      1\n",
              "3874  BLUE/NAT SHELL NECKLACE W PENDANT      1\n",
              "3875            PINK EASTER HENS+FLOWER      1\n",
              "3876        PAPER CRAFT , LITTLE BIRDIE      1"
            ],
            "text/html": [
              "\n",
              "  <div id=\"df-72c34349-af25-40be-82f7-14fd572ac1b5\">\n",
              "    <div class=\"colab-df-container\">\n",
              "      <div>\n",
              "<style scoped>\n",
              "    .dataframe tbody tr th:only-of-type {\n",
              "        vertical-align: middle;\n",
              "    }\n",
              "\n",
              "    .dataframe tbody tr th {\n",
              "        vertical-align: top;\n",
              "    }\n",
              "\n",
              "    .dataframe thead th {\n",
              "        text-align: right;\n",
              "    }\n",
              "</style>\n",
              "<table border=\"1\" class=\"dataframe\">\n",
              "  <thead>\n",
              "    <tr style=\"text-align: right;\">\n",
              "      <th></th>\n",
              "      <th>Description_Name</th>\n",
              "      <th>Count</th>\n",
              "    </tr>\n",
              "  </thead>\n",
              "  <tbody>\n",
              "    <tr>\n",
              "      <th>3872</th>\n",
              "      <td>GREEN WITH METAL BAG CHARM</td>\n",
              "      <td>1</td>\n",
              "    </tr>\n",
              "    <tr>\n",
              "      <th>3873</th>\n",
              "      <td>WHITE WITH METAL BAG CHARM</td>\n",
              "      <td>1</td>\n",
              "    </tr>\n",
              "    <tr>\n",
              "      <th>3874</th>\n",
              "      <td>BLUE/NAT SHELL NECKLACE W PENDANT</td>\n",
              "      <td>1</td>\n",
              "    </tr>\n",
              "    <tr>\n",
              "      <th>3875</th>\n",
              "      <td>PINK EASTER HENS+FLOWER</td>\n",
              "      <td>1</td>\n",
              "    </tr>\n",
              "    <tr>\n",
              "      <th>3876</th>\n",
              "      <td>PAPER CRAFT , LITTLE BIRDIE</td>\n",
              "      <td>1</td>\n",
              "    </tr>\n",
              "  </tbody>\n",
              "</table>\n",
              "</div>\n",
              "      <button class=\"colab-df-convert\" onclick=\"convertToInteractive('df-72c34349-af25-40be-82f7-14fd572ac1b5')\"\n",
              "              title=\"Convert this dataframe to an interactive table.\"\n",
              "              style=\"display:none;\">\n",
              "        \n",
              "  <svg xmlns=\"http://www.w3.org/2000/svg\" height=\"24px\"viewBox=\"0 0 24 24\"\n",
              "       width=\"24px\">\n",
              "    <path d=\"M0 0h24v24H0V0z\" fill=\"none\"/>\n",
              "    <path d=\"M18.56 5.44l.94 2.06.94-2.06 2.06-.94-2.06-.94-.94-2.06-.94 2.06-2.06.94zm-11 1L8.5 8.5l.94-2.06 2.06-.94-2.06-.94L8.5 2.5l-.94 2.06-2.06.94zm10 10l.94 2.06.94-2.06 2.06-.94-2.06-.94-.94-2.06-.94 2.06-2.06.94z\"/><path d=\"M17.41 7.96l-1.37-1.37c-.4-.4-.92-.59-1.43-.59-.52 0-1.04.2-1.43.59L10.3 9.45l-7.72 7.72c-.78.78-.78 2.05 0 2.83L4 21.41c.39.39.9.59 1.41.59.51 0 1.02-.2 1.41-.59l7.78-7.78 2.81-2.81c.8-.78.8-2.07 0-2.86zM5.41 20L4 18.59l7.72-7.72 1.47 1.35L5.41 20z\"/>\n",
              "  </svg>\n",
              "      </button>\n",
              "      \n",
              "  <style>\n",
              "    .colab-df-container {\n",
              "      display:flex;\n",
              "      flex-wrap:wrap;\n",
              "      gap: 12px;\n",
              "    }\n",
              "\n",
              "    .colab-df-convert {\n",
              "      background-color: #E8F0FE;\n",
              "      border: none;\n",
              "      border-radius: 50%;\n",
              "      cursor: pointer;\n",
              "      display: none;\n",
              "      fill: #1967D2;\n",
              "      height: 32px;\n",
              "      padding: 0 0 0 0;\n",
              "      width: 32px;\n",
              "    }\n",
              "\n",
              "    .colab-df-convert:hover {\n",
              "      background-color: #E2EBFA;\n",
              "      box-shadow: 0px 1px 2px rgba(60, 64, 67, 0.3), 0px 1px 3px 1px rgba(60, 64, 67, 0.15);\n",
              "      fill: #174EA6;\n",
              "    }\n",
              "\n",
              "    [theme=dark] .colab-df-convert {\n",
              "      background-color: #3B4455;\n",
              "      fill: #D2E3FC;\n",
              "    }\n",
              "\n",
              "    [theme=dark] .colab-df-convert:hover {\n",
              "      background-color: #434B5C;\n",
              "      box-shadow: 0px 1px 3px 1px rgba(0, 0, 0, 0.15);\n",
              "      filter: drop-shadow(0px 1px 2px rgba(0, 0, 0, 0.3));\n",
              "      fill: #FFFFFF;\n",
              "    }\n",
              "  </style>\n",
              "\n",
              "      <script>\n",
              "        const buttonEl =\n",
              "          document.querySelector('#df-72c34349-af25-40be-82f7-14fd572ac1b5 button.colab-df-convert');\n",
              "        buttonEl.style.display =\n",
              "          google.colab.kernel.accessAllowed ? 'block' : 'none';\n",
              "\n",
              "        async function convertToInteractive(key) {\n",
              "          const element = document.querySelector('#df-72c34349-af25-40be-82f7-14fd572ac1b5');\n",
              "          const dataTable =\n",
              "            await google.colab.kernel.invokeFunction('convertToInteractive',\n",
              "                                                     [key], {});\n",
              "          if (!dataTable) return;\n",
              "\n",
              "          const docLinkHtml = 'Like what you see? Visit the ' +\n",
              "            '<a target=\"_blank\" href=https://colab.research.google.com/notebooks/data_table.ipynb>data table notebook</a>'\n",
              "            + ' to learn more about interactive tables.';\n",
              "          element.innerHTML = '';\n",
              "          dataTable['output_type'] = 'display_data';\n",
              "          await google.colab.output.renderOutput(dataTable, element);\n",
              "          const docLink = document.createElement('div');\n",
              "          docLink.innerHTML = docLinkHtml;\n",
              "          element.appendChild(docLink);\n",
              "        }\n",
              "      </script>\n",
              "    </div>\n",
              "  </div>\n",
              "  "
            ]
          },
          "metadata": {},
          "execution_count": 44
        }
      ]
    },
    {
      "cell_type": "code",
      "source": [
        "#visualization of count of description name\n",
        "plt.figure(figsize=(18,5))\n",
        "plt.title('Top 5 Product Name')\n",
        "sns.barplot(x='Description_Name',y='Count',data=Description_df[:5])"
      ],
      "metadata": {
        "colab": {
          "base_uri": "https://localhost:8080/",
          "height": 373
        },
        "id": "CCH8jc-MtHlH",
        "outputId": "2af869e1-bd07-4cc4-bf7e-9525447d1156"
      },
      "execution_count": null,
      "outputs": [
        {
          "output_type": "execute_result",
          "data": {
            "text/plain": [
              "<matplotlib.axes._subplots.AxesSubplot at 0x7f35fc08f2e0>"
            ]
          },
          "metadata": {},
          "execution_count": 45
        },
        {
          "output_type": "display_data",
          "data": {
            "text/plain": [
              "<Figure size 1296x360 with 1 Axes>"
            ],
            "image/png": "[encoded data removed]"
          },
          "metadata": {}
        }
      ]
    },
    {
      "cell_type": "markdown",
      "source": [
        "# Top product based on maximum selling are :\n",
        "\n",
        "1.WHITE HANGING HEART T-LIGHT HOLDER,\n",
        "\n",
        "\n",
        "2.REGENCY CAKESTAND 3 TIER\n",
        "\n",
        "\n",
        "3.JUMBO BAG RED RETROSPOT\n",
        "\n",
        "\n",
        "4.PARTY BUNTING\n",
        "\n",
        "\n",
        "5.LUNCH BAG RED RETROSPOT"
      ],
      "metadata": {
        "id": "fONoG3MIt4_K"
      }
    },
    {
      "cell_type": "code",
      "source": [
        "#visualization of tail of description name\n",
        "plt.figure(figsize=(18,5))\n",
        "plt.title('Bottom 5 product Name')\n",
        "sns.barplot(x='Description_Name',y='Count',data=Description_df[-5:])"
      ],
      "metadata": {
        "colab": {
          "base_uri": "https://localhost:8080/",
          "height": 373
        },
        "id": "GNTN-_RItHh4",
        "outputId": "2afec89f-d881-413d-b0df-399c33b37bb6"
      },
      "execution_count": null,
      "outputs": [
        {
          "output_type": "execute_result",
          "data": {
            "text/plain": [
              "<matplotlib.axes._subplots.AxesSubplot at 0x7f360217ff10>"
            ]
          },
          "metadata": {},
          "execution_count": 46
        },
        {
          "output_type": "display_data",
          "data": {
            "text/plain": [
              "<Figure size 1296x360 with 1 Axes>"
            ],
            "image/png": "[encoded data removed]"
          },
          "metadata": {}
        }
      ]
    },
    {
      "cell_type": "markdown",
      "source": [
        "# Bottom 5 Product based on the selling are:\n",
        "1.LIGHT DECORATION BATTERY OPERATED\n",
        "\n",
        "2.Water damaged\n",
        "\n",
        "3.throw away\n",
        "\n",
        "4.re dotcom quick fix.\n",
        "\n",
        "5.BIRTHDAY BANNER TAPE"
      ],
      "metadata": {
        "id": "jLf9khBruI76"
      }
    },
    {
      "cell_type": "code",
      "source": [
        "#count of stockcode_name as higher count comes first\n",
        "StockCode_df=df['StockCode'].value_counts().reset_index()\n",
        "StockCode_df.rename(columns={'index': 'StockCode_Name'}, inplace=True)\n",
        "StockCode_df.rename(columns={'StockCode': 'Count'}, inplace=True)\n",
        "StockCode_df.head()"
      ],
      "metadata": {
        "colab": {
          "base_uri": "https://localhost:8080/",
          "height": 206
        },
        "id": "CJIpUBvWtHex",
        "outputId": "09a1527d-c3bb-4060-c3cb-eb00cea84e5c"
      },
      "execution_count": null,
      "outputs": [
        {
          "output_type": "execute_result",
          "data": {
            "text/plain": [
              "  StockCode_Name  Count\n",
              "0         85123A   2023\n",
              "1          22423   1714\n",
              "2         85099B   1615\n",
              "3          84879   1395\n",
              "4          47566   1390"
            ],
            "text/html": [
              "\n",
              "  <div id=\"df-f61faec8-ecf1-433d-98f9-797d2cedb5eb\">\n",
              "    <div class=\"colab-df-container\">\n",
              "      <div>\n",
              "<style scoped>\n",
              "    .dataframe tbody tr th:only-of-type {\n",
              "        vertical-align: middle;\n",
              "    }\n",
              "\n",
              "    .dataframe tbody tr th {\n",
              "        vertical-align: top;\n",
              "    }\n",
              "\n",
              "    .dataframe thead th {\n",
              "        text-align: right;\n",
              "    }\n",
              "</style>\n",
              "<table border=\"1\" class=\"dataframe\">\n",
              "  <thead>\n",
              "    <tr style=\"text-align: right;\">\n",
              "      <th></th>\n",
              "      <th>StockCode_Name</th>\n",
              "      <th>Count</th>\n",
              "    </tr>\n",
              "  </thead>\n",
              "  <tbody>\n",
              "    <tr>\n",
              "      <th>0</th>\n",
              "      <td>85123A</td>\n",
              "      <td>2023</td>\n",
              "    </tr>\n",
              "    <tr>\n",
              "      <th>1</th>\n",
              "      <td>22423</td>\n",
              "      <td>1714</td>\n",
              "    </tr>\n",
              "    <tr>\n",
              "      <th>2</th>\n",
              "      <td>85099B</td>\n",
              "      <td>1615</td>\n",
              "    </tr>\n",
              "    <tr>\n",
              "      <th>3</th>\n",
              "      <td>84879</td>\n",
              "      <td>1395</td>\n",
              "    </tr>\n",
              "    <tr>\n",
              "      <th>4</th>\n",
              "      <td>47566</td>\n",
              "      <td>1390</td>\n",
              "    </tr>\n",
              "  </tbody>\n",
              "</table>\n",
              "</div>\n",
              "      <button class=\"colab-df-convert\" onclick=\"convertToInteractive('df-f61faec8-ecf1-433d-98f9-797d2cedb5eb')\"\n",
              "              title=\"Convert this dataframe to an interactive table.\"\n",
              "              style=\"display:none;\">\n",
              "        \n",
              "  <svg xmlns=\"http://www.w3.org/2000/svg\" height=\"24px\"viewBox=\"0 0 24 24\"\n",
              "       width=\"24px\">\n",
              "    <path d=\"M0 0h24v24H0V0z\" fill=\"none\"/>\n",
              "    <path d=\"M18.56 5.44l.94 2.06.94-2.06 2.06-.94-2.06-.94-.94-2.06-.94 2.06-2.06.94zm-11 1L8.5 8.5l.94-2.06 2.06-.94-2.06-.94L8.5 2.5l-.94 2.06-2.06.94zm10 10l.94 2.06.94-2.06 2.06-.94-2.06-.94-.94-2.06-.94 2.06-2.06.94z\"/><path d=\"M17.41 7.96l-1.37-1.37c-.4-.4-.92-.59-1.43-.59-.52 0-1.04.2-1.43.59L10.3 9.45l-7.72 7.72c-.78.78-.78 2.05 0 2.83L4 21.41c.39.39.9.59 1.41.59.51 0 1.02-.2 1.41-.59l7.78-7.78 2.81-2.81c.8-.78.8-2.07 0-2.86zM5.41 20L4 18.59l7.72-7.72 1.47 1.35L5.41 20z\"/>\n",
              "  </svg>\n",
              "      </button>\n",
              "      \n",
              "  <style>\n",
              "    .colab-df-container {\n",
              "      display:flex;\n",
              "      flex-wrap:wrap;\n",
              "      gap: 12px;\n",
              "    }\n",
              "\n",
              "    .colab-df-convert {\n",
              "      background-color: #E8F0FE;\n",
              "      border: none;\n",
              "      border-radius: 50%;\n",
              "      cursor: pointer;\n",
              "      display: none;\n",
              "      fill: #1967D2;\n",
              "      height: 32px;\n",
              "      padding: 0 0 0 0;\n",
              "      width: 32px;\n",
              "    }\n",
              "\n",
              "    .colab-df-convert:hover {\n",
              "      background-color: #E2EBFA;\n",
              "      box-shadow: 0px 1px 2px rgba(60, 64, 67, 0.3), 0px 1px 3px 1px rgba(60, 64, 67, 0.15);\n",
              "      fill: #174EA6;\n",
              "    }\n",
              "\n",
              "    [theme=dark] .colab-df-convert {\n",
              "      background-color: #3B4455;\n",
              "      fill: #D2E3FC;\n",
              "    }\n",
              "\n",
              "    [theme=dark] .colab-df-convert:hover {\n",
              "      background-color: #434B5C;\n",
              "      box-shadow: 0px 1px 3px 1px rgba(0, 0, 0, 0.15);\n",
              "      filter: drop-shadow(0px 1px 2px rgba(0, 0, 0, 0.3));\n",
              "      fill: #FFFFFF;\n",
              "    }\n",
              "  </style>\n",
              "\n",
              "      <script>\n",
              "        const buttonEl =\n",
              "          document.querySelector('#df-f61faec8-ecf1-433d-98f9-797d2cedb5eb button.colab-df-convert');\n",
              "        buttonEl.style.display =\n",
              "          google.colab.kernel.accessAllowed ? 'block' : 'none';\n",
              "\n",
              "        async function convertToInteractive(key) {\n",
              "          const element = document.querySelector('#df-f61faec8-ecf1-433d-98f9-797d2cedb5eb');\n",
              "          const dataTable =\n",
              "            await google.colab.kernel.invokeFunction('convertToInteractive',\n",
              "                                                     [key], {});\n",
              "          if (!dataTable) return;\n",
              "\n",
              "          const docLinkHtml = 'Like what you see? Visit the ' +\n",
              "            '<a target=\"_blank\" href=https://colab.research.google.com/notebooks/data_table.ipynb>data table notebook</a>'\n",
              "            + ' to learn more about interactive tables.';\n",
              "          element.innerHTML = '';\n",
              "          dataTable['output_type'] = 'display_data';\n",
              "          await google.colab.output.renderOutput(dataTable, element);\n",
              "          const docLink = document.createElement('div');\n",
              "          docLink.innerHTML = docLinkHtml;\n",
              "          element.appendChild(docLink);\n",
              "        }\n",
              "      </script>\n",
              "    </div>\n",
              "  </div>\n",
              "  "
            ]
          },
          "metadata": {},
          "execution_count": 47
        }
      ]
    },
    {
      "cell_type": "code",
      "source": [
        "#count of stockcode from last\n",
        "StockCode_df.tail()"
      ],
      "metadata": {
        "colab": {
          "base_uri": "https://localhost:8080/",
          "height": 206
        },
        "id": "74EztbMuuqBZ",
        "outputId": "d54c10ce-0992-4d6c-d718-c102b2a07c67"
      },
      "execution_count": null,
      "outputs": [
        {
          "output_type": "execute_result",
          "data": {
            "text/plain": [
              "     StockCode_Name  Count\n",
              "3660          20678      1\n",
              "3661         90059D      1\n",
              "3662          90168      1\n",
              "3663          90169      1\n",
              "3664          23843      1"
            ],
            "text/html": [
              "\n",
              "  <div id=\"df-4bda81d4-2e40-42a0-8d50-6a53c26efac3\">\n",
              "    <div class=\"colab-df-container\">\n",
              "      <div>\n",
              "<style scoped>\n",
              "    .dataframe tbody tr th:only-of-type {\n",
              "        vertical-align: middle;\n",
              "    }\n",
              "\n",
              "    .dataframe tbody tr th {\n",
              "        vertical-align: top;\n",
              "    }\n",
              "\n",
              "    .dataframe thead th {\n",
              "        text-align: right;\n",
              "    }\n",
              "</style>\n",
              "<table border=\"1\" class=\"dataframe\">\n",
              "  <thead>\n",
              "    <tr style=\"text-align: right;\">\n",
              "      <th></th>\n",
              "      <th>StockCode_Name</th>\n",
              "      <th>Count</th>\n",
              "    </tr>\n",
              "  </thead>\n",
              "  <tbody>\n",
              "    <tr>\n",
              "      <th>3660</th>\n",
              "      <td>20678</td>\n",
              "      <td>1</td>\n",
              "    </tr>\n",
              "    <tr>\n",
              "      <th>3661</th>\n",
              "      <td>90059D</td>\n",
              "      <td>1</td>\n",
              "    </tr>\n",
              "    <tr>\n",
              "      <th>3662</th>\n",
              "      <td>90168</td>\n",
              "      <td>1</td>\n",
              "    </tr>\n",
              "    <tr>\n",
              "      <th>3663</th>\n",
              "      <td>90169</td>\n",
              "      <td>1</td>\n",
              "    </tr>\n",
              "    <tr>\n",
              "      <th>3664</th>\n",
              "      <td>23843</td>\n",
              "      <td>1</td>\n",
              "    </tr>\n",
              "  </tbody>\n",
              "</table>\n",
              "</div>\n",
              "      <button class=\"colab-df-convert\" onclick=\"convertToInteractive('df-4bda81d4-2e40-42a0-8d50-6a53c26efac3')\"\n",
              "              title=\"Convert this dataframe to an interactive table.\"\n",
              "              style=\"display:none;\">\n",
              "        \n",
              "  <svg xmlns=\"http://www.w3.org/2000/svg\" height=\"24px\"viewBox=\"0 0 24 24\"\n",
              "       width=\"24px\">\n",
              "    <path d=\"M0 0h24v24H0V0z\" fill=\"none\"/>\n",
              "    <path d=\"M18.56 5.44l.94 2.06.94-2.06 2.06-.94-2.06-.94-.94-2.06-.94 2.06-2.06.94zm-11 1L8.5 8.5l.94-2.06 2.06-.94-2.06-.94L8.5 2.5l-.94 2.06-2.06.94zm10 10l.94 2.06.94-2.06 2.06-.94-2.06-.94-.94-2.06-.94 2.06-2.06.94z\"/><path d=\"M17.41 7.96l-1.37-1.37c-.4-.4-.92-.59-1.43-.59-.52 0-1.04.2-1.43.59L10.3 9.45l-7.72 7.72c-.78.78-.78 2.05 0 2.83L4 21.41c.39.39.9.59 1.41.59.51 0 1.02-.2 1.41-.59l7.78-7.78 2.81-2.81c.8-.78.8-2.07 0-2.86zM5.41 20L4 18.59l7.72-7.72 1.47 1.35L5.41 20z\"/>\n",
              "  </svg>\n",
              "      </button>\n",
              "      \n",
              "  <style>\n",
              "    .colab-df-container {\n",
              "      display:flex;\n",
              "      flex-wrap:wrap;\n",
              "      gap: 12px;\n",
              "    }\n",
              "\n",
              "    .colab-df-convert {\n",
              "      background-color: #E8F0FE;\n",
              "      border: none;\n",
              "      border-radius: 50%;\n",
              "      cursor: pointer;\n",
              "      display: none;\n",
              "      fill: #1967D2;\n",
              "      height: 32px;\n",
              "      padding: 0 0 0 0;\n",
              "      width: 32px;\n",
              "    }\n",
              "\n",
              "    .colab-df-convert:hover {\n",
              "      background-color: #E2EBFA;\n",
              "      box-shadow: 0px 1px 2px rgba(60, 64, 67, 0.3), 0px 1px 3px 1px rgba(60, 64, 67, 0.15);\n",
              "      fill: #174EA6;\n",
              "    }\n",
              "\n",
              "    [theme=dark] .colab-df-convert {\n",
              "      background-color: #3B4455;\n",
              "      fill: #D2E3FC;\n",
              "    }\n",
              "\n",
              "    [theme=dark] .colab-df-convert:hover {\n",
              "      background-color: #434B5C;\n",
              "      box-shadow: 0px 1px 3px 1px rgba(0, 0, 0, 0.15);\n",
              "      filter: drop-shadow(0px 1px 2px rgba(0, 0, 0, 0.3));\n",
              "      fill: #FFFFFF;\n",
              "    }\n",
              "  </style>\n",
              "\n",
              "      <script>\n",
              "        const buttonEl =\n",
              "          document.querySelector('#df-4bda81d4-2e40-42a0-8d50-6a53c26efac3 button.colab-df-convert');\n",
              "        buttonEl.style.display =\n",
              "          google.colab.kernel.accessAllowed ? 'block' : 'none';\n",
              "\n",
              "        async function convertToInteractive(key) {\n",
              "          const element = document.querySelector('#df-4bda81d4-2e40-42a0-8d50-6a53c26efac3');\n",
              "          const dataTable =\n",
              "            await google.colab.kernel.invokeFunction('convertToInteractive',\n",
              "                                                     [key], {});\n",
              "          if (!dataTable) return;\n",
              "\n",
              "          const docLinkHtml = 'Like what you see? Visit the ' +\n",
              "            '<a target=\"_blank\" href=https://colab.research.google.com/notebooks/data_table.ipynb>data table notebook</a>'\n",
              "            + ' to learn more about interactive tables.';\n",
              "          element.innerHTML = '';\n",
              "          dataTable['output_type'] = 'display_data';\n",
              "          await google.colab.output.renderOutput(dataTable, element);\n",
              "          const docLink = document.createElement('div');\n",
              "          docLink.innerHTML = docLinkHtml;\n",
              "          element.appendChild(docLink);\n",
              "        }\n",
              "      </script>\n",
              "    </div>\n",
              "  </div>\n",
              "  "
            ]
          },
          "metadata": {},
          "execution_count": 48
        }
      ]
    },
    {
      "cell_type": "code",
      "source": [
        "#visualization of count of stock name\n",
        "plt.figure(figsize=(13,6))\n",
        "plt.title('Top 5 Stock Name')\n",
        "sns.barplot(x='StockCode_Name',y='Count',data=StockCode_df[:5])"
      ],
      "metadata": {
        "colab": {
          "base_uri": "https://localhost:8080/",
          "height": 428
        },
        "id": "7_IrR9k_tHbo",
        "outputId": "0ae32306-9d85-4d0b-b4c8-71b43b6963b2"
      },
      "execution_count": null,
      "outputs": [
        {
          "output_type": "execute_result",
          "data": {
            "text/plain": [
              "<matplotlib.axes._subplots.AxesSubplot at 0x7f3600121160>"
            ]
          },
          "metadata": {},
          "execution_count": 49
        },
        {
          "output_type": "display_data",
          "data": {
            "text/plain": [
              "<Figure size 936x432 with 1 Axes>"
            ],
            "image/png": "[encoded data removed]"
          },
          "metadata": {}
        }
      ]
    },
    {
      "cell_type": "markdown",
      "source": [
        "# Top 5 Stock name based on selling are :\n",
        "\n",
        "1.85123A\n",
        "\n",
        "\n",
        "2.22423\n",
        "\n",
        "\n",
        "3.85099B\n",
        "\n",
        "\n",
        "4.47566\n",
        "\n",
        "\n",
        "5.20725"
      ],
      "metadata": {
        "id": "8_Is0l4Wu12b"
      }
    },
    {
      "cell_type": "code",
      "source": [
        "#visualization\n",
        "plt.figure(figsize=(13,5))\n",
        "plt.title('Bottom 5 Stock Name')\n",
        "sns.barplot(x='StockCode_Name',y='Count',data=StockCode_df[-5:])"
      ],
      "metadata": {
        "colab": {
          "base_uri": "https://localhost:8080/",
          "height": 373
        },
        "id": "dxcIzZk0usAJ",
        "outputId": "61441b99-c979-441d-f87a-7a82d7c704e4"
      },
      "execution_count": null,
      "outputs": [
        {
          "output_type": "execute_result",
          "data": {
            "text/plain": [
              "<matplotlib.axes._subplots.AxesSubplot at 0x7f35ffabec10>"
            ]
          },
          "metadata": {},
          "execution_count": 50
        },
        {
          "output_type": "display_data",
          "data": {
            "text/plain": [
              "<Figure size 936x360 with 1 Axes>"
            ],
            "image/png": "[encoded data removed]"
          },
          "metadata": {}
        }
      ]
    },
    {
      "cell_type": "code",
      "source": [
        "# Counting unique value of country_name as higher count comes first\n",
        "country_df=df['Country'].value_counts().reset_index()\n",
        "country_df.rename(columns={'index': 'Country_Name'}, inplace=True)\n",
        "country_df.rename(columns={'Country': 'Count'}, inplace=True)\n",
        "country_df.head()"
      ],
      "metadata": {
        "colab": {
          "base_uri": "https://localhost:8080/",
          "height": 206
        },
        "id": "dLz7rtJpur8v",
        "outputId": "9c64ebe5-abdb-4e0b-b5ec-f99f1870dcfd"
      },
      "execution_count": 12,
      "outputs": [
        {
          "output_type": "execute_result",
          "data": {
            "text/plain": [
              "     Country_Name   Count\n",
              "0  United Kingdom  354345\n",
              "1         Germany    9042\n",
              "2          France    8342\n",
              "3            EIRE    7238\n",
              "4           Spain    2485"
            ],
            "text/html": [
              "\n",
              "  <div id=\"df-cd2489e7-1b75-4760-b233-bca36c2715cf\">\n",
              "    <div class=\"colab-df-container\">\n",
              "      <div>\n",
              "<style scoped>\n",
              "    .dataframe tbody tr th:only-of-type {\n",
              "        vertical-align: middle;\n",
              "    }\n",
              "\n",
              "    .dataframe tbody tr th {\n",
              "        vertical-align: top;\n",
              "    }\n",
              "\n",
              "    .dataframe thead th {\n",
              "        text-align: right;\n",
              "    }\n",
              "</style>\n",
              "<table border=\"1\" class=\"dataframe\">\n",
              "  <thead>\n",
              "    <tr style=\"text-align: right;\">\n",
              "      <th></th>\n",
              "      <th>Country_Name</th>\n",
              "      <th>Count</th>\n",
              "    </tr>\n",
              "  </thead>\n",
              "  <tbody>\n",
              "    <tr>\n",
              "      <th>0</th>\n",
              "      <td>United Kingdom</td>\n",
              "      <td>354345</td>\n",
              "    </tr>\n",
              "    <tr>\n",
              "      <th>1</th>\n",
              "      <td>Germany</td>\n",
              "      <td>9042</td>\n",
              "    </tr>\n",
              "    <tr>\n",
              "      <th>2</th>\n",
              "      <td>France</td>\n",
              "      <td>8342</td>\n",
              "    </tr>\n",
              "    <tr>\n",
              "      <th>3</th>\n",
              "      <td>EIRE</td>\n",
              "      <td>7238</td>\n",
              "    </tr>\n",
              "    <tr>\n",
              "      <th>4</th>\n",
              "      <td>Spain</td>\n",
              "      <td>2485</td>\n",
              "    </tr>\n",
              "  </tbody>\n",
              "</table>\n",
              "</div>\n",
              "      <button class=\"colab-df-convert\" onclick=\"convertToInteractive('df-cd2489e7-1b75-4760-b233-bca36c2715cf')\"\n",
              "              title=\"Convert this dataframe to an interactive table.\"\n",
              "              style=\"display:none;\">\n",
              "        \n",
              "  <svg xmlns=\"http://www.w3.org/2000/svg\" height=\"24px\"viewBox=\"0 0 24 24\"\n",
              "       width=\"24px\">\n",
              "    <path d=\"M0 0h24v24H0V0z\" fill=\"none\"/>\n",
              "    <path d=\"M18.56 5.44l.94 2.06.94-2.06 2.06-.94-2.06-.94-.94-2.06-.94 2.06-2.06.94zm-11 1L8.5 8.5l.94-2.06 2.06-.94-2.06-.94L8.5 2.5l-.94 2.06-2.06.94zm10 10l.94 2.06.94-2.06 2.06-.94-2.06-.94-.94-2.06-.94 2.06-2.06.94z\"/><path d=\"M17.41 7.96l-1.37-1.37c-.4-.4-.92-.59-1.43-.59-.52 0-1.04.2-1.43.59L10.3 9.45l-7.72 7.72c-.78.78-.78 2.05 0 2.83L4 21.41c.39.39.9.59 1.41.59.51 0 1.02-.2 1.41-.59l7.78-7.78 2.81-2.81c.8-.78.8-2.07 0-2.86zM5.41 20L4 18.59l7.72-7.72 1.47 1.35L5.41 20z\"/>\n",
              "  </svg>\n",
              "      </button>\n",
              "      \n",
              "  <style>\n",
              "    .colab-df-container {\n",
              "      display:flex;\n",
              "      flex-wrap:wrap;\n",
              "      gap: 12px;\n",
              "    }\n",
              "\n",
              "    .colab-df-convert {\n",
              "      background-color: #E8F0FE;\n",
              "      border: none;\n",
              "      border-radius: 50%;\n",
              "      cursor: pointer;\n",
              "      display: none;\n",
              "      fill: #1967D2;\n",
              "      height: 32px;\n",
              "      padding: 0 0 0 0;\n",
              "      width: 32px;\n",
              "    }\n",
              "\n",
              "    .colab-df-convert:hover {\n",
              "      background-color: #E2EBFA;\n",
              "      box-shadow: 0px 1px 2px rgba(60, 64, 67, 0.3), 0px 1px 3px 1px rgba(60, 64, 67, 0.15);\n",
              "      fill: #174EA6;\n",
              "    }\n",
              "\n",
              "    [theme=dark] .colab-df-convert {\n",
              "      background-color: #3B4455;\n",
              "      fill: #D2E3FC;\n",
              "    }\n",
              "\n",
              "    [theme=dark] .colab-df-convert:hover {\n",
              "      background-color: #434B5C;\n",
              "      box-shadow: 0px 1px 3px 1px rgba(0, 0, 0, 0.15);\n",
              "      filter: drop-shadow(0px 1px 2px rgba(0, 0, 0, 0.3));\n",
              "      fill: #FFFFFF;\n",
              "    }\n",
              "  </style>\n",
              "\n",
              "      <script>\n",
              "        const buttonEl =\n",
              "          document.querySelector('#df-cd2489e7-1b75-4760-b233-bca36c2715cf button.colab-df-convert');\n",
              "        buttonEl.style.display =\n",
              "          google.colab.kernel.accessAllowed ? 'block' : 'none';\n",
              "\n",
              "        async function convertToInteractive(key) {\n",
              "          const element = document.querySelector('#df-cd2489e7-1b75-4760-b233-bca36c2715cf');\n",
              "          const dataTable =\n",
              "            await google.colab.kernel.invokeFunction('convertToInteractive',\n",
              "                                                     [key], {});\n",
              "          if (!dataTable) return;\n",
              "\n",
              "          const docLinkHtml = 'Like what you see? Visit the ' +\n",
              "            '<a target=\"_blank\" href=https://colab.research.google.com/notebooks/data_table.ipynb>data table notebook</a>'\n",
              "            + ' to learn more about interactive tables.';\n",
              "          element.innerHTML = '';\n",
              "          dataTable['output_type'] = 'display_data';\n",
              "          await google.colab.output.renderOutput(dataTable, element);\n",
              "          const docLink = document.createElement('div');\n",
              "          docLink.innerHTML = docLinkHtml;\n",
              "          element.appendChild(docLink);\n",
              "        }\n",
              "      </script>\n",
              "    </div>\n",
              "  </div>\n",
              "  "
            ]
          },
          "metadata": {},
          "execution_count": 12
        }
      ]
    },
    {
      "cell_type": "code",
      "source": [
        "country_df.tail()"
      ],
      "metadata": {
        "colab": {
          "base_uri": "https://localhost:8080/",
          "height": 206
        },
        "id": "jVMZ4AWNur5q",
        "outputId": "98d95120-6b6e-45e8-ee2b-752e3ffb2b19"
      },
      "execution_count": null,
      "outputs": [
        {
          "output_type": "execute_result",
          "data": {
            "text/plain": [
              "      Country_Name  Count\n",
              "32       Lithuania     35\n",
              "33          Brazil     32\n",
              "34  Czech Republic     25\n",
              "35         Bahrain     17\n",
              "36    Saudi Arabia      9"
            ],
            "text/html": [
              "\n",
              "  <div id=\"df-2571552d-bfcf-4171-9b84-b5f1239562f0\">\n",
              "    <div class=\"colab-df-container\">\n",
              "      <div>\n",
              "<style scoped>\n",
              "    .dataframe tbody tr th:only-of-type {\n",
              "        vertical-align: middle;\n",
              "    }\n",
              "\n",
              "    .dataframe tbody tr th {\n",
              "        vertical-align: top;\n",
              "    }\n",
              "\n",
              "    .dataframe thead th {\n",
              "        text-align: right;\n",
              "    }\n",
              "</style>\n",
              "<table border=\"1\" class=\"dataframe\">\n",
              "  <thead>\n",
              "    <tr style=\"text-align: right;\">\n",
              "      <th></th>\n",
              "      <th>Country_Name</th>\n",
              "      <th>Count</th>\n",
              "    </tr>\n",
              "  </thead>\n",
              "  <tbody>\n",
              "    <tr>\n",
              "      <th>32</th>\n",
              "      <td>Lithuania</td>\n",
              "      <td>35</td>\n",
              "    </tr>\n",
              "    <tr>\n",
              "      <th>33</th>\n",
              "      <td>Brazil</td>\n",
              "      <td>32</td>\n",
              "    </tr>\n",
              "    <tr>\n",
              "      <th>34</th>\n",
              "      <td>Czech Republic</td>\n",
              "      <td>25</td>\n",
              "    </tr>\n",
              "    <tr>\n",
              "      <th>35</th>\n",
              "      <td>Bahrain</td>\n",
              "      <td>17</td>\n",
              "    </tr>\n",
              "    <tr>\n",
              "      <th>36</th>\n",
              "      <td>Saudi Arabia</td>\n",
              "      <td>9</td>\n",
              "    </tr>\n",
              "  </tbody>\n",
              "</table>\n",
              "</div>\n",
              "      <button class=\"colab-df-convert\" onclick=\"convertToInteractive('df-2571552d-bfcf-4171-9b84-b5f1239562f0')\"\n",
              "              title=\"Convert this dataframe to an interactive table.\"\n",
              "              style=\"display:none;\">\n",
              "        \n",
              "  <svg xmlns=\"http://www.w3.org/2000/svg\" height=\"24px\"viewBox=\"0 0 24 24\"\n",
              "       width=\"24px\">\n",
              "    <path d=\"M0 0h24v24H0V0z\" fill=\"none\"/>\n",
              "    <path d=\"M18.56 5.44l.94 2.06.94-2.06 2.06-.94-2.06-.94-.94-2.06-.94 2.06-2.06.94zm-11 1L8.5 8.5l.94-2.06 2.06-.94-2.06-.94L8.5 2.5l-.94 2.06-2.06.94zm10 10l.94 2.06.94-2.06 2.06-.94-2.06-.94-.94-2.06-.94 2.06-2.06.94z\"/><path d=\"M17.41 7.96l-1.37-1.37c-.4-.4-.92-.59-1.43-.59-.52 0-1.04.2-1.43.59L10.3 9.45l-7.72 7.72c-.78.78-.78 2.05 0 2.83L4 21.41c.39.39.9.59 1.41.59.51 0 1.02-.2 1.41-.59l7.78-7.78 2.81-2.81c.8-.78.8-2.07 0-2.86zM5.41 20L4 18.59l7.72-7.72 1.47 1.35L5.41 20z\"/>\n",
              "  </svg>\n",
              "      </button>\n",
              "      \n",
              "  <style>\n",
              "    .colab-df-container {\n",
              "      display:flex;\n",
              "      flex-wrap:wrap;\n",
              "      gap: 12px;\n",
              "    }\n",
              "\n",
              "    .colab-df-convert {\n",
              "      background-color: #E8F0FE;\n",
              "      border: none;\n",
              "      border-radius: 50%;\n",
              "      cursor: pointer;\n",
              "      display: none;\n",
              "      fill: #1967D2;\n",
              "      height: 32px;\n",
              "      padding: 0 0 0 0;\n",
              "      width: 32px;\n",
              "    }\n",
              "\n",
              "    .colab-df-convert:hover {\n",
              "      background-color: #E2EBFA;\n",
              "      box-shadow: 0px 1px 2px rgba(60, 64, 67, 0.3), 0px 1px 3px 1px rgba(60, 64, 67, 0.15);\n",
              "      fill: #174EA6;\n",
              "    }\n",
              "\n",
              "    [theme=dark] .colab-df-convert {\n",
              "      background-color: #3B4455;\n",
              "      fill: #D2E3FC;\n",
              "    }\n",
              "\n",
              "    [theme=dark] .colab-df-convert:hover {\n",
              "      background-color: #434B5C;\n",
              "      box-shadow: 0px 1px 3px 1px rgba(0, 0, 0, 0.15);\n",
              "      filter: drop-shadow(0px 1px 2px rgba(0, 0, 0, 0.3));\n",
              "      fill: #FFFFFF;\n",
              "    }\n",
              "  </style>\n",
              "\n",
              "      <script>\n",
              "        const buttonEl =\n",
              "          document.querySelector('#df-2571552d-bfcf-4171-9b84-b5f1239562f0 button.colab-df-convert');\n",
              "        buttonEl.style.display =\n",
              "          google.colab.kernel.accessAllowed ? 'block' : 'none';\n",
              "\n",
              "        async function convertToInteractive(key) {\n",
              "          const element = document.querySelector('#df-2571552d-bfcf-4171-9b84-b5f1239562f0');\n",
              "          const dataTable =\n",
              "            await google.colab.kernel.invokeFunction('convertToInteractive',\n",
              "                                                     [key], {});\n",
              "          if (!dataTable) return;\n",
              "\n",
              "          const docLinkHtml = 'Like what you see? Visit the ' +\n",
              "            '<a target=\"_blank\" href=https://colab.research.google.com/notebooks/data_table.ipynb>data table notebook</a>'\n",
              "            + ' to learn more about interactive tables.';\n",
              "          element.innerHTML = '';\n",
              "          dataTable['output_type'] = 'display_data';\n",
              "          await google.colab.output.renderOutput(dataTable, element);\n",
              "          const docLink = document.createElement('div');\n",
              "          docLink.innerHTML = docLinkHtml;\n",
              "          element.appendChild(docLink);\n",
              "        }\n",
              "      </script>\n",
              "    </div>\n",
              "  </div>\n",
              "  "
            ]
          },
          "metadata": {},
          "execution_count": 52
        }
      ]
    },
    {
      "cell_type": "code",
      "source": [
        "#visualization of 'Top 5 Country based Most Numbers of  Customers'\n",
        "plt.figure(figsize=(13,6))\n",
        "plt.title('Top 5 Country based on the Most Numbers Customers')\n",
        "sns.barplot(x='Country_Name',y='Count',data=country_df[:5])"
      ],
      "metadata": {
        "colab": {
          "base_uri": "https://localhost:8080/",
          "height": 428
        },
        "id": "h-QJMUl0ur3N",
        "outputId": "0323a2ea-a9cb-4c18-af58-2ea1dc913d7c"
      },
      "execution_count": null,
      "outputs": [
        {
          "output_type": "execute_result",
          "data": {
            "text/plain": [
              "<matplotlib.axes._subplots.AxesSubplot at 0x7f3608079670>"
            ]
          },
          "metadata": {},
          "execution_count": 53
        },
        {
          "output_type": "display_data",
          "data": {
            "text/plain": [
              "<Figure size 936x432 with 1 Axes>"
            ],
            "image/png": "[encoded data removed]"
          },
          "metadata": {}
        }
      ]
    },
    {
      "cell_type": "markdown",
      "source": [
        "## From this graph we can see that most of the customers are from United Kingdom ,Germany ,France ,EIRE and Spain"
      ],
      "metadata": {
        "id": "YGyaKLDzvtWx"
      }
    },
    {
      "cell_type": "code",
      "source": [
        "#visualization of 'Top 5 Country based least Numbers of  Customers'\n",
        "plt.figure(figsize=(13,5))\n",
        "plt.title('Top 5 Country based least Numbers of  Customers')\n",
        "sns.barplot(x='Country_Name',y='Count',data=country_df[-5:])"
      ],
      "metadata": {
        "colab": {
          "base_uri": "https://localhost:8080/",
          "height": 373
        },
        "id": "1WfuBn98urz3",
        "outputId": "06cdf4ad-4061-4b5c-f739-fb896bcd4283"
      },
      "execution_count": null,
      "outputs": [
        {
          "output_type": "execute_result",
          "data": {
            "text/plain": [
              "<matplotlib.axes._subplots.AxesSubplot at 0x7f36077206a0>"
            ]
          },
          "metadata": {},
          "execution_count": 54
        },
        {
          "output_type": "display_data",
          "data": {
            "text/plain": [
              "<Figure size 936x360 with 1 Axes>"
            ],
            "image/png": "[encoded data removed]"
          },
          "metadata": {}
        }
      ]
    },
    {
      "cell_type": "markdown",
      "source": [
        "## From this graph we can see that least number of customers from Lithuania,Brazil, Czech Republic ,Bahrain and Saudi Arabia"
      ],
      "metadata": {
        "id": "JkMkJ8g3v-56"
      }
    },
    {
      "cell_type": "code",
      "source": [
        "#exploring 'Saudi Arabia'\n",
        "df[df['Country']=='Saudi Arabia']"
      ],
      "metadata": {
        "colab": {
          "base_uri": "https://localhost:8080/",
          "height": 331
        },
        "id": "MGUY8SYzurw2",
        "outputId": "0510a260-354c-4623-c322-dd8d04630ecf"
      },
      "execution_count": null,
      "outputs": [
        {
          "output_type": "execute_result",
          "data": {
            "text/plain": [
              "       InvoiceNo StockCode                        Description  Quantity  \\\n",
              "100810    544838     22915      ASSORTED BOTTLE TOP  MAGNETS         12   \n",
              "100811    544838     22363               GLASS JAR MARMALADE          6   \n",
              "100812    544838     22362       GLASS JAR PEACOCK BATH SALTS         6   \n",
              "100813    544838     22361  GLASS JAR DAISY FRESH COTTON WOOL         6   \n",
              "100814    544838     22553             PLASTERS IN TIN SKULLS        12   \n",
              "100815    544838     22555          PLASTERS IN TIN STRONGMAN        12   \n",
              "100816    544838     22556     PLASTERS IN TIN CIRCUS PARADE         12   \n",
              "100817    544838     20781           GOLD EAR MUFF HEADPHONES         2   \n",
              "100818    544838     22969       HOMEMADE JAM SCENTED CANDLES        12   \n",
              "\n",
              "               InvoiceDate  UnitPrice  CustomerID       Country  \n",
              "100810 2011-02-24 10:34:00       0.42     12565.0  Saudi Arabia  \n",
              "100811 2011-02-24 10:34:00       2.95     12565.0  Saudi Arabia  \n",
              "100812 2011-02-24 10:34:00       2.95     12565.0  Saudi Arabia  \n",
              "100813 2011-02-24 10:34:00       2.95     12565.0  Saudi Arabia  \n",
              "100814 2011-02-24 10:34:00       1.65     12565.0  Saudi Arabia  \n",
              "100815 2011-02-24 10:34:00       1.65     12565.0  Saudi Arabia  \n",
              "100816 2011-02-24 10:34:00       1.65     12565.0  Saudi Arabia  \n",
              "100817 2011-02-24 10:34:00       5.49     12565.0  Saudi Arabia  \n",
              "100818 2011-02-24 10:34:00       1.45     12565.0  Saudi Arabia  "
            ],
            "text/html": [
              "\n",
              "  <div id=\"df-778c81de-30d7-4e4c-afb7-c17804b5f614\">\n",
              "    <div class=\"colab-df-container\">\n",
              "      <div>\n",
              "<style scoped>\n",
              "    .dataframe tbody tr th:only-of-type {\n",
              "        vertical-align: middle;\n",
              "    }\n",
              "\n",
              "    .dataframe tbody tr th {\n",
              "        vertical-align: top;\n",
              "    }\n",
              "\n",
              "    .dataframe thead th {\n",
              "        text-align: right;\n",
              "    }\n",
              "</style>\n",
              "<table border=\"1\" class=\"dataframe\">\n",
              "  <thead>\n",
              "    <tr style=\"text-align: right;\">\n",
              "      <th></th>\n",
              "      <th>InvoiceNo</th>\n",
              "      <th>StockCode</th>\n",
              "      <th>Description</th>\n",
              "      <th>Quantity</th>\n",
              "      <th>InvoiceDate</th>\n",
              "      <th>UnitPrice</th>\n",
              "      <th>CustomerID</th>\n",
              "      <th>Country</th>\n",
              "    </tr>\n",
              "  </thead>\n",
              "  <tbody>\n",
              "    <tr>\n",
              "      <th>100810</th>\n",
              "      <td>544838</td>\n",
              "      <td>22915</td>\n",
              "      <td>ASSORTED BOTTLE TOP  MAGNETS</td>\n",
              "      <td>12</td>\n",
              "      <td>2011-02-24 10:34:00</td>\n",
              "      <td>0.42</td>\n",
              "      <td>12565.0</td>\n",
              "      <td>Saudi Arabia</td>\n",
              "    </tr>\n",
              "    <tr>\n",
              "      <th>100811</th>\n",
              "      <td>544838</td>\n",
              "      <td>22363</td>\n",
              "      <td>GLASS JAR MARMALADE</td>\n",
              "      <td>6</td>\n",
              "      <td>2011-02-24 10:34:00</td>\n",
              "      <td>2.95</td>\n",
              "      <td>12565.0</td>\n",
              "      <td>Saudi Arabia</td>\n",
              "    </tr>\n",
              "    <tr>\n",
              "      <th>100812</th>\n",
              "      <td>544838</td>\n",
              "      <td>22362</td>\n",
              "      <td>GLASS JAR PEACOCK BATH SALTS</td>\n",
              "      <td>6</td>\n",
              "      <td>2011-02-24 10:34:00</td>\n",
              "      <td>2.95</td>\n",
              "      <td>12565.0</td>\n",
              "      <td>Saudi Arabia</td>\n",
              "    </tr>\n",
              "    <tr>\n",
              "      <th>100813</th>\n",
              "      <td>544838</td>\n",
              "      <td>22361</td>\n",
              "      <td>GLASS JAR DAISY FRESH COTTON WOOL</td>\n",
              "      <td>6</td>\n",
              "      <td>2011-02-24 10:34:00</td>\n",
              "      <td>2.95</td>\n",
              "      <td>12565.0</td>\n",
              "      <td>Saudi Arabia</td>\n",
              "    </tr>\n",
              "    <tr>\n",
              "      <th>100814</th>\n",
              "      <td>544838</td>\n",
              "      <td>22553</td>\n",
              "      <td>PLASTERS IN TIN SKULLS</td>\n",
              "      <td>12</td>\n",
              "      <td>2011-02-24 10:34:00</td>\n",
              "      <td>1.65</td>\n",
              "      <td>12565.0</td>\n",
              "      <td>Saudi Arabia</td>\n",
              "    </tr>\n",
              "    <tr>\n",
              "      <th>100815</th>\n",
              "      <td>544838</td>\n",
              "      <td>22555</td>\n",
              "      <td>PLASTERS IN TIN STRONGMAN</td>\n",
              "      <td>12</td>\n",
              "      <td>2011-02-24 10:34:00</td>\n",
              "      <td>1.65</td>\n",
              "      <td>12565.0</td>\n",
              "      <td>Saudi Arabia</td>\n",
              "    </tr>\n",
              "    <tr>\n",
              "      <th>100816</th>\n",
              "      <td>544838</td>\n",
              "      <td>22556</td>\n",
              "      <td>PLASTERS IN TIN CIRCUS PARADE</td>\n",
              "      <td>12</td>\n",
              "      <td>2011-02-24 10:34:00</td>\n",
              "      <td>1.65</td>\n",
              "      <td>12565.0</td>\n",
              "      <td>Saudi Arabia</td>\n",
              "    </tr>\n",
              "    <tr>\n",
              "      <th>100817</th>\n",
              "      <td>544838</td>\n",
              "      <td>20781</td>\n",
              "      <td>GOLD EAR MUFF HEADPHONES</td>\n",
              "      <td>2</td>\n",
              "      <td>2011-02-24 10:34:00</td>\n",
              "      <td>5.49</td>\n",
              "      <td>12565.0</td>\n",
              "      <td>Saudi Arabia</td>\n",
              "    </tr>\n",
              "    <tr>\n",
              "      <th>100818</th>\n",
              "      <td>544838</td>\n",
              "      <td>22969</td>\n",
              "      <td>HOMEMADE JAM SCENTED CANDLES</td>\n",
              "      <td>12</td>\n",
              "      <td>2011-02-24 10:34:00</td>\n",
              "      <td>1.45</td>\n",
              "      <td>12565.0</td>\n",
              "      <td>Saudi Arabia</td>\n",
              "    </tr>\n",
              "  </tbody>\n",
              "</table>\n",
              "</div>\n",
              "      <button class=\"colab-df-convert\" onclick=\"convertToInteractive('df-778c81de-30d7-4e4c-afb7-c17804b5f614')\"\n",
              "              title=\"Convert this dataframe to an interactive table.\"\n",
              "              style=\"display:none;\">\n",
              "        \n",
              "  <svg xmlns=\"http://www.w3.org/2000/svg\" height=\"24px\"viewBox=\"0 0 24 24\"\n",
              "       width=\"24px\">\n",
              "    <path d=\"M0 0h24v24H0V0z\" fill=\"none\"/>\n",
              "    <path d=\"M18.56 5.44l.94 2.06.94-2.06 2.06-.94-2.06-.94-.94-2.06-.94 2.06-2.06.94zm-11 1L8.5 8.5l.94-2.06 2.06-.94-2.06-.94L8.5 2.5l-.94 2.06-2.06.94zm10 10l.94 2.06.94-2.06 2.06-.94-2.06-.94-.94-2.06-.94 2.06-2.06.94z\"/><path d=\"M17.41 7.96l-1.37-1.37c-.4-.4-.92-.59-1.43-.59-.52 0-1.04.2-1.43.59L10.3 9.45l-7.72 7.72c-.78.78-.78 2.05 0 2.83L4 21.41c.39.39.9.59 1.41.59.51 0 1.02-.2 1.41-.59l7.78-7.78 2.81-2.81c.8-.78.8-2.07 0-2.86zM5.41 20L4 18.59l7.72-7.72 1.47 1.35L5.41 20z\"/>\n",
              "  </svg>\n",
              "      </button>\n",
              "      \n",
              "  <style>\n",
              "    .colab-df-container {\n",
              "      display:flex;\n",
              "      flex-wrap:wrap;\n",
              "      gap: 12px;\n",
              "    }\n",
              "\n",
              "    .colab-df-convert {\n",
              "      background-color: #E8F0FE;\n",
              "      border: none;\n",
              "      border-radius: 50%;\n",
              "      cursor: pointer;\n",
              "      display: none;\n",
              "      fill: #1967D2;\n",
              "      height: 32px;\n",
              "      padding: 0 0 0 0;\n",
              "      width: 32px;\n",
              "    }\n",
              "\n",
              "    .colab-df-convert:hover {\n",
              "      background-color: #E2EBFA;\n",
              "      box-shadow: 0px 1px 2px rgba(60, 64, 67, 0.3), 0px 1px 3px 1px rgba(60, 64, 67, 0.15);\n",
              "      fill: #174EA6;\n",
              "    }\n",
              "\n",
              "    [theme=dark] .colab-df-convert {\n",
              "      background-color: #3B4455;\n",
              "      fill: #D2E3FC;\n",
              "    }\n",
              "\n",
              "    [theme=dark] .colab-df-convert:hover {\n",
              "      background-color: #434B5C;\n",
              "      box-shadow: 0px 1px 3px 1px rgba(0, 0, 0, 0.15);\n",
              "      filter: drop-shadow(0px 1px 2px rgba(0, 0, 0, 0.3));\n",
              "      fill: #FFFFFF;\n",
              "    }\n",
              "  </style>\n",
              "\n",
              "      <script>\n",
              "        const buttonEl =\n",
              "          document.querySelector('#df-778c81de-30d7-4e4c-afb7-c17804b5f614 button.colab-df-convert');\n",
              "        buttonEl.style.display =\n",
              "          google.colab.kernel.accessAllowed ? 'block' : 'none';\n",
              "\n",
              "        async function convertToInteractive(key) {\n",
              "          const element = document.querySelector('#df-778c81de-30d7-4e4c-afb7-c17804b5f614');\n",
              "          const dataTable =\n",
              "            await google.colab.kernel.invokeFunction('convertToInteractive',\n",
              "                                                     [key], {});\n",
              "          if (!dataTable) return;\n",
              "\n",
              "          const docLinkHtml = 'Like what you see? Visit the ' +\n",
              "            '<a target=\"_blank\" href=https://colab.research.google.com/notebooks/data_table.ipynb>data table notebook</a>'\n",
              "            + ' to learn more about interactive tables.';\n",
              "          element.innerHTML = '';\n",
              "          dataTable['output_type'] = 'display_data';\n",
              "          await google.colab.output.renderOutput(dataTable, element);\n",
              "          const docLink = document.createElement('div');\n",
              "          docLink.innerHTML = docLinkHtml;\n",
              "          element.appendChild(docLink);\n",
              "        }\n",
              "      </script>\n",
              "    </div>\n",
              "  </div>\n",
              "  "
            ]
          },
          "metadata": {},
          "execution_count": 55
        }
      ]
    },
    {
      "cell_type": "markdown",
      "source": [
        "1.Positively skewed (or right-skewed) distribution is a type of distribution in which most values are clustered around the left tail of the distribution while the right tail of the distribution is longer.hear mean>median>mode\n",
        "\n",
        "2.Negatively skewed (also known as left-skewed) distribution is a type of distribution in which more values are concentrated on the right side (tail) of the distribution graph while the left tail of the distribution graph is longer.hear mean<median<mode\n",
        "\n",
        "3.For symmetric graph mean=median=mode"
      ],
      "metadata": {
        "id": "rW3EGdyXwJKT"
      }
    },
    {
      "cell_type": "code",
      "source": [
        "#distribution of Quantity\n",
        "plt.figure(figsize=(15,6))\n",
        "plt.title('distribution of Quantity')\n",
        "sns.distplot(df['Quantity'],color=\"B\")"
      ],
      "metadata": {
        "colab": {
          "base_uri": "https://localhost:8080/",
          "height": 428
        },
        "id": "-sCS6O2Surtj",
        "outputId": "05718aff-e4f6-47dc-ec58-1c7a334e27a5"
      },
      "execution_count": null,
      "outputs": [
        {
          "output_type": "execute_result",
          "data": {
            "text/plain": [
              "<matplotlib.axes._subplots.AxesSubplot at 0x7f3606723460>"
            ]
          },
          "metadata": {},
          "execution_count": 56
        },
        {
          "output_type": "display_data",
          "data": {
            "text/plain": [
              "<Figure size 1080x432 with 1 Axes>"
            ],
            "image/png": "[encoded data removed]"
          },
          "metadata": {}
        }
      ]
    },
    {
      "cell_type": "code",
      "source": [
        "#applying log distribution on quantity\n",
        "plt.figure(figsize=(15,6))\n",
        "plt.title('log distribution of Quantity')\n",
        "sns.distplot(np.log(df['Quantity']),color=\"B\")"
      ],
      "metadata": {
        "colab": {
          "base_uri": "https://localhost:8080/",
          "height": 428
        },
        "id": "yt_uRpQ5urqk",
        "outputId": "c2d28e2e-7d66-4b26-c3a2-d7919c0a8a15"
      },
      "execution_count": null,
      "outputs": [
        {
          "output_type": "execute_result",
          "data": {
            "text/plain": [
              "<matplotlib.axes._subplots.AxesSubplot at 0x7f36068370d0>"
            ]
          },
          "metadata": {},
          "execution_count": 57
        },
        {
          "output_type": "display_data",
          "data": {
            "text/plain": [
              "<Figure size 1080x432 with 1 Axes>"
            ],
            "image/png": "[encoded data removed]"
          },
          "metadata": {}
        }
      ]
    },
    {
      "cell_type": "code",
      "source": [
        "#unique values of Quantity\n",
        "df['Quantity'].unique()"
      ],
      "metadata": {
        "colab": {
          "base_uri": "https://localhost:8080/"
        },
        "id": "6QlmgqPJwZpF",
        "outputId": "7110d4e2-1387-4b4b-d636-01b0a95bf40e"
      },
      "execution_count": null,
      "outputs": [
        {
          "output_type": "execute_result",
          "data": {
            "text/plain": [
              "array([    6,     8,     2,    32,     3,     4,    24,    12,    48,\n",
              "          18,    20,    36,    80,    64,    10,   120,    96,    23,\n",
              "           5,     1,    50,    40,   100,   192,   432,   144,   288,\n",
              "          16,     9,   128,    25,    30,    28,     7,    72,   200,\n",
              "         600,   480,    14,    11,    70,   252,    60,   216,   384,\n",
              "          27,   108,    52,    75,   270,    42,   240,    90,   320,\n",
              "          17,  1824,   204,    69,   160,  2880,  1400,    19,    39,\n",
              "          56,    13,  1440,    15,   720,   156,   324,    41,   402,\n",
              "         378,   150,   300,    22,    34,   408,   972,   208,  1008,\n",
              "          26,  1000,  1488,   250,  1394,   400,   110,    37,    78,\n",
              "          21,   272,    84,    47,  1728,    38,    53,    76,   576,\n",
              "          29,  2400,   500,   180,   960,  1296,   147,   168,   256,\n",
              "          54,    31,   860,  1010,  1356,  1284,   186,   114,   360,\n",
              "        1930,  2000,  3114,  1300,   670,   176,   648,    62, 74215,\n",
              "          89,    33,    46,   112,   456,   900,    45,   130,  2592,\n",
              "         420,   800,    35,  1200,   864,   504,  1056,  1500,   280,\n",
              "         407,   141,  3906,  1152,   198,   117,   125,    81,   768,\n",
              "          88,    43,   700,  2160,    55,   342,   304,   640,   220,\n",
              "         350,   312,   392,   330,   151,    44,   462,    66,   492,\n",
              "         273,    65,    85,  1350,   428,   336,   101,   132,   227,\n",
              "        2700,   222,   228,   246,   906,   756,   888,   552,   224,\n",
              "         738,   608,  4300,   276,    58,    98,    51,    74,  1600,\n",
              "         323,  1515,   660,   104,   264,   188,   588,   612,   152,\n",
              "          49,   430,   701,   828,   540,   696,   560,   121,   512,\n",
              "         291,  3186,    83,    87,    79,   109,   129,   261,   352,\n",
              "         102,   348,  1900,   157,   116,   968,   684,   824,   196,\n",
              "         124,   248,   410,   236,   230,   210,   448,   140,    86,\n",
              "         840,   450,    93,   494,    92,  1788,   624,   744,   416,\n",
              "         496,   396,   306,  1878,  1944,   666,   708,  1428,   852,\n",
              "        1412,   528,   183,  1540,   672,    67,    63,    94,   255,\n",
              "          57,   126,   468,  4800,   912,  1992,   136,  3000,   232,\n",
              "         832,   992,   630,  1020,  2100,   162,   234,   244, 12540,\n",
              "          95,   760,   139,   115,   774,  2040,  1120,    59,   490,\n",
              "         388,   620,  1404,   698, 80995])"
            ]
          },
          "metadata": {},
          "execution_count": 58
        }
      ]
    },
    {
      "cell_type": "code",
      "source": [
        "#Checking Data information\n",
        "df.info()"
      ],
      "metadata": {
        "colab": {
          "base_uri": "https://localhost:8080/"
        },
        "id": "chVT5X47wZmR",
        "outputId": "5264b1b2-3ddd-4c3d-c336-41e04b8ffca9"
      },
      "execution_count": null,
      "outputs": [
        {
          "output_type": "stream",
          "name": "stdout",
          "text": [
            "<class 'pandas.core.frame.DataFrame'>\n",
            "Int64Index: 392732 entries, 0 to 541908\n",
            "Data columns (total 8 columns):\n",
            " #   Column       Non-Null Count   Dtype         \n",
            "---  ------       --------------   -----         \n",
            " 0   InvoiceNo    392732 non-null  object        \n",
            " 1   StockCode    392732 non-null  object        \n",
            " 2   Description  392732 non-null  object        \n",
            " 3   Quantity     392732 non-null  int64         \n",
            " 4   InvoiceDate  392732 non-null  datetime64[ns]\n",
            " 5   UnitPrice    392732 non-null  float64       \n",
            " 6   CustomerID   392732 non-null  float64       \n",
            " 7   Country      392732 non-null  object        \n",
            "dtypes: datetime64[ns](1), float64(2), int64(1), object(4)\n",
            "memory usage: 27.0+ MB\n"
          ]
        }
      ]
    },
    {
      "cell_type": "code",
      "source": [
        "#visualizing distribution of unit price\n",
        "plt.figure(figsize=(15,6))\n",
        "plt.title('distribution of UnitPrice')\n",
        "sns.distplot(df['UnitPrice'],color=\"B\")"
      ],
      "metadata": {
        "colab": {
          "base_uri": "https://localhost:8080/",
          "height": 428
        },
        "id": "vjiQWe5AwZis",
        "outputId": "ac508f27-4d11-4494-f321-9ad95175eb8b"
      },
      "execution_count": null,
      "outputs": [
        {
          "output_type": "execute_result",
          "data": {
            "text/plain": [
              "<matplotlib.axes._subplots.AxesSubplot at 0x7f3600bd8e50>"
            ]
          },
          "metadata": {},
          "execution_count": 60
        },
        {
          "output_type": "display_data",
          "data": {
            "text/plain": [
              "<Figure size 1080x432 with 1 Axes>"
            ],
            "image/png": "[encoded data removed]"
          },
          "metadata": {}
        }
      ]
    },
    {
      "cell_type": "code",
      "source": [
        "#checking dataset\n",
        "df.head(5)"
      ],
      "metadata": {
        "colab": {
          "base_uri": "https://localhost:8080/",
          "height": 206
        },
        "id": "C5wyxTyLw2LD",
        "outputId": "7722bf3e-86e1-4e12-8ae6-ecb5e94a95b1"
      },
      "execution_count": null,
      "outputs": [
        {
          "output_type": "execute_result",
          "data": {
            "text/plain": [
              "  InvoiceNo StockCode                          Description  Quantity  \\\n",
              "0    536365    85123A   WHITE HANGING HEART T-LIGHT HOLDER         6   \n",
              "1    536365     71053                  WHITE METAL LANTERN         6   \n",
              "2    536365    84406B       CREAM CUPID HEARTS COAT HANGER         8   \n",
              "3    536365    84029G  KNITTED UNION FLAG HOT WATER BOTTLE         6   \n",
              "4    536365    84029E       RED WOOLLY HOTTIE WHITE HEART.         6   \n",
              "\n",
              "          InvoiceDate  UnitPrice  CustomerID         Country  \n",
              "0 2010-12-01 08:26:00       2.55     17850.0  United Kingdom  \n",
              "1 2010-12-01 08:26:00       3.39     17850.0  United Kingdom  \n",
              "2 2010-12-01 08:26:00       2.75     17850.0  United Kingdom  \n",
              "3 2010-12-01 08:26:00       3.39     17850.0  United Kingdom  \n",
              "4 2010-12-01 08:26:00       3.39     17850.0  United Kingdom  "
            ],
            "text/html": [
              "\n",
              "  <div id=\"df-e2d1b517-1cf2-4650-ba4b-93b25dcb8e78\">\n",
              "    <div class=\"colab-df-container\">\n",
              "      <div>\n",
              "<style scoped>\n",
              "    .dataframe tbody tr th:only-of-type {\n",
              "        vertical-align: middle;\n",
              "    }\n",
              "\n",
              "    .dataframe tbody tr th {\n",
              "        vertical-align: top;\n",
              "    }\n",
              "\n",
              "    .dataframe thead th {\n",
              "        text-align: right;\n",
              "    }\n",
              "</style>\n",
              "<table border=\"1\" class=\"dataframe\">\n",
              "  <thead>\n",
              "    <tr style=\"text-align: right;\">\n",
              "      <th></th>\n",
              "      <th>InvoiceNo</th>\n",
              "      <th>StockCode</th>\n",
              "      <th>Description</th>\n",
              "      <th>Quantity</th>\n",
              "      <th>InvoiceDate</th>\n",
              "      <th>UnitPrice</th>\n",
              "      <th>CustomerID</th>\n",
              "      <th>Country</th>\n",
              "    </tr>\n",
              "  </thead>\n",
              "  <tbody>\n",
              "    <tr>\n",
              "      <th>0</th>\n",
              "      <td>536365</td>\n",
              "      <td>85123A</td>\n",
              "      <td>WHITE HANGING HEART T-LIGHT HOLDER</td>\n",
              "      <td>6</td>\n",
              "      <td>2010-12-01 08:26:00</td>\n",
              "      <td>2.55</td>\n",
              "      <td>17850.0</td>\n",
              "      <td>United Kingdom</td>\n",
              "    </tr>\n",
              "    <tr>\n",
              "      <th>1</th>\n",
              "      <td>536365</td>\n",
              "      <td>71053</td>\n",
              "      <td>WHITE METAL LANTERN</td>\n",
              "      <td>6</td>\n",
              "      <td>2010-12-01 08:26:00</td>\n",
              "      <td>3.39</td>\n",
              "      <td>17850.0</td>\n",
              "      <td>United Kingdom</td>\n",
              "    </tr>\n",
              "    <tr>\n",
              "      <th>2</th>\n",
              "      <td>536365</td>\n",
              "      <td>84406B</td>\n",
              "      <td>CREAM CUPID HEARTS COAT HANGER</td>\n",
              "      <td>8</td>\n",
              "      <td>2010-12-01 08:26:00</td>\n",
              "      <td>2.75</td>\n",
              "      <td>17850.0</td>\n",
              "      <td>United Kingdom</td>\n",
              "    </tr>\n",
              "    <tr>\n",
              "      <th>3</th>\n",
              "      <td>536365</td>\n",
              "      <td>84029G</td>\n",
              "      <td>KNITTED UNION FLAG HOT WATER BOTTLE</td>\n",
              "      <td>6</td>\n",
              "      <td>2010-12-01 08:26:00</td>\n",
              "      <td>3.39</td>\n",
              "      <td>17850.0</td>\n",
              "      <td>United Kingdom</td>\n",
              "    </tr>\n",
              "    <tr>\n",
              "      <th>4</th>\n",
              "      <td>536365</td>\n",
              "      <td>84029E</td>\n",
              "      <td>RED WOOLLY HOTTIE WHITE HEART.</td>\n",
              "      <td>6</td>\n",
              "      <td>2010-12-01 08:26:00</td>\n",
              "      <td>3.39</td>\n",
              "      <td>17850.0</td>\n",
              "      <td>United Kingdom</td>\n",
              "    </tr>\n",
              "  </tbody>\n",
              "</table>\n",
              "</div>\n",
              "      <button class=\"colab-df-convert\" onclick=\"convertToInteractive('df-e2d1b517-1cf2-4650-ba4b-93b25dcb8e78')\"\n",
              "              title=\"Convert this dataframe to an interactive table.\"\n",
              "              style=\"display:none;\">\n",
              "        \n",
              "  <svg xmlns=\"http://www.w3.org/2000/svg\" height=\"24px\"viewBox=\"0 0 24 24\"\n",
              "       width=\"24px\">\n",
              "    <path d=\"M0 0h24v24H0V0z\" fill=\"none\"/>\n",
              "    <path d=\"M18.56 5.44l.94 2.06.94-2.06 2.06-.94-2.06-.94-.94-2.06-.94 2.06-2.06.94zm-11 1L8.5 8.5l.94-2.06 2.06-.94-2.06-.94L8.5 2.5l-.94 2.06-2.06.94zm10 10l.94 2.06.94-2.06 2.06-.94-2.06-.94-.94-2.06-.94 2.06-2.06.94z\"/><path d=\"M17.41 7.96l-1.37-1.37c-.4-.4-.92-.59-1.43-.59-.52 0-1.04.2-1.43.59L10.3 9.45l-7.72 7.72c-.78.78-.78 2.05 0 2.83L4 21.41c.39.39.9.59 1.41.59.51 0 1.02-.2 1.41-.59l7.78-7.78 2.81-2.81c.8-.78.8-2.07 0-2.86zM5.41 20L4 18.59l7.72-7.72 1.47 1.35L5.41 20z\"/>\n",
              "  </svg>\n",
              "      </button>\n",
              "      \n",
              "  <style>\n",
              "    .colab-df-container {\n",
              "      display:flex;\n",
              "      flex-wrap:wrap;\n",
              "      gap: 12px;\n",
              "    }\n",
              "\n",
              "    .colab-df-convert {\n",
              "      background-color: #E8F0FE;\n",
              "      border: none;\n",
              "      border-radius: 50%;\n",
              "      cursor: pointer;\n",
              "      display: none;\n",
              "      fill: #1967D2;\n",
              "      height: 32px;\n",
              "      padding: 0 0 0 0;\n",
              "      width: 32px;\n",
              "    }\n",
              "\n",
              "    .colab-df-convert:hover {\n",
              "      background-color: #E2EBFA;\n",
              "      box-shadow: 0px 1px 2px rgba(60, 64, 67, 0.3), 0px 1px 3px 1px rgba(60, 64, 67, 0.15);\n",
              "      fill: #174EA6;\n",
              "    }\n",
              "\n",
              "    [theme=dark] .colab-df-convert {\n",
              "      background-color: #3B4455;\n",
              "      fill: #D2E3FC;\n",
              "    }\n",
              "\n",
              "    [theme=dark] .colab-df-convert:hover {\n",
              "      background-color: #434B5C;\n",
              "      box-shadow: 0px 1px 3px 1px rgba(0, 0, 0, 0.15);\n",
              "      filter: drop-shadow(0px 1px 2px rgba(0, 0, 0, 0.3));\n",
              "      fill: #FFFFFF;\n",
              "    }\n",
              "  </style>\n",
              "\n",
              "      <script>\n",
              "        const buttonEl =\n",
              "          document.querySelector('#df-e2d1b517-1cf2-4650-ba4b-93b25dcb8e78 button.colab-df-convert');\n",
              "        buttonEl.style.display =\n",
              "          google.colab.kernel.accessAllowed ? 'block' : 'none';\n",
              "\n",
              "        async function convertToInteractive(key) {\n",
              "          const element = document.querySelector('#df-e2d1b517-1cf2-4650-ba4b-93b25dcb8e78');\n",
              "          const dataTable =\n",
              "            await google.colab.kernel.invokeFunction('convertToInteractive',\n",
              "                                                     [key], {});\n",
              "          if (!dataTable) return;\n",
              "\n",
              "          const docLinkHtml = 'Like what you see? Visit the ' +\n",
              "            '<a target=\"_blank\" href=https://colab.research.google.com/notebooks/data_table.ipynb>data table notebook</a>'\n",
              "            + ' to learn more about interactive tables.';\n",
              "          element.innerHTML = '';\n",
              "          dataTable['output_type'] = 'display_data';\n",
              "          await google.colab.output.renderOutput(dataTable, element);\n",
              "          const docLink = document.createElement('div');\n",
              "          docLink.innerHTML = docLinkHtml;\n",
              "          element.appendChild(docLink);\n",
              "        }\n",
              "      </script>\n",
              "    </div>\n",
              "  </div>\n",
              "  "
            ]
          },
          "metadata": {},
          "execution_count": 63
        }
      ]
    },
    {
      "cell_type": "markdown",
      "source": [
        "![download.png](data:image/png;base64,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)"
      ],
      "metadata": {
        "id": "VzcBhX_l0-jw"
      }
    },
    {
      "cell_type": "markdown",
      "source": [
        "# Feature engineering"
      ],
      "metadata": {
        "id": "y0AJIN-7w9Nm"
      }
    },
    {
      "cell_type": "code",
      "source": [
        "#extracting Invoice Date\n",
        "df[\"InvoiceDate\"] = pd.to_datetime(df[\"InvoiceDate\"], format=\"%Y-%m-%d %H:%M:%S\")"
      ],
      "metadata": {
        "id": "1T06RhNq1Jug"
      },
      "execution_count": 13,
      "outputs": []
    },
    {
      "cell_type": "markdown",
      "source": [
        "## Convert InvoiceDate columns into date time formate"
      ],
      "metadata": {
        "id": "Ir5NxdjU1SwE"
      }
    },
    {
      "cell_type": "code",
      "source": [
        "#getting Day as feature\n",
        "df['Day']=df['InvoiceDate'].dt.day_name()"
      ],
      "metadata": {
        "id": "Yb7M1JlB1YTh"
      },
      "execution_count": 14,
      "outputs": []
    },
    {
      "cell_type": "markdown",
      "source": [
        "## Create a new features Day from Invoicedate"
      ],
      "metadata": {
        "id": "uhKDW1431brH"
      }
    },
    {
      "cell_type": "code",
      "source": [
        "# Create some new features from Invoicedate like hours,year,month_num,day_num\n",
        "df[\"year\"] = df[\"InvoiceDate\"].apply(lambda x: x.year)\n",
        "df[\"month_num\"] = df[\"InvoiceDate\"].apply(lambda x: x.month)\n",
        "df[\"day_num\"] = df[\"InvoiceDate\"].apply(lambda x: x.day)\n",
        "df[\"hour\"] = df[\"InvoiceDate\"].apply(lambda x: x.hour)\n",
        "df[\"minute\"] = df[\"InvoiceDate\"].apply(lambda x: x.minute)"
      ],
      "metadata": {
        "id": "5jEK8oA11YQL"
      },
      "execution_count": 15,
      "outputs": []
    },
    {
      "cell_type": "code",
      "source": [
        "df.head(2)"
      ],
      "metadata": {
        "colab": {
          "base_uri": "https://localhost:8080/",
          "height": 191
        },
        "id": "fswQp3K_1YM4",
        "outputId": "1b8b577a-63d9-4956-859d-20e8dcadc63e"
      },
      "execution_count": null,
      "outputs": [
        {
          "output_type": "execute_result",
          "data": {
            "text/plain": [
              "  InvoiceNo StockCode                         Description  Quantity  \\\n",
              "0    536365    85123A  WHITE HANGING HEART T-LIGHT HOLDER         6   \n",
              "1    536365     71053                 WHITE METAL LANTERN         6   \n",
              "\n",
              "          InvoiceDate  UnitPrice  CustomerID         Country        Day  year  \\\n",
              "0 2010-12-01 08:26:00       2.55     17850.0  United Kingdom  Wednesday  2010   \n",
              "1 2010-12-01 08:26:00       3.39     17850.0  United Kingdom  Wednesday  2010   \n",
              "\n",
              "   month_num  day_num  hour  minute  \n",
              "0         12        1     8      26  \n",
              "1         12        1     8      26  "
            ],
            "text/html": [
              "\n",
              "  <div id=\"df-a3519d3f-94e2-47f5-b0f9-89f25816bbff\">\n",
              "    <div class=\"colab-df-container\">\n",
              "      <div>\n",
              "<style scoped>\n",
              "    .dataframe tbody tr th:only-of-type {\n",
              "        vertical-align: middle;\n",
              "    }\n",
              "\n",
              "    .dataframe tbody tr th {\n",
              "        vertical-align: top;\n",
              "    }\n",
              "\n",
              "    .dataframe thead th {\n",
              "        text-align: right;\n",
              "    }\n",
              "</style>\n",
              "<table border=\"1\" class=\"dataframe\">\n",
              "  <thead>\n",
              "    <tr style=\"text-align: right;\">\n",
              "      <th></th>\n",
              "      <th>InvoiceNo</th>\n",
              "      <th>StockCode</th>\n",
              "      <th>Description</th>\n",
              "      <th>Quantity</th>\n",
              "      <th>InvoiceDate</th>\n",
              "      <th>UnitPrice</th>\n",
              "      <th>CustomerID</th>\n",
              "      <th>Country</th>\n",
              "      <th>Day</th>\n",
              "      <th>year</th>\n",
              "      <th>month_num</th>\n",
              "      <th>day_num</th>\n",
              "      <th>hour</th>\n",
              "      <th>minute</th>\n",
              "    </tr>\n",
              "  </thead>\n",
              "  <tbody>\n",
              "    <tr>\n",
              "      <th>0</th>\n",
              "      <td>536365</td>\n",
              "      <td>85123A</td>\n",
              "      <td>WHITE HANGING HEART T-LIGHT HOLDER</td>\n",
              "      <td>6</td>\n",
              "      <td>2010-12-01 08:26:00</td>\n",
              "      <td>2.55</td>\n",
              "      <td>17850.0</td>\n",
              "      <td>United Kingdom</td>\n",
              "      <td>Wednesday</td>\n",
              "      <td>2010</td>\n",
              "      <td>12</td>\n",
              "      <td>1</td>\n",
              "      <td>8</td>\n",
              "      <td>26</td>\n",
              "    </tr>\n",
              "    <tr>\n",
              "      <th>1</th>\n",
              "      <td>536365</td>\n",
              "      <td>71053</td>\n",
              "      <td>WHITE METAL LANTERN</td>\n",
              "      <td>6</td>\n",
              "      <td>2010-12-01 08:26:00</td>\n",
              "      <td>3.39</td>\n",
              "      <td>17850.0</td>\n",
              "      <td>United Kingdom</td>\n",
              "      <td>Wednesday</td>\n",
              "      <td>2010</td>\n",
              "      <td>12</td>\n",
              "      <td>1</td>\n",
              "      <td>8</td>\n",
              "      <td>26</td>\n",
              "    </tr>\n",
              "  </tbody>\n",
              "</table>\n",
              "</div>\n",
              "      <button class=\"colab-df-convert\" onclick=\"convertToInteractive('df-a3519d3f-94e2-47f5-b0f9-89f25816bbff')\"\n",
              "              title=\"Convert this dataframe to an interactive table.\"\n",
              "              style=\"display:none;\">\n",
              "        \n",
              "  <svg xmlns=\"http://www.w3.org/2000/svg\" height=\"24px\"viewBox=\"0 0 24 24\"\n",
              "       width=\"24px\">\n",
              "    <path d=\"M0 0h24v24H0V0z\" fill=\"none\"/>\n",
              "    <path d=\"M18.56 5.44l.94 2.06.94-2.06 2.06-.94-2.06-.94-.94-2.06-.94 2.06-2.06.94zm-11 1L8.5 8.5l.94-2.06 2.06-.94-2.06-.94L8.5 2.5l-.94 2.06-2.06.94zm10 10l.94 2.06.94-2.06 2.06-.94-2.06-.94-.94-2.06-.94 2.06-2.06.94z\"/><path d=\"M17.41 7.96l-1.37-1.37c-.4-.4-.92-.59-1.43-.59-.52 0-1.04.2-1.43.59L10.3 9.45l-7.72 7.72c-.78.78-.78 2.05 0 2.83L4 21.41c.39.39.9.59 1.41.59.51 0 1.02-.2 1.41-.59l7.78-7.78 2.81-2.81c.8-.78.8-2.07 0-2.86zM5.41 20L4 18.59l7.72-7.72 1.47 1.35L5.41 20z\"/>\n",
              "  </svg>\n",
              "      </button>\n",
              "      \n",
              "  <style>\n",
              "    .colab-df-container {\n",
              "      display:flex;\n",
              "      flex-wrap:wrap;\n",
              "      gap: 12px;\n",
              "    }\n",
              "\n",
              "    .colab-df-convert {\n",
              "      background-color: #E8F0FE;\n",
              "      border: none;\n",
              "      border-radius: 50%;\n",
              "      cursor: pointer;\n",
              "      display: none;\n",
              "      fill: #1967D2;\n",
              "      height: 32px;\n",
              "      padding: 0 0 0 0;\n",
              "      width: 32px;\n",
              "    }\n",
              "\n",
              "    .colab-df-convert:hover {\n",
              "      background-color: #E2EBFA;\n",
              "      box-shadow: 0px 1px 2px rgba(60, 64, 67, 0.3), 0px 1px 3px 1px rgba(60, 64, 67, 0.15);\n",
              "      fill: #174EA6;\n",
              "    }\n",
              "\n",
              "    [theme=dark] .colab-df-convert {\n",
              "      background-color: #3B4455;\n",
              "      fill: #D2E3FC;\n",
              "    }\n",
              "\n",
              "    [theme=dark] .colab-df-convert:hover {\n",
              "      background-color: #434B5C;\n",
              "      box-shadow: 0px 1px 3px 1px rgba(0, 0, 0, 0.15);\n",
              "      filter: drop-shadow(0px 1px 2px rgba(0, 0, 0, 0.3));\n",
              "      fill: #FFFFFF;\n",
              "    }\n",
              "  </style>\n",
              "\n",
              "      <script>\n",
              "        const buttonEl =\n",
              "          document.querySelector('#df-a3519d3f-94e2-47f5-b0f9-89f25816bbff button.colab-df-convert');\n",
              "        buttonEl.style.display =\n",
              "          google.colab.kernel.accessAllowed ? 'block' : 'none';\n",
              "\n",
              "        async function convertToInteractive(key) {\n",
              "          const element = document.querySelector('#df-a3519d3f-94e2-47f5-b0f9-89f25816bbff');\n",
              "          const dataTable =\n",
              "            await google.colab.kernel.invokeFunction('convertToInteractive',\n",
              "                                                     [key], {});\n",
              "          if (!dataTable) return;\n",
              "\n",
              "          const docLinkHtml = 'Like what you see? Visit the ' +\n",
              "            '<a target=\"_blank\" href=https://colab.research.google.com/notebooks/data_table.ipynb>data table notebook</a>'\n",
              "            + ' to learn more about interactive tables.';\n",
              "          element.innerHTML = '';\n",
              "          dataTable['output_type'] = 'display_data';\n",
              "          await google.colab.output.renderOutput(dataTable, element);\n",
              "          const docLink = document.createElement('div');\n",
              "          docLink.innerHTML = docLinkHtml;\n",
              "          element.appendChild(docLink);\n",
              "        }\n",
              "      </script>\n",
              "    </div>\n",
              "  </div>\n",
              "  "
            ]
          },
          "metadata": {},
          "execution_count": 67
        }
      ]
    },
    {
      "cell_type": "markdown",
      "source": [
        "## Create some new features from Invoicedate like hours, year, month_num, day_num"
      ],
      "metadata": {
        "id": "Zc4MeOSs1q8n"
      }
    },
    {
      "cell_type": "code",
      "source": [
        "#creating new feature (TotalAmount)\n",
        "df['TotalAmount']=df['Quantity']*df['UnitPrice']"
      ],
      "metadata": {
        "id": "-BrX1UU11YGS"
      },
      "execution_count": 16,
      "outputs": []
    },
    {
      "cell_type": "markdown",
      "source": [
        "## Create a new features TotalAmount from product of Quantity and Unitprice"
      ],
      "metadata": {
        "id": "vG8mFnjj13q5"
      }
    },
    {
      "cell_type": "code",
      "source": [
        "# adding month name feature from Invoice Date feature\n",
        "df['Month']=df['InvoiceDate'].dt.month_name()"
      ],
      "metadata": {
        "id": "wGJVjH5I1X-k"
      },
      "execution_count": 17,
      "outputs": []
    },
    {
      "cell_type": "code",
      "source": [
        "#checking changes\n",
        "df.head(2)"
      ],
      "metadata": {
        "colab": {
          "base_uri": "https://localhost:8080/",
          "height": 225
        },
        "id": "YgEvLBH31t7e",
        "outputId": "9c424731-12b7-4891-a500-60712ccbf5c5"
      },
      "execution_count": null,
      "outputs": [
        {
          "output_type": "execute_result",
          "data": {
            "text/plain": [
              "  InvoiceNo StockCode                         Description  Quantity  \\\n",
              "0    536365    85123A  WHITE HANGING HEART T-LIGHT HOLDER         6   \n",
              "1    536365     71053                 WHITE METAL LANTERN         6   \n",
              "\n",
              "          InvoiceDate  UnitPrice  CustomerID         Country        Day  year  \\\n",
              "0 2010-12-01 08:26:00       2.55     17850.0  United Kingdom  Wednesday  2010   \n",
              "1 2010-12-01 08:26:00       3.39     17850.0  United Kingdom  Wednesday  2010   \n",
              "\n",
              "   month_num  day_num  hour  minute  TotalAmount     Month  \n",
              "0         12        1     8      26        15.30  December  \n",
              "1         12        1     8      26        20.34  December  "
            ],
            "text/html": [
              "\n",
              "  <div id=\"df-2041f779-3804-40b0-b88c-3d316e879306\">\n",
              "    <div class=\"colab-df-container\">\n",
              "      <div>\n",
              "<style scoped>\n",
              "    .dataframe tbody tr th:only-of-type {\n",
              "        vertical-align: middle;\n",
              "    }\n",
              "\n",
              "    .dataframe tbody tr th {\n",
              "        vertical-align: top;\n",
              "    }\n",
              "\n",
              "    .dataframe thead th {\n",
              "        text-align: right;\n",
              "    }\n",
              "</style>\n",
              "<table border=\"1\" class=\"dataframe\">\n",
              "  <thead>\n",
              "    <tr style=\"text-align: right;\">\n",
              "      <th></th>\n",
              "      <th>InvoiceNo</th>\n",
              "      <th>StockCode</th>\n",
              "      <th>Description</th>\n",
              "      <th>Quantity</th>\n",
              "      <th>InvoiceDate</th>\n",
              "      <th>UnitPrice</th>\n",
              "      <th>CustomerID</th>\n",
              "      <th>Country</th>\n",
              "      <th>Day</th>\n",
              "      <th>year</th>\n",
              "      <th>month_num</th>\n",
              "      <th>day_num</th>\n",
              "      <th>hour</th>\n",
              "      <th>minute</th>\n",
              "      <th>TotalAmount</th>\n",
              "      <th>Month</th>\n",
              "    </tr>\n",
              "  </thead>\n",
              "  <tbody>\n",
              "    <tr>\n",
              "      <th>0</th>\n",
              "      <td>536365</td>\n",
              "      <td>85123A</td>\n",
              "      <td>WHITE HANGING HEART T-LIGHT HOLDER</td>\n",
              "      <td>6</td>\n",
              "      <td>2010-12-01 08:26:00</td>\n",
              "      <td>2.55</td>\n",
              "      <td>17850.0</td>\n",
              "      <td>United Kingdom</td>\n",
              "      <td>Wednesday</td>\n",
              "      <td>2010</td>\n",
              "      <td>12</td>\n",
              "      <td>1</td>\n",
              "      <td>8</td>\n",
              "      <td>26</td>\n",
              "      <td>15.30</td>\n",
              "      <td>December</td>\n",
              "    </tr>\n",
              "    <tr>\n",
              "      <th>1</th>\n",
              "      <td>536365</td>\n",
              "      <td>71053</td>\n",
              "      <td>WHITE METAL LANTERN</td>\n",
              "      <td>6</td>\n",
              "      <td>2010-12-01 08:26:00</td>\n",
              "      <td>3.39</td>\n",
              "      <td>17850.0</td>\n",
              "      <td>United Kingdom</td>\n",
              "      <td>Wednesday</td>\n",
              "      <td>2010</td>\n",
              "      <td>12</td>\n",
              "      <td>1</td>\n",
              "      <td>8</td>\n",
              "      <td>26</td>\n",
              "      <td>20.34</td>\n",
              "      <td>December</td>\n",
              "    </tr>\n",
              "  </tbody>\n",
              "</table>\n",
              "</div>\n",
              "      <button class=\"colab-df-convert\" onclick=\"convertToInteractive('df-2041f779-3804-40b0-b88c-3d316e879306')\"\n",
              "              title=\"Convert this dataframe to an interactive table.\"\n",
              "              style=\"display:none;\">\n",
              "        \n",
              "  <svg xmlns=\"http://www.w3.org/2000/svg\" height=\"24px\"viewBox=\"0 0 24 24\"\n",
              "       width=\"24px\">\n",
              "    <path d=\"M0 0h24v24H0V0z\" fill=\"none\"/>\n",
              "    <path d=\"M18.56 5.44l.94 2.06.94-2.06 2.06-.94-2.06-.94-.94-2.06-.94 2.06-2.06.94zm-11 1L8.5 8.5l.94-2.06 2.06-.94-2.06-.94L8.5 2.5l-.94 2.06-2.06.94zm10 10l.94 2.06.94-2.06 2.06-.94-2.06-.94-.94-2.06-.94 2.06-2.06.94z\"/><path d=\"M17.41 7.96l-1.37-1.37c-.4-.4-.92-.59-1.43-.59-.52 0-1.04.2-1.43.59L10.3 9.45l-7.72 7.72c-.78.78-.78 2.05 0 2.83L4 21.41c.39.39.9.59 1.41.59.51 0 1.02-.2 1.41-.59l7.78-7.78 2.81-2.81c.8-.78.8-2.07 0-2.86zM5.41 20L4 18.59l7.72-7.72 1.47 1.35L5.41 20z\"/>\n",
              "  </svg>\n",
              "      </button>\n",
              "      \n",
              "  <style>\n",
              "    .colab-df-container {\n",
              "      display:flex;\n",
              "      flex-wrap:wrap;\n",
              "      gap: 12px;\n",
              "    }\n",
              "\n",
              "    .colab-df-convert {\n",
              "      background-color: #E8F0FE;\n",
              "      border: none;\n",
              "      border-radius: 50%;\n",
              "      cursor: pointer;\n",
              "      display: none;\n",
              "      fill: #1967D2;\n",
              "      height: 32px;\n",
              "      padding: 0 0 0 0;\n",
              "      width: 32px;\n",
              "    }\n",
              "\n",
              "    .colab-df-convert:hover {\n",
              "      background-color: #E2EBFA;\n",
              "      box-shadow: 0px 1px 2px rgba(60, 64, 67, 0.3), 0px 1px 3px 1px rgba(60, 64, 67, 0.15);\n",
              "      fill: #174EA6;\n",
              "    }\n",
              "\n",
              "    [theme=dark] .colab-df-convert {\n",
              "      background-color: #3B4455;\n",
              "      fill: #D2E3FC;\n",
              "    }\n",
              "\n",
              "    [theme=dark] .colab-df-convert:hover {\n",
              "      background-color: #434B5C;\n",
              "      box-shadow: 0px 1px 3px 1px rgba(0, 0, 0, 0.15);\n",
              "      filter: drop-shadow(0px 1px 2px rgba(0, 0, 0, 0.3));\n",
              "      fill: #FFFFFF;\n",
              "    }\n",
              "  </style>\n",
              "\n",
              "      <script>\n",
              "        const buttonEl =\n",
              "          document.querySelector('#df-2041f779-3804-40b0-b88c-3d316e879306 button.colab-df-convert');\n",
              "        buttonEl.style.display =\n",
              "          google.colab.kernel.accessAllowed ? 'block' : 'none';\n",
              "\n",
              "        async function convertToInteractive(key) {\n",
              "          const element = document.querySelector('#df-2041f779-3804-40b0-b88c-3d316e879306');\n",
              "          const dataTable =\n",
              "            await google.colab.kernel.invokeFunction('convertToInteractive',\n",
              "                                                     [key], {});\n",
              "          if (!dataTable) return;\n",
              "\n",
              "          const docLinkHtml = 'Like what you see? Visit the ' +\n",
              "            '<a target=\"_blank\" href=https://colab.research.google.com/notebooks/data_table.ipynb>data table notebook</a>'\n",
              "            + ' to learn more about interactive tables.';\n",
              "          element.innerHTML = '';\n",
              "          dataTable['output_type'] = 'display_data';\n",
              "          await google.colab.output.renderOutput(dataTable, element);\n",
              "          const docLink = document.createElement('div');\n",
              "          docLink.innerHTML = docLinkHtml;\n",
              "          element.appendChild(docLink);\n",
              "        }\n",
              "      </script>\n",
              "    </div>\n",
              "  </div>\n",
              "  "
            ]
          },
          "metadata": {},
          "execution_count": 70
        }
      ]
    },
    {
      "cell_type": "code",
      "source": [
        "#checking distribution of Total amount\n",
        "plt.figure(figsize=(15,6))\n",
        "plt.title('distribution of Amount')\n",
        "sns.distplot(df['TotalAmount'],color=\"B\")"
      ],
      "metadata": {
        "colab": {
          "base_uri": "https://localhost:8080/",
          "height": 428
        },
        "id": "veCW8XIZ1t4L",
        "outputId": "26a7d710-b624-4cc0-accf-aea6a768cf24"
      },
      "execution_count": null,
      "outputs": [
        {
          "output_type": "execute_result",
          "data": {
            "text/plain": [
              "<matplotlib.axes._subplots.AxesSubplot at 0x7f35fc1d3730>"
            ]
          },
          "metadata": {},
          "execution_count": 71
        },
        {
          "output_type": "display_data",
          "data": {
            "text/plain": [
              "<Figure size 1080x432 with 1 Axes>"
            ],
            "image/png": "[encoded data removed]"
          },
          "metadata": {}
        }
      ]
    },
    {
      "cell_type": "code",
      "source": [
        "#get more clear view of Total Amount\n",
        "df['TotalAmount'].describe()"
      ],
      "metadata": {
        "colab": {
          "base_uri": "https://localhost:8080/"
        },
        "id": "WZOewt0q1t1V",
        "outputId": "bf287f84-3728-4f6a-b5a2-2abd58284b6e"
      },
      "execution_count": null,
      "outputs": [
        {
          "output_type": "execute_result",
          "data": {
            "text/plain": [
              "count    392692.000000\n",
              "mean         22.631500\n",
              "std         311.099224\n",
              "min           0.001000\n",
              "25%           4.950000\n",
              "50%          12.450000\n",
              "75%          19.800000\n",
              "max      168469.600000\n",
              "Name: TotalAmount, dtype: float64"
            ]
          },
          "metadata": {},
          "execution_count": 72
        }
      ]
    },
    {
      "cell_type": "markdown",
      "source": [
        " It seems there can be outliers in Total Amount"
      ],
      "metadata": {
        "id": "o5llfer82Omi"
      }
    },
    {
      "cell_type": "code",
      "source": [
        "#visualizing Total amount\n",
        "plt.figure(figsize=(13,5))\n",
        "df['TotalAmount'].describe().plot()"
      ],
      "metadata": {
        "colab": {
          "base_uri": "https://localhost:8080/",
          "height": 340
        },
        "id": "vCN4f-Dt1txr",
        "outputId": "62f81c81-8ddd-4dc5-cfa9-4e7a966c3553"
      },
      "execution_count": null,
      "outputs": [
        {
          "output_type": "execute_result",
          "data": {
            "text/plain": [
              "<matplotlib.axes._subplots.AxesSubplot at 0x7f3607ce4c40>"
            ]
          },
          "metadata": {},
          "execution_count": 73
        },
        {
          "output_type": "display_data",
          "data": {
            "text/plain": [
              "<Figure size 936x360 with 1 Axes>"
            ],
            "image/png": "[encoded data removed]"
          },
          "metadata": {}
        }
      ]
    },
    {
      "cell_type": "code",
      "source": [
        "#counting which day has highest count\n",
        "day_df=df['Day'].value_counts().reset_index()\n",
        "day_df.rename(columns={'index': 'Day_Name'}, inplace=True)\n",
        "day_df.rename(columns={'Day': 'Count'}, inplace=True)\n",
        "day_df"
      ],
      "metadata": {
        "colab": {
          "base_uri": "https://localhost:8080/",
          "height": 237
        },
        "id": "4RUDK_qx1tuZ",
        "outputId": "cecc371d-38eb-432d-fea4-410e91ce55d4"
      },
      "execution_count": null,
      "outputs": [
        {
          "output_type": "execute_result",
          "data": {
            "text/plain": [
              "    Day_Name  Count\n",
              "0   Thursday  79243\n",
              "1  Wednesday  68040\n",
              "2    Tuesday  65744\n",
              "3     Monday  64231\n",
              "4     Sunday  61212\n",
              "5     Friday  54222"
            ],
            "text/html": [
              "\n",
              "  <div id=\"df-902a273f-7675-4f85-884e-50b8461a7aaa\">\n",
              "    <div class=\"colab-df-container\">\n",
              "      <div>\n",
              "<style scoped>\n",
              "    .dataframe tbody tr th:only-of-type {\n",
              "        vertical-align: middle;\n",
              "    }\n",
              "\n",
              "    .dataframe tbody tr th {\n",
              "        vertical-align: top;\n",
              "    }\n",
              "\n",
              "    .dataframe thead th {\n",
              "        text-align: right;\n",
              "    }\n",
              "</style>\n",
              "<table border=\"1\" class=\"dataframe\">\n",
              "  <thead>\n",
              "    <tr style=\"text-align: right;\">\n",
              "      <th></th>\n",
              "      <th>Day_Name</th>\n",
              "      <th>Count</th>\n",
              "    </tr>\n",
              "  </thead>\n",
              "  <tbody>\n",
              "    <tr>\n",
              "      <th>0</th>\n",
              "      <td>Thursday</td>\n",
              "      <td>79243</td>\n",
              "    </tr>\n",
              "    <tr>\n",
              "      <th>1</th>\n",
              "      <td>Wednesday</td>\n",
              "      <td>68040</td>\n",
              "    </tr>\n",
              "    <tr>\n",
              "      <th>2</th>\n",
              "      <td>Tuesday</td>\n",
              "      <td>65744</td>\n",
              "    </tr>\n",
              "    <tr>\n",
              "      <th>3</th>\n",
              "      <td>Monday</td>\n",
              "      <td>64231</td>\n",
              "    </tr>\n",
              "    <tr>\n",
              "      <th>4</th>\n",
              "      <td>Sunday</td>\n",
              "      <td>61212</td>\n",
              "    </tr>\n",
              "    <tr>\n",
              "      <th>5</th>\n",
              "      <td>Friday</td>\n",
              "      <td>54222</td>\n",
              "    </tr>\n",
              "  </tbody>\n",
              "</table>\n",
              "</div>\n",
              "      <button class=\"colab-df-convert\" onclick=\"convertToInteractive('df-902a273f-7675-4f85-884e-50b8461a7aaa')\"\n",
              "              title=\"Convert this dataframe to an interactive table.\"\n",
              "              style=\"display:none;\">\n",
              "        \n",
              "  <svg xmlns=\"http://www.w3.org/2000/svg\" height=\"24px\"viewBox=\"0 0 24 24\"\n",
              "       width=\"24px\">\n",
              "    <path d=\"M0 0h24v24H0V0z\" fill=\"none\"/>\n",
              "    <path d=\"M18.56 5.44l.94 2.06.94-2.06 2.06-.94-2.06-.94-.94-2.06-.94 2.06-2.06.94zm-11 1L8.5 8.5l.94-2.06 2.06-.94-2.06-.94L8.5 2.5l-.94 2.06-2.06.94zm10 10l.94 2.06.94-2.06 2.06-.94-2.06-.94-.94-2.06-.94 2.06-2.06.94z\"/><path d=\"M17.41 7.96l-1.37-1.37c-.4-.4-.92-.59-1.43-.59-.52 0-1.04.2-1.43.59L10.3 9.45l-7.72 7.72c-.78.78-.78 2.05 0 2.83L4 21.41c.39.39.9.59 1.41.59.51 0 1.02-.2 1.41-.59l7.78-7.78 2.81-2.81c.8-.78.8-2.07 0-2.86zM5.41 20L4 18.59l7.72-7.72 1.47 1.35L5.41 20z\"/>\n",
              "  </svg>\n",
              "      </button>\n",
              "      \n",
              "  <style>\n",
              "    .colab-df-container {\n",
              "      display:flex;\n",
              "      flex-wrap:wrap;\n",
              "      gap: 12px;\n",
              "    }\n",
              "\n",
              "    .colab-df-convert {\n",
              "      background-color: #E8F0FE;\n",
              "      border: none;\n",
              "      border-radius: 50%;\n",
              "      cursor: pointer;\n",
              "      display: none;\n",
              "      fill: #1967D2;\n",
              "      height: 32px;\n",
              "      padding: 0 0 0 0;\n",
              "      width: 32px;\n",
              "    }\n",
              "\n",
              "    .colab-df-convert:hover {\n",
              "      background-color: #E2EBFA;\n",
              "      box-shadow: 0px 1px 2px rgba(60, 64, 67, 0.3), 0px 1px 3px 1px rgba(60, 64, 67, 0.15);\n",
              "      fill: #174EA6;\n",
              "    }\n",
              "\n",
              "    [theme=dark] .colab-df-convert {\n",
              "      background-color: #3B4455;\n",
              "      fill: #D2E3FC;\n",
              "    }\n",
              "\n",
              "    [theme=dark] .colab-df-convert:hover {\n",
              "      background-color: #434B5C;\n",
              "      box-shadow: 0px 1px 3px 1px rgba(0, 0, 0, 0.15);\n",
              "      filter: drop-shadow(0px 1px 2px rgba(0, 0, 0, 0.3));\n",
              "      fill: #FFFFFF;\n",
              "    }\n",
              "  </style>\n",
              "\n",
              "      <script>\n",
              "        const buttonEl =\n",
              "          document.querySelector('#df-902a273f-7675-4f85-884e-50b8461a7aaa button.colab-df-convert');\n",
              "        buttonEl.style.display =\n",
              "          google.colab.kernel.accessAllowed ? 'block' : 'none';\n",
              "\n",
              "        async function convertToInteractive(key) {\n",
              "          const element = document.querySelector('#df-902a273f-7675-4f85-884e-50b8461a7aaa');\n",
              "          const dataTable =\n",
              "            await google.colab.kernel.invokeFunction('convertToInteractive',\n",
              "                                                     [key], {});\n",
              "          if (!dataTable) return;\n",
              "\n",
              "          const docLinkHtml = 'Like what you see? Visit the ' +\n",
              "            '<a target=\"_blank\" href=https://colab.research.google.com/notebooks/data_table.ipynb>data table notebook</a>'\n",
              "            + ' to learn more about interactive tables.';\n",
              "          element.innerHTML = '';\n",
              "          dataTable['output_type'] = 'display_data';\n",
              "          await google.colab.output.renderOutput(dataTable, element);\n",
              "          const docLink = document.createElement('div');\n",
              "          docLink.innerHTML = docLinkHtml;\n",
              "          element.appendChild(docLink);\n",
              "        }\n",
              "      </script>\n",
              "    </div>\n",
              "  </div>\n",
              "  "
            ]
          },
          "metadata": {},
          "execution_count": 74
        }
      ]
    },
    {
      "cell_type": "code",
      "source": [
        "# visualization of counting of 'which day has highest count'\n",
        "plt.figure(figsize=(13,5))\n",
        "plt.title('Day')\n",
        "sns.barplot(x='Day_Name',y='Count',data=day_df)"
      ],
      "metadata": {
        "colab": {
          "base_uri": "https://localhost:8080/",
          "height": 373
        },
        "id": "D4pWJ2kR2t0m",
        "outputId": "410d6ea6-7516-4669-e8b0-db861355870c"
      },
      "execution_count": null,
      "outputs": [
        {
          "output_type": "execute_result",
          "data": {
            "text/plain": [
              "<matplotlib.axes._subplots.AxesSubplot at 0x7f3603bd6610>"
            ]
          },
          "metadata": {},
          "execution_count": 75
        },
        {
          "output_type": "display_data",
          "data": {
            "text/plain": [
              "<Figure size 936x360 with 1 Axes>"
            ],
            "image/png": "[encoded data removed]"
          },
          "metadata": {}
        }
      ]
    },
    {
      "cell_type": "markdown",
      "source": [
        "Most of the customers have purchesed the items in Thursday, Wednesday and Tuesday"
      ],
      "metadata": {
        "id": "JpjjH54r2zxl"
      }
    },
    {
      "cell_type": "code",
      "source": [
        "#counting which month has highest count\n",
        "month_df=df['Month'].value_counts().reset_index()\n",
        "month_df.rename(columns={'index': 'Month_Name'}, inplace=True)\n",
        "month_df.rename(columns={'Month': 'Count'}, inplace=True)\n",
        "month_df"
      ],
      "metadata": {
        "colab": {
          "base_uri": "https://localhost:8080/",
          "height": 425
        },
        "id": "gvOhPlFR2txL",
        "outputId": "ab3928f3-f566-4fa8-a998-af79963361b5"
      },
      "execution_count": 18,
      "outputs": [
        {
          "output_type": "execute_result",
          "data": {
            "text/plain": [
              "   Month_Name  Count\n",
              "0    November  64545\n",
              "1     October  49557\n",
              "2    December  43464\n",
              "3   September  40030\n",
              "4         May  28322\n",
              "5        June  27185\n",
              "6       March  27177\n",
              "7      August  27013\n",
              "8        July  26827\n",
              "9       April  22644\n",
              "10    January  21232\n",
              "11   February  19928"
            ],
            "text/html": [
              "\n",
              "  <div id=\"df-1a2bc214-d7ea-4c47-be3b-c04a776e8acf\">\n",
              "    <div class=\"colab-df-container\">\n",
              "      <div>\n",
              "<style scoped>\n",
              "    .dataframe tbody tr th:only-of-type {\n",
              "        vertical-align: middle;\n",
              "    }\n",
              "\n",
              "    .dataframe tbody tr th {\n",
              "        vertical-align: top;\n",
              "    }\n",
              "\n",
              "    .dataframe thead th {\n",
              "        text-align: right;\n",
              "    }\n",
              "</style>\n",
              "<table border=\"1\" class=\"dataframe\">\n",
              "  <thead>\n",
              "    <tr style=\"text-align: right;\">\n",
              "      <th></th>\n",
              "      <th>Month_Name</th>\n",
              "      <th>Count</th>\n",
              "    </tr>\n",
              "  </thead>\n",
              "  <tbody>\n",
              "    <tr>\n",
              "      <th>0</th>\n",
              "      <td>November</td>\n",
              "      <td>64545</td>\n",
              "    </tr>\n",
              "    <tr>\n",
              "      <th>1</th>\n",
              "      <td>October</td>\n",
              "      <td>49557</td>\n",
              "    </tr>\n",
              "    <tr>\n",
              "      <th>2</th>\n",
              "      <td>December</td>\n",
              "      <td>43464</td>\n",
              "    </tr>\n",
              "    <tr>\n",
              "      <th>3</th>\n",
              "      <td>September</td>\n",
              "      <td>40030</td>\n",
              "    </tr>\n",
              "    <tr>\n",
              "      <th>4</th>\n",
              "      <td>May</td>\n",
              "      <td>28322</td>\n",
              "    </tr>\n",
              "    <tr>\n",
              "      <th>5</th>\n",
              "      <td>June</td>\n",
              "      <td>27185</td>\n",
              "    </tr>\n",
              "    <tr>\n",
              "      <th>6</th>\n",
              "      <td>March</td>\n",
              "      <td>27177</td>\n",
              "    </tr>\n",
              "    <tr>\n",
              "      <th>7</th>\n",
              "      <td>August</td>\n",
              "      <td>27013</td>\n",
              "    </tr>\n",
              "    <tr>\n",
              "      <th>8</th>\n",
              "      <td>July</td>\n",
              "      <td>26827</td>\n",
              "    </tr>\n",
              "    <tr>\n",
              "      <th>9</th>\n",
              "      <td>April</td>\n",
              "      <td>22644</td>\n",
              "    </tr>\n",
              "    <tr>\n",
              "      <th>10</th>\n",
              "      <td>January</td>\n",
              "      <td>21232</td>\n",
              "    </tr>\n",
              "    <tr>\n",
              "      <th>11</th>\n",
              "      <td>February</td>\n",
              "      <td>19928</td>\n",
              "    </tr>\n",
              "  </tbody>\n",
              "</table>\n",
              "</div>\n",
              "      <button class=\"colab-df-convert\" onclick=\"convertToInteractive('df-1a2bc214-d7ea-4c47-be3b-c04a776e8acf')\"\n",
              "              title=\"Convert this dataframe to an interactive table.\"\n",
              "              style=\"display:none;\">\n",
              "        \n",
              "  <svg xmlns=\"http://www.w3.org/2000/svg\" height=\"24px\"viewBox=\"0 0 24 24\"\n",
              "       width=\"24px\">\n",
              "    <path d=\"M0 0h24v24H0V0z\" fill=\"none\"/>\n",
              "    <path d=\"M18.56 5.44l.94 2.06.94-2.06 2.06-.94-2.06-.94-.94-2.06-.94 2.06-2.06.94zm-11 1L8.5 8.5l.94-2.06 2.06-.94-2.06-.94L8.5 2.5l-.94 2.06-2.06.94zm10 10l.94 2.06.94-2.06 2.06-.94-2.06-.94-.94-2.06-.94 2.06-2.06.94z\"/><path d=\"M17.41 7.96l-1.37-1.37c-.4-.4-.92-.59-1.43-.59-.52 0-1.04.2-1.43.59L10.3 9.45l-7.72 7.72c-.78.78-.78 2.05 0 2.83L4 21.41c.39.39.9.59 1.41.59.51 0 1.02-.2 1.41-.59l7.78-7.78 2.81-2.81c.8-.78.8-2.07 0-2.86zM5.41 20L4 18.59l7.72-7.72 1.47 1.35L5.41 20z\"/>\n",
              "  </svg>\n",
              "      </button>\n",
              "      \n",
              "  <style>\n",
              "    .colab-df-container {\n",
              "      display:flex;\n",
              "      flex-wrap:wrap;\n",
              "      gap: 12px;\n",
              "    }\n",
              "\n",
              "    .colab-df-convert {\n",
              "      background-color: #E8F0FE;\n",
              "      border: none;\n",
              "      border-radius: 50%;\n",
              "      cursor: pointer;\n",
              "      display: none;\n",
              "      fill: #1967D2;\n",
              "      height: 32px;\n",
              "      padding: 0 0 0 0;\n",
              "      width: 32px;\n",
              "    }\n",
              "\n",
              "    .colab-df-convert:hover {\n",
              "      background-color: #E2EBFA;\n",
              "      box-shadow: 0px 1px 2px rgba(60, 64, 67, 0.3), 0px 1px 3px 1px rgba(60, 64, 67, 0.15);\n",
              "      fill: #174EA6;\n",
              "    }\n",
              "\n",
              "    [theme=dark] .colab-df-convert {\n",
              "      background-color: #3B4455;\n",
              "      fill: #D2E3FC;\n",
              "    }\n",
              "\n",
              "    [theme=dark] .colab-df-convert:hover {\n",
              "      background-color: #434B5C;\n",
              "      box-shadow: 0px 1px 3px 1px rgba(0, 0, 0, 0.15);\n",
              "      filter: drop-shadow(0px 1px 2px rgba(0, 0, 0, 0.3));\n",
              "      fill: #FFFFFF;\n",
              "    }\n",
              "  </style>\n",
              "\n",
              "      <script>\n",
              "        const buttonEl =\n",
              "          document.querySelector('#df-1a2bc214-d7ea-4c47-be3b-c04a776e8acf button.colab-df-convert');\n",
              "        buttonEl.style.display =\n",
              "          google.colab.kernel.accessAllowed ? 'block' : 'none';\n",
              "\n",
              "        async function convertToInteractive(key) {\n",
              "          const element = document.querySelector('#df-1a2bc214-d7ea-4c47-be3b-c04a776e8acf');\n",
              "          const dataTable =\n",
              "            await google.colab.kernel.invokeFunction('convertToInteractive',\n",
              "                                                     [key], {});\n",
              "          if (!dataTable) return;\n",
              "\n",
              "          const docLinkHtml = 'Like what you see? Visit the ' +\n",
              "            '<a target=\"_blank\" href=https://colab.research.google.com/notebooks/data_table.ipynb>data table notebook</a>'\n",
              "            + ' to learn more about interactive tables.';\n",
              "          element.innerHTML = '';\n",
              "          dataTable['output_type'] = 'display_data';\n",
              "          await google.colab.output.renderOutput(dataTable, element);\n",
              "          const docLink = document.createElement('div');\n",
              "          docLink.innerHTML = docLinkHtml;\n",
              "          element.appendChild(docLink);\n",
              "        }\n",
              "      </script>\n",
              "    </div>\n",
              "  </div>\n",
              "  "
            ]
          },
          "metadata": {},
          "execution_count": 18
        }
      ]
    },
    {
      "cell_type": "code",
      "source": [
        "# visualization on the basis of months\n",
        "plt.figure(figsize=(13,8))\n",
        "plt.title('Month')\n",
        "sns.barplot(x='Month_Name',y='Count',data=month_df)"
      ],
      "metadata": {
        "colab": {
          "base_uri": "https://localhost:8080/",
          "height": 536
        },
        "id": "etF9Bi0V2trK",
        "outputId": "d5309688-4b34-4e0d-a51c-fde2e198834f"
      },
      "execution_count": null,
      "outputs": [
        {
          "output_type": "execute_result",
          "data": {
            "text/plain": [
              "<matplotlib.axes._subplots.AxesSubplot at 0x7f360824ef10>"
            ]
          },
          "metadata": {},
          "execution_count": 77
        },
        {
          "output_type": "display_data",
          "data": {
            "text/plain": [
              "<Figure size 936x576 with 1 Axes>"
            ],
            "image/png": "[encoded data removed]"
          },
          "metadata": {}
        }
      ]
    },
    {
      "cell_type": "markdown",
      "source": [
        "\n",
        "### most numbers of customers have purchesed the gifts in the month of November, October, December and September. Less numbers of customers have purchesed the gifts in the month of April, January and February"
      ],
      "metadata": {
        "id": "cHxA5kSN3K-C"
      }
    },
    {
      "cell_type": "code",
      "source": [
        "# Counting which hour is the most productive for us\n",
        "hour_df=df['hour'].value_counts().reset_index()\n",
        "hour_df.rename(columns={'index': 'Hour_Name'}, inplace=True)\n",
        "hour_df.rename(columns={'hour': 'Count'}, inplace=True)\n",
        "hour_df"
      ],
      "metadata": {
        "colab": {
          "base_uri": "https://localhost:8080/",
          "height": 519
        },
        "id": "TTsg7RoR3St3",
        "outputId": "986ce879-2148-4aaf-a1c4-1df60d479823"
      },
      "execution_count": 19,
      "outputs": [
        {
          "output_type": "execute_result",
          "data": {
            "text/plain": [
              "    Hour_Name  Count\n",
              "0          12  72069\n",
              "1          13  64031\n",
              "2          14  54127\n",
              "3          11  49092\n",
              "4          15  45372\n",
              "5          10  37999\n",
              "6          16  24093\n",
              "7           9  21945\n",
              "8          17  13072\n",
              "9           8   8691\n",
              "10         19   3322\n",
              "11         18   2929\n",
              "12         20    802\n",
              "13          7    379\n",
              "14          6      1"
            ],
            "text/html": [
              "\n",
              "  <div id=\"df-97d632d8-456d-4f53-842d-f40e51f93797\">\n",
              "    <div class=\"colab-df-container\">\n",
              "      <div>\n",
              "<style scoped>\n",
              "    .dataframe tbody tr th:only-of-type {\n",
              "        vertical-align: middle;\n",
              "    }\n",
              "\n",
              "    .dataframe tbody tr th {\n",
              "        vertical-align: top;\n",
              "    }\n",
              "\n",
              "    .dataframe thead th {\n",
              "        text-align: right;\n",
              "    }\n",
              "</style>\n",
              "<table border=\"1\" class=\"dataframe\">\n",
              "  <thead>\n",
              "    <tr style=\"text-align: right;\">\n",
              "      <th></th>\n",
              "      <th>Hour_Name</th>\n",
              "      <th>Count</th>\n",
              "    </tr>\n",
              "  </thead>\n",
              "  <tbody>\n",
              "    <tr>\n",
              "      <th>0</th>\n",
              "      <td>12</td>\n",
              "      <td>72069</td>\n",
              "    </tr>\n",
              "    <tr>\n",
              "      <th>1</th>\n",
              "      <td>13</td>\n",
              "      <td>64031</td>\n",
              "    </tr>\n",
              "    <tr>\n",
              "      <th>2</th>\n",
              "      <td>14</td>\n",
              "      <td>54127</td>\n",
              "    </tr>\n",
              "    <tr>\n",
              "      <th>3</th>\n",
              "      <td>11</td>\n",
              "      <td>49092</td>\n",
              "    </tr>\n",
              "    <tr>\n",
              "      <th>4</th>\n",
              "      <td>15</td>\n",
              "      <td>45372</td>\n",
              "    </tr>\n",
              "    <tr>\n",
              "      <th>5</th>\n",
              "      <td>10</td>\n",
              "      <td>37999</td>\n",
              "    </tr>\n",
              "    <tr>\n",
              "      <th>6</th>\n",
              "      <td>16</td>\n",
              "      <td>24093</td>\n",
              "    </tr>\n",
              "    <tr>\n",
              "      <th>7</th>\n",
              "      <td>9</td>\n",
              "      <td>21945</td>\n",
              "    </tr>\n",
              "    <tr>\n",
              "      <th>8</th>\n",
              "      <td>17</td>\n",
              "      <td>13072</td>\n",
              "    </tr>\n",
              "    <tr>\n",
              "      <th>9</th>\n",
              "      <td>8</td>\n",
              "      <td>8691</td>\n",
              "    </tr>\n",
              "    <tr>\n",
              "      <th>10</th>\n",
              "      <td>19</td>\n",
              "      <td>3322</td>\n",
              "    </tr>\n",
              "    <tr>\n",
              "      <th>11</th>\n",
              "      <td>18</td>\n",
              "      <td>2929</td>\n",
              "    </tr>\n",
              "    <tr>\n",
              "      <th>12</th>\n",
              "      <td>20</td>\n",
              "      <td>802</td>\n",
              "    </tr>\n",
              "    <tr>\n",
              "      <th>13</th>\n",
              "      <td>7</td>\n",
              "      <td>379</td>\n",
              "    </tr>\n",
              "    <tr>\n",
              "      <th>14</th>\n",
              "      <td>6</td>\n",
              "      <td>1</td>\n",
              "    </tr>\n",
              "  </tbody>\n",
              "</table>\n",
              "</div>\n",
              "      <button class=\"colab-df-convert\" onclick=\"convertToInteractive('df-97d632d8-456d-4f53-842d-f40e51f93797')\"\n",
              "              title=\"Convert this dataframe to an interactive table.\"\n",
              "              style=\"display:none;\">\n",
              "        \n",
              "  <svg xmlns=\"http://www.w3.org/2000/svg\" height=\"24px\"viewBox=\"0 0 24 24\"\n",
              "       width=\"24px\">\n",
              "    <path d=\"M0 0h24v24H0V0z\" fill=\"none\"/>\n",
              "    <path d=\"M18.56 5.44l.94 2.06.94-2.06 2.06-.94-2.06-.94-.94-2.06-.94 2.06-2.06.94zm-11 1L8.5 8.5l.94-2.06 2.06-.94-2.06-.94L8.5 2.5l-.94 2.06-2.06.94zm10 10l.94 2.06.94-2.06 2.06-.94-2.06-.94-.94-2.06-.94 2.06-2.06.94z\"/><path d=\"M17.41 7.96l-1.37-1.37c-.4-.4-.92-.59-1.43-.59-.52 0-1.04.2-1.43.59L10.3 9.45l-7.72 7.72c-.78.78-.78 2.05 0 2.83L4 21.41c.39.39.9.59 1.41.59.51 0 1.02-.2 1.41-.59l7.78-7.78 2.81-2.81c.8-.78.8-2.07 0-2.86zM5.41 20L4 18.59l7.72-7.72 1.47 1.35L5.41 20z\"/>\n",
              "  </svg>\n",
              "      </button>\n",
              "      \n",
              "  <style>\n",
              "    .colab-df-container {\n",
              "      display:flex;\n",
              "      flex-wrap:wrap;\n",
              "      gap: 12px;\n",
              "    }\n",
              "\n",
              "    .colab-df-convert {\n",
              "      background-color: #E8F0FE;\n",
              "      border: none;\n",
              "      border-radius: 50%;\n",
              "      cursor: pointer;\n",
              "      display: none;\n",
              "      fill: #1967D2;\n",
              "      height: 32px;\n",
              "      padding: 0 0 0 0;\n",
              "      width: 32px;\n",
              "    }\n",
              "\n",
              "    .colab-df-convert:hover {\n",
              "      background-color: #E2EBFA;\n",
              "      box-shadow: 0px 1px 2px rgba(60, 64, 67, 0.3), 0px 1px 3px 1px rgba(60, 64, 67, 0.15);\n",
              "      fill: #174EA6;\n",
              "    }\n",
              "\n",
              "    [theme=dark] .colab-df-convert {\n",
              "      background-color: #3B4455;\n",
              "      fill: #D2E3FC;\n",
              "    }\n",
              "\n",
              "    [theme=dark] .colab-df-convert:hover {\n",
              "      background-color: #434B5C;\n",
              "      box-shadow: 0px 1px 3px 1px rgba(0, 0, 0, 0.15);\n",
              "      filter: drop-shadow(0px 1px 2px rgba(0, 0, 0, 0.3));\n",
              "      fill: #FFFFFF;\n",
              "    }\n",
              "  </style>\n",
              "\n",
              "      <script>\n",
              "        const buttonEl =\n",
              "          document.querySelector('#df-97d632d8-456d-4f53-842d-f40e51f93797 button.colab-df-convert');\n",
              "        buttonEl.style.display =\n",
              "          google.colab.kernel.accessAllowed ? 'block' : 'none';\n",
              "\n",
              "        async function convertToInteractive(key) {\n",
              "          const element = document.querySelector('#df-97d632d8-456d-4f53-842d-f40e51f93797');\n",
              "          const dataTable =\n",
              "            await google.colab.kernel.invokeFunction('convertToInteractive',\n",
              "                                                     [key], {});\n",
              "          if (!dataTable) return;\n",
              "\n",
              "          const docLinkHtml = 'Like what you see? Visit the ' +\n",
              "            '<a target=\"_blank\" href=https://colab.research.google.com/notebooks/data_table.ipynb>data table notebook</a>'\n",
              "            + ' to learn more about interactive tables.';\n",
              "          element.innerHTML = '';\n",
              "          dataTable['output_type'] = 'display_data';\n",
              "          await google.colab.output.renderOutput(dataTable, element);\n",
              "          const docLink = document.createElement('div');\n",
              "          docLink.innerHTML = docLinkHtml;\n",
              "          element.appendChild(docLink);\n",
              "        }\n",
              "      </script>\n",
              "    </div>\n",
              "  </div>\n",
              "  "
            ]
          },
          "metadata": {},
          "execution_count": 19
        }
      ]
    },
    {
      "cell_type": "code",
      "source": [
        "# visualization of hours\n",
        "plt.figure(figsize=(13,8))\n",
        "plt.title('Hour')\n",
        "sns.barplot(x='Hour_Name',y='Count',data=hour_df)"
      ],
      "metadata": {
        "colab": {
          "base_uri": "https://localhost:8080/",
          "height": 536
        },
        "id": "tw6KzsJ83W-S",
        "outputId": "84204a52-5e31-4146-ac74-f823faf793ff"
      },
      "execution_count": null,
      "outputs": [
        {
          "output_type": "execute_result",
          "data": {
            "text/plain": [
              "<matplotlib.axes._subplots.AxesSubplot at 0x7f36091eb550>"
            ]
          },
          "metadata": {},
          "execution_count": 79
        },
        {
          "output_type": "display_data",
          "data": {
            "text/plain": [
              "<Figure size 936x576 with 1 Axes>"
            ],
            "image/png": "[encoded data removed]"
          },
          "metadata": {}
        }
      ]
    },
    {
      "cell_type": "markdown",
      "source": [
        "### From this graph we can see that in AfterNoon Time most of the customers have purchased items. 12th hour is the time where we can see most purchases."
      ],
      "metadata": {
        "id": "ghSh7s4r3dJc"
      }
    },
    {
      "cell_type": "code",
      "source": [
        "# clustering timings into a specific category\n",
        "def time_type(time):\n",
        "  if(time==6 or time==7 or time==8 or time==9 or time==10 or time==11):\n",
        "    return 'Morning'\n",
        "  elif(time==12 or time==13 or time==14 or time==15 or time==16 or time==17):\n",
        "    return 'Afternoon'\n",
        "  else:\n",
        "    return 'Evening'"
      ],
      "metadata": {
        "id": "0KZTr2Yo3ZL5"
      },
      "execution_count": 20,
      "outputs": []
    },
    {
      "cell_type": "code",
      "source": [
        "#processing time type\n",
        "df['Time_type']=df['hour'].apply(time_type)"
      ],
      "metadata": {
        "id": "0UeN581f3kLR"
      },
      "execution_count": 21,
      "outputs": []
    },
    {
      "cell_type": "code",
      "source": [
        "#visualization of purchases on the basis of time type\n",
        "plt.figure(figsize=(13,6))\n",
        "plt.title('Time_type')\n",
        "sns.countplot(x='Time_type',data=df)"
      ],
      "metadata": {
        "colab": {
          "base_uri": "https://localhost:8080/",
          "height": 428
        },
        "id": "vFJZFgnm3kST",
        "outputId": "adcb341a-0213-4719-a0bf-2b97273e228e"
      },
      "execution_count": null,
      "outputs": [
        {
          "output_type": "execute_result",
          "data": {
            "text/plain": [
              "<matplotlib.axes._subplots.AxesSubplot at 0x7f36021c3ca0>"
            ]
          },
          "metadata": {},
          "execution_count": 82
        },
        {
          "output_type": "display_data",
          "data": {
            "text/plain": [
              "<Figure size 936x432 with 1 Axes>"
            ],
            "image/png": "[encoded data removed]"
          },
          "metadata": {}
        }
      ]
    },
    {
      "cell_type": "markdown",
      "source": [
        "\n",
        "### Most of the customers have purchased the items in Afternoon, moderate numbers of customers have purchased the items in Morning and least numbers of customers have purchased the items in Evening"
      ],
      "metadata": {
        "id": "jvmk7uHO3vRO"
      }
    },
    {
      "cell_type": "code",
      "source": [
        "#taking look\n",
        "df.head(2)"
      ],
      "metadata": {
        "colab": {
          "base_uri": "https://localhost:8080/",
          "height": 280
        },
        "id": "9fz-bsXw3kgY",
        "outputId": "a003c3a3-7bb5-4422-9976-2321be13a6c5"
      },
      "execution_count": null,
      "outputs": [
        {
          "output_type": "execute_result",
          "data": {
            "text/plain": [
              "  InvoiceNo StockCode                         Description  Quantity  \\\n",
              "0    536365    85123A  WHITE HANGING HEART T-LIGHT HOLDER         6   \n",
              "1    536365     71053                 WHITE METAL LANTERN         6   \n",
              "\n",
              "          InvoiceDate  UnitPrice  CustomerID         Country        Day  year  \\\n",
              "0 2010-12-01 08:26:00       2.55     17850.0  United Kingdom  Wednesday  2010   \n",
              "1 2010-12-01 08:26:00       3.39     17850.0  United Kingdom  Wednesday  2010   \n",
              "\n",
              "   month_num  day_num  hour  minute  TotalAmount     Month Time_type  \n",
              "0         12        1     8      26        15.30  December   Morning  \n",
              "1         12        1     8      26        20.34  December   Morning  "
            ],
            "text/html": [
              "\n",
              "  <div id=\"df-f925c50a-077a-48ee-a103-381c1a670130\">\n",
              "    <div class=\"colab-df-container\">\n",
              "      <div>\n",
              "<style scoped>\n",
              "    .dataframe tbody tr th:only-of-type {\n",
              "        vertical-align: middle;\n",
              "    }\n",
              "\n",
              "    .dataframe tbody tr th {\n",
              "        vertical-align: top;\n",
              "    }\n",
              "\n",
              "    .dataframe thead th {\n",
              "        text-align: right;\n",
              "    }\n",
              "</style>\n",
              "<table border=\"1\" class=\"dataframe\">\n",
              "  <thead>\n",
              "    <tr style=\"text-align: right;\">\n",
              "      <th></th>\n",
              "      <th>InvoiceNo</th>\n",
              "      <th>StockCode</th>\n",
              "      <th>Description</th>\n",
              "      <th>Quantity</th>\n",
              "      <th>InvoiceDate</th>\n",
              "      <th>UnitPrice</th>\n",
              "      <th>CustomerID</th>\n",
              "      <th>Country</th>\n",
              "      <th>Day</th>\n",
              "      <th>year</th>\n",
              "      <th>month_num</th>\n",
              "      <th>day_num</th>\n",
              "      <th>hour</th>\n",
              "      <th>minute</th>\n",
              "      <th>TotalAmount</th>\n",
              "      <th>Month</th>\n",
              "      <th>Time_type</th>\n",
              "    </tr>\n",
              "  </thead>\n",
              "  <tbody>\n",
              "    <tr>\n",
              "      <th>0</th>\n",
              "      <td>536365</td>\n",
              "      <td>85123A</td>\n",
              "      <td>WHITE HANGING HEART T-LIGHT HOLDER</td>\n",
              "      <td>6</td>\n",
              "      <td>2010-12-01 08:26:00</td>\n",
              "      <td>2.55</td>\n",
              "      <td>17850.0</td>\n",
              "      <td>United Kingdom</td>\n",
              "      <td>Wednesday</td>\n",
              "      <td>2010</td>\n",
              "      <td>12</td>\n",
              "      <td>1</td>\n",
              "      <td>8</td>\n",
              "      <td>26</td>\n",
              "      <td>15.30</td>\n",
              "      <td>December</td>\n",
              "      <td>Morning</td>\n",
              "    </tr>\n",
              "    <tr>\n",
              "      <th>1</th>\n",
              "      <td>536365</td>\n",
              "      <td>71053</td>\n",
              "      <td>WHITE METAL LANTERN</td>\n",
              "      <td>6</td>\n",
              "      <td>2010-12-01 08:26:00</td>\n",
              "      <td>3.39</td>\n",
              "      <td>17850.0</td>\n",
              "      <td>United Kingdom</td>\n",
              "      <td>Wednesday</td>\n",
              "      <td>2010</td>\n",
              "      <td>12</td>\n",
              "      <td>1</td>\n",
              "      <td>8</td>\n",
              "      <td>26</td>\n",
              "      <td>20.34</td>\n",
              "      <td>December</td>\n",
              "      <td>Morning</td>\n",
              "    </tr>\n",
              "  </tbody>\n",
              "</table>\n",
              "</div>\n",
              "      <button class=\"colab-df-convert\" onclick=\"convertToInteractive('df-f925c50a-077a-48ee-a103-381c1a670130')\"\n",
              "              title=\"Convert this dataframe to an interactive table.\"\n",
              "              style=\"display:none;\">\n",
              "        \n",
              "  <svg xmlns=\"http://www.w3.org/2000/svg\" height=\"24px\"viewBox=\"0 0 24 24\"\n",
              "       width=\"24px\">\n",
              "    <path d=\"M0 0h24v24H0V0z\" fill=\"none\"/>\n",
              "    <path d=\"M18.56 5.44l.94 2.06.94-2.06 2.06-.94-2.06-.94-.94-2.06-.94 2.06-2.06.94zm-11 1L8.5 8.5l.94-2.06 2.06-.94-2.06-.94L8.5 2.5l-.94 2.06-2.06.94zm10 10l.94 2.06.94-2.06 2.06-.94-2.06-.94-.94-2.06-.94 2.06-2.06.94z\"/><path d=\"M17.41 7.96l-1.37-1.37c-.4-.4-.92-.59-1.43-.59-.52 0-1.04.2-1.43.59L10.3 9.45l-7.72 7.72c-.78.78-.78 2.05 0 2.83L4 21.41c.39.39.9.59 1.41.59.51 0 1.02-.2 1.41-.59l7.78-7.78 2.81-2.81c.8-.78.8-2.07 0-2.86zM5.41 20L4 18.59l7.72-7.72 1.47 1.35L5.41 20z\"/>\n",
              "  </svg>\n",
              "      </button>\n",
              "      \n",
              "  <style>\n",
              "    .colab-df-container {\n",
              "      display:flex;\n",
              "      flex-wrap:wrap;\n",
              "      gap: 12px;\n",
              "    }\n",
              "\n",
              "    .colab-df-convert {\n",
              "      background-color: #E8F0FE;\n",
              "      border: none;\n",
              "      border-radius: 50%;\n",
              "      cursor: pointer;\n",
              "      display: none;\n",
              "      fill: #1967D2;\n",
              "      height: 32px;\n",
              "      padding: 0 0 0 0;\n",
              "      width: 32px;\n",
              "    }\n",
              "\n",
              "    .colab-df-convert:hover {\n",
              "      background-color: #E2EBFA;\n",
              "      box-shadow: 0px 1px 2px rgba(60, 64, 67, 0.3), 0px 1px 3px 1px rgba(60, 64, 67, 0.15);\n",
              "      fill: #174EA6;\n",
              "    }\n",
              "\n",
              "    [theme=dark] .colab-df-convert {\n",
              "      background-color: #3B4455;\n",
              "      fill: #D2E3FC;\n",
              "    }\n",
              "\n",
              "    [theme=dark] .colab-df-convert:hover {\n",
              "      background-color: #434B5C;\n",
              "      box-shadow: 0px 1px 3px 1px rgba(0, 0, 0, 0.15);\n",
              "      filter: drop-shadow(0px 1px 2px rgba(0, 0, 0, 0.3));\n",
              "      fill: #FFFFFF;\n",
              "    }\n",
              "  </style>\n",
              "\n",
              "      <script>\n",
              "        const buttonEl =\n",
              "          document.querySelector('#df-f925c50a-077a-48ee-a103-381c1a670130 button.colab-df-convert');\n",
              "        buttonEl.style.display =\n",
              "          google.colab.kernel.accessAllowed ? 'block' : 'none';\n",
              "\n",
              "        async function convertToInteractive(key) {\n",
              "          const element = document.querySelector('#df-f925c50a-077a-48ee-a103-381c1a670130');\n",
              "          const dataTable =\n",
              "            await google.colab.kernel.invokeFunction('convertToInteractive',\n",
              "                                                     [key], {});\n",
              "          if (!dataTable) return;\n",
              "\n",
              "          const docLinkHtml = 'Like what you see? Visit the ' +\n",
              "            '<a target=\"_blank\" href=https://colab.research.google.com/notebooks/data_table.ipynb>data table notebook</a>'\n",
              "            + ' to learn more about interactive tables.';\n",
              "          element.innerHTML = '';\n",
              "          dataTable['output_type'] = 'display_data';\n",
              "          await google.colab.output.renderOutput(dataTable, element);\n",
              "          const docLink = document.createElement('div');\n",
              "          docLink.innerHTML = docLinkHtml;\n",
              "          element.appendChild(docLink);\n",
              "        }\n",
              "      </script>\n",
              "    </div>\n",
              "  </div>\n",
              "  "
            ]
          },
          "metadata": {},
          "execution_count": 83
        }
      ]
    },
    {
      "cell_type": "markdown",
      "source": [
        "# Create the RFM model (Recency, Frequency, Monetary value)"
      ],
      "metadata": {
        "id": "gJpNmCdb4A70"
      }
    },
    {
      "cell_type": "code",
      "source": [],
      "metadata": {
        "id": "DXyI03Lw3kn5"
      },
      "execution_count": null,
      "outputs": []
    },
    {
      "cell_type": "code",
      "source": [],
      "metadata": {
        "id": "EJ1XvCpL3kue"
      },
      "execution_count": null,
      "outputs": []
    },
    {
      "cell_type": "code",
      "source": [],
      "metadata": {
        "id": "UdMa4SFj3k8y"
      },
      "execution_count": null,
      "outputs": []
    },
    {
      "cell_type": "code",
      "source": [],
      "metadata": {
        "id": "pOzadDv63ZDs"
      },
      "execution_count": null,
      "outputs": []
    }
  ]
}